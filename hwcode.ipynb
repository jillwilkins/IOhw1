{
 "cells": [
  {
   "cell_type": "code",
   "execution_count": 4,
   "metadata": {},
   "outputs": [],
   "source": [
    "import pyblp\n",
    "import numpy as np\n",
    "import pandas as pd\n",
    "\n",
    "pyblp.options.digits = 2\n",
    "pyblp.options.verbose = False\n",
    "pyblp.__version__\n",
    "\n",
    "# Load the data\n",
    "sales_data = pd.read_csv(\"OTC_Sales.csv\")\n",
    "demo_data = pd.read_csv(\"OTC_Demographics.csv\")"
   ]
  },
  {
   "cell_type": "code",
   "execution_count": 13,
   "metadata": {},
   "outputs": [
    {
     "name": "stdout",
     "output_type": "stream",
     "text": [
      "Market Share of Product_1: 14.49%\n",
      "Market Share of Product_2: 17.97%\n",
      "Market Share of Product_3: 11.67%\n",
      "Market Share of Product_4: 11.88%\n",
      "Market Share of Product_5: 7.81%\n",
      "Market Share of Product_6: 3.59%\n",
      "Market Share of Product_7: 4.06%\n",
      "Market Share of Product_8: 3.48%\n",
      "Market Share of Product_9: 8.00%\n",
      "Market Share of Product_10: 9.37%\n",
      "Market Share of Product_11: 7.69%\n"
     ]
    }
   ],
   "source": [
    "#Identify the columns that contain the product sales for each product \n",
    "product_cols = sales_data.columns[3:14]\n",
    "\n",
    "#Now, well start the calculations for the Sum Stats Table. \n",
    "# --------------------------------------------------------------#\n",
    "#Market Shares \n",
    "# Convert all product columns to numeric only \n",
    "sales_data[product_cols] = sales_data[product_cols].apply(pd.to_numeric, errors='coerce')\n",
    "\n",
    "# Total sales\n",
    "total_sales_all_products = sales_data[product_cols].sum().sum()\n",
    "market_share = {}\n",
    "\n",
    "# Calculate market share for each product\n",
    "for product in product_cols:\n",
    "    total_sales_product = sales_data[product].sum()  # Sum of sales for the product\n",
    "    market_share[product] = total_sales_product / total_sales_all_products  # Calculate market share\n",
    "\n",
    "for i, product in enumerate(product_cols, 1):\n",
    "    print(f\"Market Share of Product_{i}: {market_share[product]:.2%}\")\n",
    "# --------------------------------------------------------------#\n"
   ]
  },
  {
   "cell_type": "code",
   "execution_count": 19,
   "metadata": {},
   "outputs": [
    {
     "name": "stdout",
     "output_type": "stream",
     "text": [
      "Unit Price of Product_1: $0.53\n",
      "Unit Price of Product_2: $0.43\n",
      "Unit Price of Product_3: $0.66\n",
      "Unit Price of Product_4: $0.65\n",
      "Unit Price of Product_5: $0.98\n",
      "Unit Price of Product_6: $2.14\n",
      "Unit Price of Product_7: $1.89\n",
      "Unit Price of Product_8: $2.21\n",
      "Unit Price of Product_9: $0.96\n",
      "Unit Price of Product_10: $0.82\n",
      "Unit Price of Product_11: $1.00\n"
     ]
    }
   ],
   "source": [
    "#Unit Price \n",
    "price_cols = sales_data.columns[15:26]\n",
    "unit_price = {}\n",
    "sales_data[price_cols] = sales_data[price_cols].apply(pd.to_numeric, errors='coerce')\n",
    "\n",
    "# Calculate unit price for each product\n",
    "for i, product in enumerate(product_cols, 1):\n",
    "    # We already have total sales for each product calculated above. \n",
    "    # Count total quantity sold for the product\n",
    "    total_quantity_product = sales_data[product].sum() \n",
    "    \n",
    "    # Get the average price across stores/weeks for each product \n",
    "    price_for_product = sales_data[price_cols[i-1]].mean()  \n",
    "    \n",
    "    # Calculate unit price (Total Sales / Total Quantity Sold)\n",
    "    unit_price[f\"Product_{i}\"] = total_sales_product / total_quantity_product\n",
    "\n",
    "for product, price in unit_price.items():\n",
    "    print(f\"Unit Price of {product}: ${price:.2f}\")\n"
   ]
  }
 ],
 "metadata": {
  "kernelspec": {
   "display_name": "Python 3",
   "language": "python",
   "name": "python3"
  },
  "language_info": {
   "codemirror_mode": {
    "name": "ipython",
    "version": 3
   },
   "file_extension": ".py",
   "mimetype": "text/x-python",
   "name": "python",
   "nbconvert_exporter": "python",
   "pygments_lexer": "ipython3",
   "version": "3.12.1"
  }
 },
 "nbformat": 4,
 "nbformat_minor": 2
}
