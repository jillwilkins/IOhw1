{
 "cells": [
  {
   "cell_type": "code",
   "execution_count": 4,
   "metadata": {},
   "outputs": [
    {
     "name": "stdout",
     "output_type": "stream",
     "text": [
      "   store  week  brand  sales_  count  price_  prom_  cost_\n",
      "0      2     1      1      16  14181    3.29    0.0   2.06\n",
      "1      2     2      1      12  13965    3.27    0.0   2.04\n",
      "2      2     3      1       6  13538    3.37    0.0   2.15\n",
      "3      2     4      1      12  13735    3.30    0.0   2.07\n",
      "4      2     5      1      10  13735    3.34    0.0   2.12\n"
     ]
    }
   ],
   "source": [
    "import pyblp\n",
    "import numpy as np\n",
    "import pandas as pd\n",
    "import statsmodels.api as sm\n",
    "\n",
    "pyblp.options.digits = 2\n",
    "pyblp.options.verbose = False\n",
    "pyblp.__version__\n",
    "\n",
    "# Load the data \n",
    "sales_data = pd.read_csv(\"OTC_Sales.csv\", header=0, sep='\\t')\n",
    "print(sales_data.head())\n",
    "\n",
    "demo_data = pd.read_csv(\"OTC_Demographics.csv\")"
   ]
  },
  {
   "cell_type": "code",
   "execution_count": 5,
   "metadata": {},
   "outputs": [
    {
     "name": "stdout",
     "output_type": "stream",
     "text": [
      "Market Share of Product_1: 14.88%\n",
      "Market Share of Product_2: 17.76%\n",
      "Market Share of Product_3: 11.65%\n",
      "Market Share of Product_4: 12.01%\n",
      "Market Share of Product_5: 7.71%\n",
      "Market Share of Product_6: 3.60%\n",
      "Market Share of Product_7: 4.33%\n",
      "Market Share of Product_8: 3.47%\n",
      "Market Share of Product_9: 8.16%\n",
      "Market Share of Product_10: 9.30%\n",
      "Market Share of Product_11: 7.13%\n"
     ]
    }
   ],
   "source": [
    "#QUESTION 1\n",
    "#Now, well start the calculations for the Sum Stats Table. \n",
    "#Market Shares \n",
    "#Note- for this table I want the market shares to be meaningful in terms of one another (headache medicine). \n",
    "# total sales per store-week \n",
    "sales_data[\"total_sales\"] = sales_data.groupby([\"store\", \"week\"])[\"sales_\"].transform(\"sum\")\n",
    "\n",
    "# market share: sales of product i / total sales in the store-week\n",
    "sales_data[\"market_share\"] = sales_data[\"sales_\"] / sales_data[\"total_sales\"]\n",
    "\n",
    "# Calculate market share for each product (brand)\n",
    "market_share = sales_data.groupby(\"brand\")[\"market_share\"].mean()\n",
    "\n",
    "# Print the market share for each product\n",
    "for brand, share in market_share.items():\n",
    "    print(f\"Market Share of Product_{brand}: {share:.2%}\")\n"
   ]
  },
  {
   "cell_type": "code",
   "execution_count": 6,
   "metadata": {},
   "outputs": [
    {
     "name": "stdout",
     "output_type": "stream",
     "text": [
      "Average Unit Price of Product_1: 3.42\n",
      "Average Unit Price of Product_2: 4.94\n",
      "Average Unit Price of Product_3: 7.02\n",
      "Average Unit Price of Product_4: 2.96\n",
      "Average Unit Price of Product_5: 5.15\n",
      "Average Unit Price of Product_6: 8.16\n",
      "Average Unit Price of Product_7: 2.67\n",
      "Average Unit Price of Product_8: 3.61\n",
      "Average Unit Price of Product_9: 3.97\n",
      "Average Unit Price of Product_10: 1.93\n",
      "Average Unit Price of Product_11: 4.45\n"
     ]
    }
   ],
   "source": [
    "#Unit Price (price per 1 bottle of a product)\n",
    "unit_price = sales_data.groupby(\"brand\")[\"price_\"].mean()\n",
    "\n",
    "# average unit price for each product \n",
    "for product, price in unit_price.items():\n",
    "    print(f\"Average Unit Price of Product_{product}: {price:.2f}\")\n"
   ]
  },
  {
   "cell_type": "code",
   "execution_count": 7,
   "metadata": {},
   "outputs": [
    {
     "name": "stdout",
     "output_type": "stream",
     "text": [
      "Price per 100 tablets of Product_1: 13.68\n",
      "Price per 100 tablets of Product_2: 9.88\n",
      "Price per 100 tablets of Product_3: 7.02\n",
      "Price per 100 tablets of Product_4: 11.85\n",
      "Price per 100 tablets of Product_5: 10.29\n",
      "Price per 100 tablets of Product_6: 8.16\n",
      "Price per 100 tablets of Product_7: 10.69\n",
      "Price per 100 tablets of Product_8: 7.21\n",
      "Price per 100 tablets of Product_9: 3.97\n",
      "Price per 100 tablets of Product_10: 3.86\n",
      "Price per 100 tablets of Product_11: 4.45\n"
     ]
    }
   ],
   "source": [
    "#price per 100 tablets \n",
    "price_per_100 = {}\n",
    "\n",
    "# Tablets per bottle for each product \n",
    "tablets_per_bottle = {\n",
    "    1: 25,  # Tylenol 25\n",
    "    2: 50,  # Tylenol 50\n",
    "    3: 100,  # Tylenol 100\n",
    "    4: 25,  # Advil 25\n",
    "    5: 50,  # Advil 50\n",
    "    6: 100,  # Advil 100\n",
    "    7: 25,  # Bayer 25\n",
    "    8: 50,  # Bayer 50\n",
    "    9: 100,  # Bayer 100\n",
    "    10: 50,  # Store Brand 50\n",
    "    11: 100  # Store Brand 100\n",
    "}\n",
    "\n",
    "# Calculate price per 100 tablets based on the number of tablets per bottle\n",
    "for product, price in unit_price.items():\n",
    "    if tablets_per_bottle[product] == 25:\n",
    "        price_per_100[product] = price * 4  \n",
    "    elif tablets_per_bottle[product] == 50:\n",
    "        price_per_100[product] = price * 2  \n",
    "    elif tablets_per_bottle[product] == 100:\n",
    "        price_per_100[product] = price  \n",
    "\n",
    "for product, price in price_per_100.items():\n",
    "    print(f\"Price per 100 tablets of Product_{product}: {price:.2f}\")\n"
   ]
  },
  {
   "cell_type": "code",
   "execution_count": 8,
   "metadata": {},
   "outputs": [
    {
     "name": "stdout",
     "output_type": "stream",
     "text": [
      "Average Wholesale Price of Product_1: 2.18\n",
      "Average Wholesale Price of Product_2: 3.67\n",
      "Average Wholesale Price of Product_3: 5.75\n",
      "Average Wholesale Price of Product_4: 2.03\n",
      "Average Wholesale Price of Product_5: 3.62\n",
      "Average Wholesale Price of Product_6: 6.09\n",
      "Average Wholesale Price of Product_7: 1.85\n",
      "Average Wholesale Price of Product_8: 2.42\n",
      "Average Wholesale Price of Product_9: 3.71\n",
      "Average Wholesale Price of Product_10: 0.91\n",
      "Average Wholesale Price of Product_11: 1.92\n"
     ]
    }
   ],
   "source": [
    "#unit wholesale price (this will be the avg cost of each product)\n",
    "unit_wholesale_price = sales_data.groupby(\"brand\")[\"cost_\"].mean()\n",
    "\n",
    "for product, cost in unit_wholesale_price.items():\n",
    "    print(f\"Average Wholesale Price of Product_{product}: {cost:.2f}\")\n"
   ]
  },
  {
   "cell_type": "code",
   "execution_count": 9,
   "metadata": {},
   "outputs": [
    {
     "name": "stdout",
     "output_type": "stream",
     "text": [
      "   store  week  brand  market_share  outside_share  logit_share\n",
      "0      2     1      1      0.001128       0.993724    -6.780774\n",
      "1      2     2      1      0.000859       0.993913    -7.053298\n",
      "2      2     3      1      0.000443       0.995199    -7.716683\n",
      "3      2     4      1      0.000874       0.993957    -7.036735\n",
      "4      2     5      1      0.000728       0.995268    -7.220374\n",
      "                            OLS Regression Results                            \n",
      "==============================================================================\n",
      "Dep. Variable:            logit_share   R-squared:                       0.016\n",
      "Model:                            OLS   Adj. R-squared:                  0.016\n",
      "Method:                 Least Squares   F-statistic:                     315.2\n",
      "Date:                Fri, 07 Feb 2025   Prob (F-statistic):          1.72e-136\n",
      "Time:                        22:25:58   Log-Likelihood:                -50711.\n",
      "No. Observations:               38544   AIC:                         1.014e+05\n",
      "Df Residuals:                   38541   BIC:                         1.015e+05\n",
      "Df Model:                           2                                         \n",
      "Covariance Type:            nonrobust                                         \n",
      "==============================================================================\n",
      "                 coef    std err          t      P>|t|      [0.025      0.975]\n",
      "------------------------------------------------------------------------------\n",
      "const         -7.7660      0.012   -627.345      0.000      -7.790      -7.742\n",
      "price_        -0.0514      0.003    -20.194      0.000      -0.056      -0.046\n",
      "prom_          0.2130      0.016     13.074      0.000       0.181       0.245\n",
      "==============================================================================\n",
      "Omnibus:                     2323.526   Durbin-Watson:                   0.558\n",
      "Prob(Omnibus):                  0.000   Jarque-Bera (JB):             2372.728\n",
      "Skew:                          -0.566   Prob(JB):                         0.00\n",
      "Kurtosis:                       2.558   Cond. No.                         17.7\n",
      "==============================================================================\n",
      "\n",
      "Notes:\n",
      "[1] Standard Errors assume that the covariance matrix of the errors is correctly specified.\n"
     ]
    }
   ],
   "source": [
    "# QUESTION 2\n",
    "# part a\n",
    "# To calculate market share Sij, im going to calculate the total market size. \n",
    "# Sij will be the number who buy product i in market j /market size (count)\n",
    "sales_data[\"market_share\"] = sales_data[\"sales_\"] / sales_data[\"count\"]\n",
    "\n",
    "# outside option share S0j = (any buyer - buyers of headache medicine) / market size\n",
    "sales_data[\"outside_share\"] = 1 - sales_data.groupby([\"store\", \"week\"])[\"market_share\"].transform(\"sum\")\n",
    "\n",
    "# log market shares (log(s_ij) - log(s_0j))\n",
    "sales_data[\"logit_share\"] = np.log(sales_data[\"market_share\"]) - np.log(sales_data[\"outside_share\"])\n",
    "\n",
    "print(sales_data[['store', 'week', 'brand', 'market_share', 'outside_share', 'logit_share']].head())\n",
    "\n",
    "# dependent variable (logit-transformed market share)\n",
    "y = sales_data[\"logit_share\"]\n",
    "\n",
    "# prodcut characteristics price and promotion\n",
    "X = sales_data[[\"price_\", \"prom_\"]]  \n",
    "X = sm.add_constant(X)  \n",
    "\n",
    "# OLS regression model\n",
    "ols_model = sm.OLS(y, X).fit()\n",
    "\n",
    "# Step 4: Print the summary of the OLS regression results\n",
    "print(ols_model.summary())\n"
   ]
  },
  {
   "cell_type": "code",
   "execution_count": 14,
   "metadata": {},
   "outputs": [
    {
     "name": "stdout",
     "output_type": "stream",
     "text": [
      "float64\n"
     ]
    }
   ],
   "source": [
    "# Convert 'product' to numeric (if it's meant to be 1-11)\n",
    "sales_data[\"product\"] = pd.to_numeric(sales_data[\"product\"], errors=\"coerce\")\n",
    "\n",
    "# Check if the conversion worked\n",
    "print(sales_data[\"product\"].dtype)  # Should now be int64 or float64"
   ]
  },
  {
   "cell_type": "code",
   "execution_count": 16,
   "metadata": {},
   "outputs": [
    {
     "name": "stdout",
     "output_type": "stream",
     "text": [
      "                            OLS Regression Results                            \n",
      "==============================================================================\n",
      "Dep. Variable:            logit_share   R-squared:                       0.016\n",
      "Model:                            OLS   Adj. R-squared:                  0.016\n",
      "Method:                 Least Squares   F-statistic:                     315.2\n",
      "Date:                Fri, 07 Feb 2025   Prob (F-statistic):          1.72e-136\n",
      "Time:                        22:43:57   Log-Likelihood:                -50711.\n",
      "No. Observations:               38544   AIC:                         1.014e+05\n",
      "Df Residuals:                   38541   BIC:                         1.015e+05\n",
      "Df Model:                           2                                         \n",
      "Covariance Type:            nonrobust                                         \n",
      "==============================================================================\n",
      "                 coef    std err          t      P>|t|      [0.025      0.975]\n",
      "------------------------------------------------------------------------------\n",
      "const         -7.7660      0.012   -627.345      0.000      -7.790      -7.742\n",
      "price_        -0.0514      0.003    -20.194      0.000      -0.056      -0.046\n",
      "prom_          0.2130      0.016     13.074      0.000       0.181       0.245\n",
      "==============================================================================\n",
      "Omnibus:                     2323.526   Durbin-Watson:                   0.558\n",
      "Prob(Omnibus):                  0.000   Jarque-Bera (JB):             2372.728\n",
      "Skew:                          -0.566   Prob(JB):                         0.00\n",
      "Kurtosis:                       2.558   Cond. No.                         17.7\n",
      "==============================================================================\n",
      "\n",
      "Notes:\n",
      "[1] Standard Errors assume that the covariance matrix of the errors is correctly specified.\n"
     ]
    }
   ],
   "source": [
    "\n",
    "# Drop NaNs in key columns\n",
    "# sales_data = sales_data.dropna(subset=[\"price_\", \"prom_\", \"logit_share\", \"product\"])\n",
    "\n",
    "# Step 1: Create product fixed effects using product column\n",
    "product_dummies = pd.get_dummies(sales_data[\"product\"], prefix=\"product\", drop_first=True)\n",
    "\n",
    "# Step 2: Define the dependent variable (logit-transformed market share)\n",
    "y = sales_data[\"logit_share\"]\n",
    "\n",
    "# Step 3: Define the independent variables (price, promotion, and product fixed effects)\n",
    "X = sales_data[[\"price_\", \"prom_\"]]  # Include price and promotion\n",
    "X = pd.concat([X, product_dummies], axis=1)  # Add product fixed effects (dummies)\n",
    "X = sm.add_constant(X)  # Add intercept\n",
    "\n",
    "# Step 4: Fit the OLS regression model\n",
    "ols_model = sm.OLS(y, X).fit()\n",
    "\n",
    "# Step 5: Print the regression results\n",
    "print(ols_model.summary())\n"
   ]
  }
 ],
 "metadata": {
  "kernelspec": {
   "display_name": "Python 3",
   "language": "python",
   "name": "python3"
  },
  "language_info": {
   "codemirror_mode": {
    "name": "ipython",
    "version": 3
   },
   "file_extension": ".py",
   "mimetype": "text/x-python",
   "name": "python",
   "nbconvert_exporter": "python",
   "pygments_lexer": "ipython3",
   "version": "3.12.1"
  }
 },
 "nbformat": 4,
 "nbformat_minor": 2
}
