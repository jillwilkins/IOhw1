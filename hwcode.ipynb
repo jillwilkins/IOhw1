{
 "cells": [
  {
   "cell_type": "code",
   "execution_count": 2,
   "metadata": {},
   "outputs": [],
   "source": [
    "import pyblp\n",
    "import numpy as np\n",
    "import pandas as pd\n",
    "\n",
    "pyblp.options.digits = 2\n",
    "pyblp.options.verbose = False\n",
    "pyblp.__version__\n",
    "\n",
    "# Load the data\n",
    "sales_data = pd.read_csv(\"OTC_Sales.csv\")\n",
    "demo_data = pd.read_csv(\"OTC_Demographics.csv\")"
   ]
  },
  {
   "cell_type": "code",
   "execution_count": 3,
   "metadata": {},
   "outputs": [
    {
     "name": "stdout",
     "output_type": "stream",
     "text": [
      "Market Share of Product_1: 14.49%\n",
      "Market Share of Product_2: 17.97%\n",
      "Market Share of Product_3: 11.67%\n",
      "Market Share of Product_4: 11.88%\n",
      "Market Share of Product_5: 7.81%\n",
      "Market Share of Product_6: 3.59%\n",
      "Market Share of Product_7: 4.06%\n",
      "Market Share of Product_8: 3.48%\n",
      "Market Share of Product_9: 8.00%\n",
      "Market Share of Product_10: 9.37%\n",
      "Market Share of Product_11: 7.69%\n"
     ]
    }
   ],
   "source": [
    "#Identify the columns that contain the product sales for each product \n",
    "product_cols = sales_data.columns[3:14]\n",
    "\n",
    "#Now, well start the calculations for the Sum Stats Table. \n",
    "# --------------------------------------------------------------#\n",
    "#Market Shares \n",
    "# Convert all product columns to numeric only \n",
    "sales_data[product_cols] = sales_data[product_cols].apply(pd.to_numeric, errors='coerce')\n",
    "\n",
    "# Total sales\n",
    "total_sales_all_products = sales_data[product_cols].sum().sum()\n",
    "market_share = {}\n",
    "\n",
    "# Calculate market share for each product\n",
    "for product in product_cols:\n",
    "    total_sales_product = sales_data[product].sum()  # Sum of sales for the product\n",
    "    market_share[product] = total_sales_product / total_sales_all_products  # Calculate market share\n",
    "\n",
    "for i, product in enumerate(product_cols, 1):\n",
    "    print(f\"Market Share of Product_{i}: {market_share[product]:.2%}\")\n",
    "# --------------------------------------------------------------#\n"
   ]
  },
  {
   "cell_type": "code",
   "execution_count": 6,
   "metadata": {},
   "outputs": [
    {
     "name": "stdout",
     "output_type": "stream",
     "text": [
      "Average Unit Price of Product_1: 4.95\n",
      "Average Unit Price of Product_2: 7.03\n",
      "Average Unit Price of Product_3: 2.97\n",
      "Average Unit Price of Product_4: 5.15\n",
      "Average Unit Price of Product_5: 8.16\n",
      "Average Unit Price of Product_6: 2.67\n",
      "Average Unit Price of Product_7: 3.62\n",
      "Average Unit Price of Product_8: 3.97\n",
      "Average Unit Price of Product_9: 1.94\n",
      "Average Unit Price of Product_10: 4.43\n",
      "Average Unit Price of Product_11: 2.19\n"
     ]
    }
   ],
   "source": [
    "#Unit Price (price per 1 bottle of a product)\n",
    "price_cols = sales_data.columns[15:26]\n",
    "unit_price = {}\n",
    "sales_data[price_cols] = sales_data[price_cols].apply(pd.to_numeric, errors='coerce')\n",
    "\n",
    "unit_price = sales_data[price_cols].mean()\n",
    "for i, product in enumerate(price_cols, 1):\n",
    "    print(f\"Average Unit Price of Product_{i}: {unit_price[product]:.2f}\")\n",
    "\n",
    "\n"
   ]
  },
  {
   "cell_type": "code",
   "execution_count": 10,
   "metadata": {},
   "outputs": [
    {
     "name": "stdout",
     "output_type": "stream",
     "text": [
      "Price per 100 tablets of Product_1: 19.79\n",
      "Price per 100 tablets of Product_2: 14.06\n",
      "Price per 100 tablets of Product_3: 2.97\n",
      "Price per 100 tablets of Product_4: 20.58\n",
      "Price per 100 tablets of Product_5: 16.32\n",
      "Price per 100 tablets of Product_6: 2.67\n",
      "Price per 100 tablets of Product_7: 14.48\n",
      "Price per 100 tablets of Product_8: 7.94\n",
      "Price per 100 tablets of Product_9: 1.94\n",
      "Price per 100 tablets of Product_10: 8.85\n",
      "Price per 100 tablets of Product_11: 2.19\n"
     ]
    }
   ],
   "source": [
    "#price per 100 tablets \n",
    "price_per_100 = {}\n",
    "\n",
    "#load in the number of tablets per product\n",
    "tablets_per_bottle = {\n",
    "    1: 25, 2: 50, 3: 100,  # Tylenol\n",
    "    4: 25, 5: 50, 6: 100,  # Advil\n",
    "    7: 25, 8: 50, 9: 100,  # Bayer\n",
    "    10: 50, 11: 100        # Store Brand\n",
    "}\n",
    "\n",
    "for i in range(1, 12):  # Products 1 to 11\n",
    "    price_column = price_cols[i-1]  # Use the existing list of price column names\n",
    "    price_per_100[i] = (unit_price[price_column] / tablets_per_bottle[i]) * 100\n",
    "\n",
    "for product, price in price_per_100.items():\n",
    "    print(f\"Price per 100 tablets of Product_{product}: {price:.2f}\")\n"
   ]
  },
  {
   "cell_type": "code",
   "execution_count": 12,
   "metadata": {},
   "outputs": [
    {
     "name": "stdout",
     "output_type": "stream",
     "text": [
      "Average Unit Wholesale Price of Product_1: 3.68\n",
      "Average Unit Wholesale Price of Product_2: 5.77\n",
      "Average Unit Wholesale Price of Product_3: 2.03\n",
      "Average Unit Wholesale Price of Product_4: 3.63\n",
      "Average Unit Wholesale Price of Product_5: 6.10\n",
      "Average Unit Wholesale Price of Product_6: 1.85\n",
      "Average Unit Wholesale Price of Product_7: 2.44\n",
      "Average Unit Wholesale Price of Product_8: 3.71\n",
      "Average Unit Wholesale Price of Product_9: 0.91\n",
      "Average Unit Wholesale Price of Product_10: 1.91\n",
      "Average Unit Wholesale Price of Product_11: 0.03\n"
     ]
    }
   ],
   "source": [
    "#unit wholesale price (this will be the avg cost of each product)\n",
    "unit_price_wholesale = {}\n",
    "cost_cols = sales_data.columns[26:37]\n",
    "sales_data[cost_cols] = sales_data[cost_cols].apply(pd.to_numeric, errors='coerce')\n",
    "\n",
    "unit_price_wholesale = sales_data[cost_cols].mean()\n",
    "\n",
    "for i, product in enumerate(cost_cols, 1):\n",
    "    print(f\"Average Unit Wholesale Price of Product_{i}: {unit_price_wholesale[product]:.2f}\")"
   ]
  }
 ],
 "metadata": {
  "kernelspec": {
   "display_name": "Python 3",
   "language": "python",
   "name": "python3"
  },
  "language_info": {
   "codemirror_mode": {
    "name": "ipython",
    "version": 3
   },
   "file_extension": ".py",
   "mimetype": "text/x-python",
   "name": "python",
   "nbconvert_exporter": "python",
   "pygments_lexer": "ipython3",
   "version": "3.12.1"
  }
 },
 "nbformat": 4,
 "nbformat_minor": 2
}
