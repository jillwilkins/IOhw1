{
 "cells": [
  {
   "cell_type": "code",
   "execution_count": 1,
   "metadata": {},
   "outputs": [
    {
     "name": "stdout",
     "output_type": "stream",
     "text": [
      "   store  week  brand  sales_  count  price_  prom_  cost_\n",
      "0      2     1      1      16  14181    3.29    0.0   2.06\n",
      "1      2     2      1      12  13965    3.27    0.0   2.04\n",
      "2      2     3      1       6  13538    3.37    0.0   2.15\n",
      "3      2     4      1      12  13735    3.30    0.0   2.07\n",
      "4      2     5      1      10  13735    3.34    0.0   2.12\n",
      "   store      educ     income\n",
      "0      2  0.248935  10.553210\n",
      "1      5  0.321226  10.922370\n",
      "2      8  0.095173  10.597010\n",
      "3      9  0.222172  10.787150\n",
      "4     12  0.253413   9.996659\n"
     ]
    }
   ],
   "source": [
    "import pyblp\n",
    "import numpy as np\n",
    "import pandas as pd\n",
    "import statsmodels.api as sm\n",
    "\n",
    "pyblp.options.digits = 2\n",
    "pyblp.options.verbose = False\n",
    "pyblp.__version__\n",
    "\n",
    "# Load the data \n",
    "sales_data = pd.read_csv(\"OTC_Sales.csv\", header=0, sep='\\t')\n",
    "print(sales_data.head())\n",
    "\n",
    "demo_data = pd.read_csv(\"OTC_Demographics.csv\", header=1)\n",
    "print(demo_data.head())"
   ]
  },
  {
   "cell_type": "code",
   "execution_count": 2,
   "metadata": {},
   "outputs": [
    {
     "name": "stdout",
     "output_type": "stream",
     "text": [
      "Market Share of Product_1: 14.88%\n",
      "Market Share of Product_2: 17.76%\n",
      "Market Share of Product_3: 11.65%\n",
      "Market Share of Product_4: 12.01%\n",
      "Market Share of Product_5: 7.71%\n",
      "Market Share of Product_6: 3.60%\n",
      "Market Share of Product_7: 4.33%\n",
      "Market Share of Product_8: 3.47%\n",
      "Market Share of Product_9: 8.16%\n",
      "Market Share of Product_10: 9.30%\n",
      "Market Share of Product_11: 7.13%\n"
     ]
    }
   ],
   "source": [
    "#QUESTION 1\n",
    "#Now, well start the calculations for the Sum Stats Table. \n",
    "#Market Shares \n",
    "#Note- for this table I want the market shares to be meaningful in terms of one another (headache medicine). \n",
    "# total sales per store-week \n",
    "sales_data[\"total_sales\"] = sales_data.groupby([\"store\", \"week\"])[\"sales_\"].transform(\"sum\")\n",
    "\n",
    "# market share: sales of product i / total sales in the store-week\n",
    "sales_data[\"market_share\"] = sales_data[\"sales_\"] / sales_data[\"total_sales\"]\n",
    "\n",
    "# Calculate market share for each product (brand)\n",
    "market_share = sales_data.groupby(\"brand\")[\"market_share\"].mean()\n",
    "\n",
    "# Print the market share for each product\n",
    "for brand, share in market_share.items():\n",
    "    print(f\"Market Share of Product_{brand}: {share:.2%}\")\n"
   ]
  },
  {
   "cell_type": "code",
   "execution_count": 3,
   "metadata": {},
   "outputs": [
    {
     "name": "stdout",
     "output_type": "stream",
     "text": [
      "Average Unit Price of Product_1: 3.42\n",
      "Average Unit Price of Product_2: 4.94\n",
      "Average Unit Price of Product_3: 7.02\n",
      "Average Unit Price of Product_4: 2.96\n",
      "Average Unit Price of Product_5: 5.15\n",
      "Average Unit Price of Product_6: 8.16\n",
      "Average Unit Price of Product_7: 2.67\n",
      "Average Unit Price of Product_8: 3.61\n",
      "Average Unit Price of Product_9: 3.97\n",
      "Average Unit Price of Product_10: 1.93\n",
      "Average Unit Price of Product_11: 4.45\n"
     ]
    }
   ],
   "source": [
    "#Unit Price (price per 1 bottle of a product)\n",
    "unit_price = sales_data.groupby(\"brand\")[\"price_\"].mean()\n",
    "\n",
    "# average unit price for each product \n",
    "for product, price in unit_price.items():\n",
    "    print(f\"Average Unit Price of Product_{product}: {price:.2f}\")\n"
   ]
  },
  {
   "cell_type": "code",
   "execution_count": 4,
   "metadata": {},
   "outputs": [
    {
     "name": "stdout",
     "output_type": "stream",
     "text": [
      "Price per 100 tablets of Product_1: 13.68\n",
      "Price per 100 tablets of Product_2: 9.88\n",
      "Price per 100 tablets of Product_3: 7.02\n",
      "Price per 100 tablets of Product_4: 11.85\n",
      "Price per 100 tablets of Product_5: 10.29\n",
      "Price per 100 tablets of Product_6: 8.16\n",
      "Price per 100 tablets of Product_7: 10.69\n",
      "Price per 100 tablets of Product_8: 7.21\n",
      "Price per 100 tablets of Product_9: 3.97\n",
      "Price per 100 tablets of Product_10: 3.86\n",
      "Price per 100 tablets of Product_11: 4.45\n"
     ]
    }
   ],
   "source": [
    "#price per 100 tablets \n",
    "price_per_100 = {}\n",
    "\n",
    "# Tablets per bottle for each product \n",
    "tablets_per_bottle = {\n",
    "    1: 25,  # Tylenol 25\n",
    "    2: 50,  # Tylenol 50\n",
    "    3: 100,  # Tylenol 100\n",
    "    4: 25,  # Advil 25\n",
    "    5: 50,  # Advil 50\n",
    "    6: 100,  # Advil 100\n",
    "    7: 25,  # Bayer 25\n",
    "    8: 50,  # Bayer 50\n",
    "    9: 100,  # Bayer 100\n",
    "    10: 50,  # Store Brand 50\n",
    "    11: 100  # Store Brand 100\n",
    "}\n",
    "\n",
    "# Calculate price per 100 tablets based on the number of tablets per bottle\n",
    "for product, price in unit_price.items():\n",
    "    if tablets_per_bottle[product] == 25:\n",
    "        price_per_100[product] = price * 4  \n",
    "    elif tablets_per_bottle[product] == 50:\n",
    "        price_per_100[product] = price * 2  \n",
    "    elif tablets_per_bottle[product] == 100:\n",
    "        price_per_100[product] = price  \n",
    "\n",
    "for product, price in price_per_100.items():\n",
    "    print(f\"Price per 100 tablets of Product_{product}: {price:.2f}\")\n"
   ]
  },
  {
   "cell_type": "code",
   "execution_count": 5,
   "metadata": {},
   "outputs": [
    {
     "name": "stdout",
     "output_type": "stream",
     "text": [
      "Average Wholesale Price of Product_1: 2.18\n",
      "Average Wholesale Price of Product_2: 3.67\n",
      "Average Wholesale Price of Product_3: 5.75\n",
      "Average Wholesale Price of Product_4: 2.03\n",
      "Average Wholesale Price of Product_5: 3.62\n",
      "Average Wholesale Price of Product_6: 6.09\n",
      "Average Wholesale Price of Product_7: 1.85\n",
      "Average Wholesale Price of Product_8: 2.42\n",
      "Average Wholesale Price of Product_9: 3.71\n",
      "Average Wholesale Price of Product_10: 0.91\n",
      "Average Wholesale Price of Product_11: 1.92\n"
     ]
    }
   ],
   "source": [
    "#unit wholesale price (this will be the avg cost of each product)\n",
    "unit_wholesale_price = sales_data.groupby(\"brand\")[\"cost_\"].mean()\n",
    "\n",
    "for product, cost in unit_wholesale_price.items():\n",
    "    print(f\"Average Wholesale Price of Product_{product}: {cost:.2f}\")\n"
   ]
  },
  {
   "cell_type": "code",
   "execution_count": 6,
   "metadata": {},
   "outputs": [
    {
     "name": "stdout",
     "output_type": "stream",
     "text": [
      "                            OLS Regression Results                            \n",
      "==============================================================================\n",
      "Dep. Variable:            logit_share   R-squared:                       0.016\n",
      "Model:                            OLS   Adj. R-squared:                  0.016\n",
      "Method:                 Least Squares   F-statistic:                     315.2\n",
      "Date:                Tue, 11 Feb 2025   Prob (F-statistic):          1.72e-136\n",
      "Time:                        18:04:10   Log-Likelihood:                -50711.\n",
      "No. Observations:               38544   AIC:                         1.014e+05\n",
      "Df Residuals:                   38541   BIC:                         1.015e+05\n",
      "Df Model:                           2                                         \n",
      "Covariance Type:            nonrobust                                         \n",
      "==============================================================================\n",
      "                 coef    std err          t      P>|t|      [0.025      0.975]\n",
      "------------------------------------------------------------------------------\n",
      "Intercept     -7.7660      0.012   -627.345      0.000      -7.790      -7.742\n",
      "price_        -0.0514      0.003    -20.194      0.000      -0.056      -0.046\n",
      "prom_          0.2130      0.016     13.074      0.000       0.181       0.245\n",
      "==============================================================================\n",
      "Omnibus:                     2323.526   Durbin-Watson:                   0.558\n",
      "Prob(Omnibus):                  0.000   Jarque-Bera (JB):             2372.728\n",
      "Skew:                          -0.566   Prob(JB):                         0.00\n",
      "Kurtosis:                       2.558   Cond. No.                         17.7\n",
      "==============================================================================\n",
      "\n",
      "Notes:\n",
      "[1] Standard Errors assume that the covariance matrix of the errors is correctly specified.\n"
     ]
    }
   ],
   "source": [
    "# QUESTION 2\n",
    "# part a\n",
    "# To calculate market share Sij, im going to calculate the total market size. \n",
    "# Sij will be the number who buy product i in market j /market size (count)\n",
    "sales_data[\"market_share\"] = sales_data[\"sales_\"] / sales_data[\"count\"]\n",
    "\n",
    "# outside option share S0j = (any buyer - buyers of headache medicine) / market size\n",
    "sales_data[\"outside_share\"] = 1 - sales_data.groupby([\"store\", \"week\"])[\"market_share\"].transform(\"sum\")\n",
    "\n",
    "# log market shares (log(s_ij) - log(s_0j))\n",
    "sales_data[\"logit_share\"] = np.log(sales_data[\"market_share\"]) - np.log(sales_data[\"outside_share\"])\n",
    "\n",
    "#i want to do this ols regression using the statsmodels \n",
    "formula = \"logit_share ~ 1+ price_ + prom_\"\n",
    "model = sm.OLS.from_formula(formula, data=sales_data)\n",
    "print(model.fit().summary())\n"
   ]
  },
  {
   "cell_type": "code",
   "execution_count": 7,
   "metadata": {},
   "outputs": [
    {
     "name": "stdout",
     "output_type": "stream",
     "text": [
      "int64\n",
      "store              int64\n",
      "week               int64\n",
      "brand              int64\n",
      "sales_             int64\n",
      "count              int64\n",
      "price_           float64\n",
      "prom_            float64\n",
      "cost_            float64\n",
      "total_sales        int64\n",
      "market_share     float64\n",
      "outside_share    float64\n",
      "logit_share      float64\n",
      "dtype: object\n"
     ]
    }
   ],
   "source": [
    "# Convert 'product' to numeric (if it's meant to be 1-11)\n",
    "sales_data[\"brand\"] = pd.to_numeric(sales_data[\"brand\"], errors=\"coerce\")\n",
    "# Check if the conversion worked\n",
    "print(sales_data[\"brand\"].dtype)  # Should now be int64 or float64\n",
    "print(sales_data.dtypes)\n"
   ]
  },
  {
   "cell_type": "code",
   "execution_count": null,
   "metadata": {},
   "outputs": [
    {
     "name": "stdout",
     "output_type": "stream",
     "text": [
      "                            OLS Regression Results                            \n",
      "==============================================================================\n",
      "Dep. Variable:            logit_share   R-squared:                       0.460\n",
      "Model:                            OLS   Adj. R-squared:                  0.460\n",
      "Method:                 Least Squares   F-statistic:                     2733.\n",
      "Date:                Tue, 11 Feb 2025   Prob (F-statistic):               0.00\n",
      "Time:                        18:04:10   Log-Likelihood:                -39156.\n",
      "No. Observations:               38544   AIC:                         7.834e+04\n",
      "Df Residuals:                   38531   BIC:                         7.845e+04\n",
      "Df Model:                          12                                         \n",
      "Covariance Type:            nonrobust                                         \n",
      "==================================================================================\n",
      "                     coef    std err          t      P>|t|      [0.025      0.975]\n",
      "----------------------------------------------------------------------------------\n",
      "Intercept         -6.0709      0.036   -166.886      0.000      -6.142      -6.000\n",
      "C(brand)[T.2]      0.6895      0.022     31.003      0.000       0.646       0.733\n",
      "C(brand)[T.3]      0.9300      0.040     23.356      0.000       0.852       1.008\n",
      "C(brand)[T.4]     -0.4304      0.017    -25.950      0.000      -0.463      -0.398\n",
      "C(brand)[T.5]     -0.1929      0.024     -8.133      0.000      -0.239      -0.146\n",
      "C(brand)[T.6]      0.0032      0.051      0.063      0.949      -0.096       0.102\n",
      "C(brand)[T.7]     -1.6519      0.018    -94.051      0.000      -1.686      -1.618\n",
      "C(brand)[T.8]     -1.5924      0.016    -98.211      0.000      -1.624      -1.561\n",
      "C(brand)[T.9]     -0.5474      0.017    -31.674      0.000      -0.581      -0.514\n",
      "C(brand)[T.10]    -1.2057      0.022    -55.428      0.000      -1.248      -1.163\n",
      "C(brand)[T.11]    -0.7887      0.019    -41.078      0.000      -0.826      -0.751\n",
      "price_            -0.3416      0.010    -33.889      0.000      -0.361      -0.322\n",
      "prom_              0.3292      0.013     26.098      0.000       0.304       0.354\n",
      "==============================================================================\n",
      "Omnibus:                     2766.485   Durbin-Watson:                   1.024\n",
      "Prob(Omnibus):                  0.000   Jarque-Bera (JB):             3858.938\n",
      "Skew:                          -0.617   Prob(JB):                         0.00\n",
      "Kurtosis:                       3.939   Cond. No.                         112.\n",
      "==============================================================================\n",
      "\n",
      "Notes:\n",
      "[1] Standard Errors assume that the covariance matrix of the errors is correctly specified.\n"
     ]
    }
   ],
   "source": [
    "# question 2 part b\n",
    "# ols regression with price and promo as product characteristics and product fixed effects\n",
    "formula = \"logit_share ~ 1 + price_ + prom_ + C(brand)\"\n",
    "model = sm.OLS.from_formula(formula, data=sales_data)\n",
    "print(model.fit().summary())"
   ]
  },
  {
   "cell_type": "code",
   "execution_count": null,
   "metadata": {},
   "outputs": [
    {
     "name": "stdout",
     "output_type": "stream",
     "text": [
      "                            OLS Regression Results                            \n",
      "==============================================================================\n",
      "Dep. Variable:            logit_share   R-squared:                       0.510\n",
      "Model:                            OLS   Adj. R-squared:                  0.509\n",
      "Method:                 Least Squares   F-statistic:                     476.9\n",
      "Date:                Tue, 11 Feb 2025   Prob (F-statistic):               0.00\n",
      "Time:                        18:04:11   Log-Likelihood:                -37268.\n",
      "No. Observations:               38544   AIC:                         7.471e+04\n",
      "Df Residuals:                   38459   BIC:                         7.543e+04\n",
      "Df Model:                          84                                         \n",
      "Covariance Type:            nonrobust                                         \n",
      "===================================================================================\n",
      "                      coef    std err          t      P>|t|      [0.025      0.975]\n",
      "-----------------------------------------------------------------------------------\n",
      "Intercept          -6.1382      0.045   -135.579      0.000      -6.227      -6.049\n",
      "C(brand)[T.2]       0.6548      0.021     30.693      0.000       0.613       0.697\n",
      "C(brand)[T.3]       0.8481      0.038     22.102      0.000       0.773       0.923\n",
      "C(brand)[T.4]      -0.4204      0.016    -26.565      0.000      -0.451      -0.389\n",
      "C(brand)[T.5]      -0.2323      0.023    -10.201      0.000      -0.277      -0.188\n",
      "C(brand)[T.6]      -0.1045      0.049     -2.144      0.032      -0.200      -0.009\n",
      "C(brand)[T.7]      -1.6357      0.017    -97.493      0.000      -1.669      -1.603\n",
      "C(brand)[T.8]      -1.5974      0.015   -103.340      0.000      -1.628      -1.567\n",
      "C(brand)[T.9]      -0.5610      0.017    -33.998      0.000      -0.593      -0.529\n",
      "C(brand)[T.10]     -1.1725      0.021    -56.215      0.000      -1.213      -1.132\n",
      "C(brand)[T.11]     -0.8125      0.018    -44.218      0.000      -0.848      -0.776\n",
      "C(store)[T.5]       0.1951      0.039      4.975      0.000       0.118       0.272\n",
      "C(store)[T.8]       0.0070      0.039      0.178      0.859      -0.070       0.084\n",
      "C(store)[T.9]      -0.1086      0.039     -2.768      0.006      -0.185      -0.032\n",
      "C(store)[T.12]     -0.0779      0.039     -1.987      0.047      -0.155      -0.001\n",
      "C(store)[T.14]      0.1670      0.039      4.260      0.000       0.090       0.244\n",
      "C(store)[T.18]      0.0613      0.039      1.563      0.118      -0.016       0.138\n",
      "C(store)[T.21]     -0.0342      0.039     -0.871      0.384      -0.111       0.043\n",
      "C(store)[T.28]     -0.0704      0.039     -1.794      0.073      -0.147       0.007\n",
      "C(store)[T.32]     -0.2313      0.039     -5.898      0.000      -0.308      -0.154\n",
      "C(store)[T.33]     -0.2807      0.039     -7.159      0.000      -0.358      -0.204\n",
      "C(store)[T.40]     -0.0728      0.039     -1.856      0.064      -0.150       0.004\n",
      "C(store)[T.44]      0.0017      0.039      0.043      0.966      -0.075       0.079\n",
      "C(store)[T.45]      0.0747      0.039      1.906      0.057      -0.002       0.152\n",
      "C(store)[T.47]     -0.1100      0.039     -2.804      0.005      -0.187      -0.033\n",
      "C(store)[T.48]      0.0516      0.039      1.315      0.188      -0.025       0.128\n",
      "C(store)[T.49]     -0.1541      0.039     -3.929      0.000      -0.231      -0.077\n",
      "C(store)[T.50]     -0.0386      0.039     -0.985      0.325      -0.116       0.038\n",
      "C(store)[T.51]      0.0687      0.039      1.751      0.080      -0.008       0.146\n",
      "C(store)[T.52]      0.0055      0.039      0.141      0.888      -0.071       0.082\n",
      "C(store)[T.53]     -0.2510      0.039     -6.402      0.000      -0.328      -0.174\n",
      "C(store)[T.54]      0.1145      0.039      2.921      0.003       0.038       0.191\n",
      "C(store)[T.56]     -0.0551      0.039     -1.404      0.160      -0.132       0.022\n",
      "C(store)[T.59]      0.0816      0.039      2.080      0.038       0.005       0.158\n",
      "C(store)[T.62]      0.3909      0.039      9.970      0.000       0.314       0.468\n",
      "C(store)[T.64]      0.1130      0.039      2.881      0.004       0.036       0.190\n",
      "C(store)[T.67]      0.0710      0.039      1.810      0.070      -0.006       0.148\n",
      "C(store)[T.68]     -0.3564      0.039     -9.089      0.000      -0.433      -0.280\n",
      "C(store)[T.70]     -0.0221      0.039     -0.564      0.573      -0.099       0.055\n",
      "C(store)[T.71]     -0.0699      0.039     -1.783      0.075      -0.147       0.007\n",
      "C(store)[T.72]     -0.2056      0.039     -5.245      0.000      -0.282      -0.129\n",
      "C(store)[T.73]     -0.1463      0.039     -3.731      0.000      -0.223      -0.069\n",
      "C(store)[T.74]      0.0489      0.039      1.246      0.213      -0.028       0.126\n",
      "C(store)[T.75]     -0.2672      0.039     -6.816      0.000      -0.344      -0.190\n",
      "C(store)[T.76]     -0.2894      0.039     -7.379      0.000      -0.366      -0.213\n",
      "C(store)[T.77]      0.0757      0.039      1.930      0.054      -0.001       0.153\n",
      "C(store)[T.78]     -0.1385      0.039     -3.529      0.000      -0.215      -0.062\n",
      "C(store)[T.80]      0.1252      0.039      3.193      0.001       0.048       0.202\n",
      "C(store)[T.81]     -0.1761      0.039     -4.491      0.000      -0.253      -0.099\n",
      "C(store)[T.83]     -0.0245      0.039     -0.625      0.532      -0.101       0.052\n",
      "C(store)[T.84]      0.1478      0.039      3.768      0.000       0.071       0.225\n",
      "C(store)[T.86]     -0.0458      0.039     -1.167      0.243      -0.123       0.031\n",
      "C(store)[T.89]     -0.5568      0.039    -14.197      0.000      -0.634      -0.480\n",
      "C(store)[T.90]     -0.3941      0.039    -10.048      0.000      -0.471      -0.317\n",
      "C(store)[T.91]     -0.1484      0.039     -3.782      0.000      -0.225      -0.071\n",
      "C(store)[T.92]     -0.1938      0.039     -4.941      0.000      -0.271      -0.117\n",
      "C(store)[T.93]     -0.0134      0.039     -0.343      0.732      -0.090       0.063\n",
      "C(store)[T.94]      0.1393      0.039      3.553      0.000       0.062       0.216\n",
      "C(store)[T.95]     -0.1868      0.039     -4.765      0.000      -0.264      -0.110\n",
      "C(store)[T.97]      0.0508      0.039      1.294      0.196      -0.026       0.128\n",
      "C(store)[T.98]      0.2022      0.039      5.150      0.000       0.125       0.279\n",
      "C(store)[T.100]    -0.0202      0.039     -0.515      0.607      -0.097       0.057\n",
      "C(store)[T.101]     0.2641      0.039      6.729      0.000       0.187       0.341\n",
      "C(store)[T.102]     0.1408      0.039      3.585      0.000       0.064       0.218\n",
      "C(store)[T.103]     0.0346      0.039      0.881      0.379      -0.042       0.112\n",
      "C(store)[T.104]     0.4368      0.039     11.140      0.000       0.360       0.514\n",
      "C(store)[T.105]     0.1883      0.039      4.796      0.000       0.111       0.265\n",
      "C(store)[T.106]     0.1506      0.039      3.840      0.000       0.074       0.227\n",
      "C(store)[T.107]     0.0599      0.039      1.528      0.127      -0.017       0.137\n",
      "C(store)[T.109]     0.2169      0.039      5.533      0.000       0.140       0.294\n",
      "C(store)[T.110]     0.2307      0.039      5.883      0.000       0.154       0.308\n",
      "C(store)[T.111]    -0.7142      0.039    -18.212      0.000      -0.791      -0.637\n",
      "C(store)[T.112]     0.3230      0.039      8.229      0.000       0.246       0.400\n",
      "C(store)[T.113]    -0.1780      0.039     -4.538      0.000      -0.255      -0.101\n",
      "C(store)[T.114]     0.0056      0.039      0.142      0.887      -0.071       0.083\n",
      "C(store)[T.115]     0.3678      0.039      9.372      0.000       0.291       0.445\n",
      "C(store)[T.116]     0.1110      0.039      2.830      0.005       0.034       0.188\n",
      "C(store)[T.117]    -0.0682      0.039     -1.739      0.082      -0.145       0.009\n",
      "C(store)[T.118]    -0.1939      0.039     -4.945      0.000      -0.271      -0.117\n",
      "C(store)[T.119]    -0.1135      0.039     -2.894      0.004      -0.190      -0.037\n",
      "C(store)[T.121]     0.2942      0.039      7.497      0.000       0.217       0.371\n",
      "C(store)[T.122]     0.2516      0.039      6.407      0.000       0.175       0.329\n",
      "C(store)[T.123]    -0.0149      0.039     -0.380      0.704      -0.092       0.062\n",
      "price_             -0.3190      0.010    -32.765      0.000      -0.338      -0.300\n",
      "prom_               0.3350      0.012     27.836      0.000       0.311       0.359\n",
      "==============================================================================\n",
      "Omnibus:                     3131.113   Durbin-Watson:                   1.126\n",
      "Prob(Omnibus):                  0.000   Jarque-Bera (JB):             4616.587\n",
      "Skew:                          -0.653   Prob(JB):                         0.00\n",
      "Kurtosis:                       4.080   Cond. No.                         357.\n",
      "==============================================================================\n",
      "\n",
      "Notes:\n",
      "[1] Standard Errors assume that the covariance matrix of the errors is correctly specified.\n"
     ]
    }
   ],
   "source": [
    "# question 2 part c \n",
    "# ols regression with price and promo as product characteristics and product-store fixed effects\n",
    "formula = \"logit_share ~ 1 + price_ + prom_ + C(brand) + C(store)\"\n",
    "model = sm.OLS.from_formula(formula, data=sales_data)\n",
    "print(model.fit().summary())"
   ]
  },
  {
   "cell_type": "code",
   "execution_count": 13,
   "metadata": {},
   "outputs": [
    {
     "name": "stdout",
     "output_type": "stream",
     "text": [
      "PART D (a): IV (wholesale cost) Regression Results\n",
      "                          IV-2SLS Estimation Summary                          \n",
      "==============================================================================\n",
      "Dep. Variable:            logit_share   R-squared:                      0.0095\n",
      "Estimator:                    IV-2SLS   Adj. R-squared:                 0.0095\n",
      "No. Observations:               38544   F-statistic:                    254.71\n",
      "Date:                Tue, Feb 11 2025   P-value (F-stat)                0.0000\n",
      "Time:                        18:15:28   Distribution:                  chi2(2)\n",
      "Cov. Estimator:                robust                                         \n",
      "                                                                              \n",
      "                             Parameter Estimates                              \n",
      "==============================================================================\n",
      "            Parameter  Std. Err.     T-stat    P-value    Lower CI    Upper CI\n",
      "------------------------------------------------------------------------------\n",
      "Intercept     -7.9476     0.0136    -584.98     0.0000     -7.9742     -7.9210\n",
      "prom_          0.2361     0.0156     15.119     0.0000      0.2055      0.2667\n",
      "price_        -0.0106     0.0028    -3.7714     0.0002     -0.0161     -0.0051\n",
      "==============================================================================\n",
      "\n",
      "Endogenous: price_\n",
      "Instruments: cost_\n",
      "Robust Covariance (Heteroskedastic)\n",
      "Debiased: False\n"
     ]
    }
   ],
   "source": [
    "# question 2 part d (a)\n",
    "# iv regression  \n",
    "formula = f\"logit_share ~ 1 + prom_ + [price_ ~ cost_]\"\n",
    "iv_wcost_a = IV2SLS.from_formula(formula, sales_data).fit()\n",
    "print(\"PART D (a): IV (wholesale cost) Regression Results\")\n",
    "print(iv_wcost_a.summary)"
   ]
  },
  {
   "cell_type": "code",
   "execution_count": null,
   "metadata": {},
   "outputs": [
    {
     "name": "stdout",
     "output_type": "stream",
     "text": [
      "PART D (b): IV (wholesale cost) Regression Results\n",
      "                          IV-2SLS Estimation Summary                          \n",
      "==============================================================================\n",
      "Dep. Variable:            logit_share   R-squared:                      0.4445\n",
      "Estimator:                    IV-2SLS   Adj. R-squared:                 0.4444\n",
      "No. Observations:               38544   F-statistic:                 4.319e+04\n",
      "Date:                Tue, Feb 11 2025   P-value (F-stat)                0.0000\n",
      "Time:                        17:48:03   Distribution:                 chi2(12)\n",
      "Cov. Estimator:                robust                                         \n",
      "                                                                              \n",
      "                             Parameter Estimates                              \n",
      "==============================================================================\n",
      "            Parameter  Std. Err.     T-stat    P-value    Lower CI    Upper CI\n",
      "------------------------------------------------------------------------------\n",
      "Intercept     -7.2116     0.0652    -110.56     0.0000     -7.3394     -7.0837\n",
      "prom_          0.4304     0.0145     29.766     0.0000      0.4020      0.4587\n",
      "brand_2        0.1791     0.0309     5.7961     0.0000      0.1186      0.2397\n",
      "brand_3       -0.2729     0.0698    -3.9108     0.0001     -0.4097     -0.1362\n",
      "brand_4       -0.2837     0.0147    -19.337     0.0000     -0.3125     -0.2550\n",
      "brand_5       -0.7712     0.0359    -21.509     0.0000     -0.8415     -0.7009\n",
      "brand_6       -1.5791     0.0915    -17.264     0.0000     -1.7583     -1.3998\n",
      "brand_7       -1.4154     0.0181    -78.122     0.0000     -1.4509     -1.3799\n",
      "brand_8       -1.6679     0.0137    -121.70     0.0000     -1.6948     -1.6411\n",
      "brand_9       -0.7496     0.0169    -44.383     0.0000     -0.7827     -0.7165\n",
      "brand_10      -0.7203     0.0321    -22.455     0.0000     -0.7832     -0.6574\n",
      "brand_11      -1.1387     0.0283    -40.290     0.0000     -1.1941     -1.0833\n",
      "price_        -0.0091     0.0189    -0.4791     0.6318     -0.0462      0.0280\n",
      "==============================================================================\n",
      "\n",
      "Endogenous: price_\n",
      "Instruments: cost_\n",
      "Robust Covariance (Heteroskedastic)\n",
      "Debiased: False\n"
     ]
    }
   ],
   "source": [
    "# question 2 part d (b)\n",
    "# iv regression with product fixed effects \n",
    "otc_brands = pd.get_dummies(sales_data, columns = [\"brand\"], drop_first=True)\n",
    "fixed_effects = \" + \".join([col for col in otc_brands.columns if col.startswith(\"brand_\")]) \n",
    "\n",
    "formula = f\"logit_share ~ 1 + prom_ + {fixed_effects} + [price_ ~ cost_]\"\n",
    "iv_wcost_b = IV2SLS.from_formula(formula, otc_brands).fit()\n",
    "print(\"PART D (b): IV (wholesale cost) Regression Results\")\n",
    "print(iv_wcost_b.summary)"
   ]
  },
  {
   "cell_type": "code",
   "execution_count": 11,
   "metadata": {},
   "outputs": [
    {
     "data": {
      "text/plain": [
       "'logit_share ~ 1 + prom_ + brand_store_10_101 + brand_store_10_102 + brand_store_10_103 + brand_store_10_104 + brand_store_10_105 + brand_store_10_106 + brand_store_10_107 + brand_store_10_109 + brand_store_10_110 + brand_store_10_111 + brand_store_10_112 + brand_store_10_113 + brand_store_10_114 + brand_store_10_115 + brand_store_10_116 + brand_store_10_117 + brand_store_10_118 + brand_store_10_119 + brand_store_10_12 + brand_store_10_121 + brand_store_10_122 + brand_store_10_123 + brand_store_10_14 + brand_store_10_18 + brand_store_10_2 + brand_store_10_21 + brand_store_10_28 + brand_store_10_32 + brand_store_10_33 + brand_store_10_40 + brand_store_10_44 + brand_store_10_45 + brand_store_10_47 + brand_store_10_48 + brand_store_10_49 + brand_store_10_5 + brand_store_10_50 + brand_store_10_51 + brand_store_10_52 + brand_store_10_53 + brand_store_10_54 + brand_store_10_56 + brand_store_10_59 + brand_store_10_62 + brand_store_10_64 + brand_store_10_67 + brand_store_10_68 + brand_store_10_70 + brand_store_10_71 + brand_store_10_72 + brand_store_10_73 + brand_store_10_74 + brand_store_10_75 + brand_store_10_76 + brand_store_10_77 + brand_store_10_78 + brand_store_10_8 + brand_store_10_80 + brand_store_10_81 + brand_store_10_83 + brand_store_10_84 + brand_store_10_86 + brand_store_10_89 + brand_store_10_9 + brand_store_10_90 + brand_store_10_91 + brand_store_10_92 + brand_store_10_93 + brand_store_10_94 + brand_store_10_95 + brand_store_10_97 + brand_store_10_98 + brand_store_11_100 + brand_store_11_101 + brand_store_11_102 + brand_store_11_103 + brand_store_11_104 + brand_store_11_105 + brand_store_11_106 + brand_store_11_107 + brand_store_11_109 + brand_store_11_110 + brand_store_11_111 + brand_store_11_112 + brand_store_11_113 + brand_store_11_114 + brand_store_11_115 + brand_store_11_116 + brand_store_11_117 + brand_store_11_118 + brand_store_11_119 + brand_store_11_12 + brand_store_11_121 + brand_store_11_122 + brand_store_11_123 + brand_store_11_14 + brand_store_11_18 + brand_store_11_2 + brand_store_11_21 + brand_store_11_28 + brand_store_11_32 + brand_store_11_33 + brand_store_11_40 + brand_store_11_44 + brand_store_11_45 + brand_store_11_47 + brand_store_11_48 + brand_store_11_49 + brand_store_11_5 + brand_store_11_50 + brand_store_11_51 + brand_store_11_52 + brand_store_11_53 + brand_store_11_54 + brand_store_11_56 + brand_store_11_59 + brand_store_11_62 + brand_store_11_64 + brand_store_11_67 + brand_store_11_68 + brand_store_11_70 + brand_store_11_71 + brand_store_11_72 + brand_store_11_73 + brand_store_11_74 + brand_store_11_75 + brand_store_11_76 + brand_store_11_77 + brand_store_11_78 + brand_store_11_8 + brand_store_11_80 + brand_store_11_81 + brand_store_11_83 + brand_store_11_84 + brand_store_11_86 + brand_store_11_89 + brand_store_11_9 + brand_store_11_90 + brand_store_11_91 + brand_store_11_92 + brand_store_11_93 + brand_store_11_94 + brand_store_11_95 + brand_store_11_97 + brand_store_11_98 + brand_store_1_100 + brand_store_1_101 + brand_store_1_102 + brand_store_1_103 + brand_store_1_104 + brand_store_1_105 + brand_store_1_106 + brand_store_1_107 + brand_store_1_109 + brand_store_1_110 + brand_store_1_111 + brand_store_1_112 + brand_store_1_113 + brand_store_1_114 + brand_store_1_115 + brand_store_1_116 + brand_store_1_117 + brand_store_1_118 + brand_store_1_119 + brand_store_1_12 + brand_store_1_121 + brand_store_1_122 + brand_store_1_123 + brand_store_1_14 + brand_store_1_18 + brand_store_1_2 + brand_store_1_21 + brand_store_1_28 + brand_store_1_32 + brand_store_1_33 + brand_store_1_40 + brand_store_1_44 + brand_store_1_45 + brand_store_1_47 + brand_store_1_48 + brand_store_1_49 + brand_store_1_5 + brand_store_1_50 + brand_store_1_51 + brand_store_1_52 + brand_store_1_53 + brand_store_1_54 + brand_store_1_56 + brand_store_1_59 + brand_store_1_62 + brand_store_1_64 + brand_store_1_67 + brand_store_1_68 + brand_store_1_70 + brand_store_1_71 + brand_store_1_72 + brand_store_1_73 + brand_store_1_74 + brand_store_1_75 + brand_store_1_76 + brand_store_1_77 + brand_store_1_78 + brand_store_1_8 + brand_store_1_80 + brand_store_1_81 + brand_store_1_83 + brand_store_1_84 + brand_store_1_86 + brand_store_1_89 + brand_store_1_9 + brand_store_1_90 + brand_store_1_91 + brand_store_1_92 + brand_store_1_93 + brand_store_1_94 + brand_store_1_95 + brand_store_1_97 + brand_store_1_98 + brand_store_2_100 + brand_store_2_101 + brand_store_2_102 + brand_store_2_103 + brand_store_2_104 + brand_store_2_105 + brand_store_2_106 + brand_store_2_107 + brand_store_2_109 + brand_store_2_110 + brand_store_2_111 + brand_store_2_112 + brand_store_2_113 + brand_store_2_114 + brand_store_2_115 + brand_store_2_116 + brand_store_2_117 + brand_store_2_118 + brand_store_2_119 + brand_store_2_12 + brand_store_2_121 + brand_store_2_122 + brand_store_2_123 + brand_store_2_14 + brand_store_2_18 + brand_store_2_2 + brand_store_2_21 + brand_store_2_28 + brand_store_2_32 + brand_store_2_33 + brand_store_2_40 + brand_store_2_44 + brand_store_2_45 + brand_store_2_47 + brand_store_2_48 + brand_store_2_49 + brand_store_2_5 + brand_store_2_50 + brand_store_2_51 + brand_store_2_52 + brand_store_2_53 + brand_store_2_54 + brand_store_2_56 + brand_store_2_59 + brand_store_2_62 + brand_store_2_64 + brand_store_2_67 + brand_store_2_68 + brand_store_2_70 + brand_store_2_71 + brand_store_2_72 + brand_store_2_73 + brand_store_2_74 + brand_store_2_75 + brand_store_2_76 + brand_store_2_77 + brand_store_2_78 + brand_store_2_8 + brand_store_2_80 + brand_store_2_81 + brand_store_2_83 + brand_store_2_84 + brand_store_2_86 + brand_store_2_89 + brand_store_2_9 + brand_store_2_90 + brand_store_2_91 + brand_store_2_92 + brand_store_2_93 + brand_store_2_94 + brand_store_2_95 + brand_store_2_97 + brand_store_2_98 + brand_store_3_100 + brand_store_3_101 + brand_store_3_102 + brand_store_3_103 + brand_store_3_104 + brand_store_3_105 + brand_store_3_106 + brand_store_3_107 + brand_store_3_109 + brand_store_3_110 + brand_store_3_111 + brand_store_3_112 + brand_store_3_113 + brand_store_3_114 + brand_store_3_115 + brand_store_3_116 + brand_store_3_117 + brand_store_3_118 + brand_store_3_119 + brand_store_3_12 + brand_store_3_121 + brand_store_3_122 + brand_store_3_123 + brand_store_3_14 + brand_store_3_18 + brand_store_3_2 + brand_store_3_21 + brand_store_3_28 + brand_store_3_32 + brand_store_3_33 + brand_store_3_40 + brand_store_3_44 + brand_store_3_45 + brand_store_3_47 + brand_store_3_48 + brand_store_3_49 + brand_store_3_5 + brand_store_3_50 + brand_store_3_51 + brand_store_3_52 + brand_store_3_53 + brand_store_3_54 + brand_store_3_56 + brand_store_3_59 + brand_store_3_62 + brand_store_3_64 + brand_store_3_67 + brand_store_3_68 + brand_store_3_70 + brand_store_3_71 + brand_store_3_72 + brand_store_3_73 + brand_store_3_74 + brand_store_3_75 + brand_store_3_76 + brand_store_3_77 + brand_store_3_78 + brand_store_3_8 + brand_store_3_80 + brand_store_3_81 + brand_store_3_83 + brand_store_3_84 + brand_store_3_86 + brand_store_3_89 + brand_store_3_9 + brand_store_3_90 + brand_store_3_91 + brand_store_3_92 + brand_store_3_93 + brand_store_3_94 + brand_store_3_95 + brand_store_3_97 + brand_store_3_98 + brand_store_4_100 + brand_store_4_101 + brand_store_4_102 + brand_store_4_103 + brand_store_4_104 + brand_store_4_105 + brand_store_4_106 + brand_store_4_107 + brand_store_4_109 + brand_store_4_110 + brand_store_4_111 + brand_store_4_112 + brand_store_4_113 + brand_store_4_114 + brand_store_4_115 + brand_store_4_116 + brand_store_4_117 + brand_store_4_118 + brand_store_4_119 + brand_store_4_12 + brand_store_4_121 + brand_store_4_122 + brand_store_4_123 + brand_store_4_14 + brand_store_4_18 + brand_store_4_2 + brand_store_4_21 + brand_store_4_28 + brand_store_4_32 + brand_store_4_33 + brand_store_4_40 + brand_store_4_44 + brand_store_4_45 + brand_store_4_47 + brand_store_4_48 + brand_store_4_49 + brand_store_4_5 + brand_store_4_50 + brand_store_4_51 + brand_store_4_52 + brand_store_4_53 + brand_store_4_54 + brand_store_4_56 + brand_store_4_59 + brand_store_4_62 + brand_store_4_64 + brand_store_4_67 + brand_store_4_68 + brand_store_4_70 + brand_store_4_71 + brand_store_4_72 + brand_store_4_73 + brand_store_4_74 + brand_store_4_75 + brand_store_4_76 + brand_store_4_77 + brand_store_4_78 + brand_store_4_8 + brand_store_4_80 + brand_store_4_81 + brand_store_4_83 + brand_store_4_84 + brand_store_4_86 + brand_store_4_89 + brand_store_4_9 + brand_store_4_90 + brand_store_4_91 + brand_store_4_92 + brand_store_4_93 + brand_store_4_94 + brand_store_4_95 + brand_store_4_97 + brand_store_4_98 + brand_store_5_100 + brand_store_5_101 + brand_store_5_102 + brand_store_5_103 + brand_store_5_104 + brand_store_5_105 + brand_store_5_106 + brand_store_5_107 + brand_store_5_109 + brand_store_5_110 + brand_store_5_111 + brand_store_5_112 + brand_store_5_113 + brand_store_5_114 + brand_store_5_115 + brand_store_5_116 + brand_store_5_117 + brand_store_5_118 + brand_store_5_119 + brand_store_5_12 + brand_store_5_121 + brand_store_5_122 + brand_store_5_123 + brand_store_5_14 + brand_store_5_18 + brand_store_5_2 + brand_store_5_21 + brand_store_5_28 + brand_store_5_32 + brand_store_5_33 + brand_store_5_40 + brand_store_5_44 + brand_store_5_45 + brand_store_5_47 + brand_store_5_48 + brand_store_5_49 + brand_store_5_5 + brand_store_5_50 + brand_store_5_51 + brand_store_5_52 + brand_store_5_53 + brand_store_5_54 + brand_store_5_56 + brand_store_5_59 + brand_store_5_62 + brand_store_5_64 + brand_store_5_67 + brand_store_5_68 + brand_store_5_70 + brand_store_5_71 + brand_store_5_72 + brand_store_5_73 + brand_store_5_74 + brand_store_5_75 + brand_store_5_76 + brand_store_5_77 + brand_store_5_78 + brand_store_5_8 + brand_store_5_80 + brand_store_5_81 + brand_store_5_83 + brand_store_5_84 + brand_store_5_86 + brand_store_5_89 + brand_store_5_9 + brand_store_5_90 + brand_store_5_91 + brand_store_5_92 + brand_store_5_93 + brand_store_5_94 + brand_store_5_95 + brand_store_5_97 + brand_store_5_98 + brand_store_6_100 + brand_store_6_101 + brand_store_6_102 + brand_store_6_103 + brand_store_6_104 + brand_store_6_105 + brand_store_6_106 + brand_store_6_107 + brand_store_6_109 + brand_store_6_110 + brand_store_6_111 + brand_store_6_112 + brand_store_6_113 + brand_store_6_114 + brand_store_6_115 + brand_store_6_116 + brand_store_6_117 + brand_store_6_118 + brand_store_6_119 + brand_store_6_12 + brand_store_6_121 + brand_store_6_122 + brand_store_6_123 + brand_store_6_14 + brand_store_6_18 + brand_store_6_2 + brand_store_6_21 + brand_store_6_28 + brand_store_6_32 + brand_store_6_33 + brand_store_6_40 + brand_store_6_44 + brand_store_6_45 + brand_store_6_47 + brand_store_6_48 + brand_store_6_49 + brand_store_6_5 + brand_store_6_50 + brand_store_6_51 + brand_store_6_52 + brand_store_6_53 + brand_store_6_54 + brand_store_6_56 + brand_store_6_59 + brand_store_6_62 + brand_store_6_64 + brand_store_6_67 + brand_store_6_68 + brand_store_6_70 + brand_store_6_71 + brand_store_6_72 + brand_store_6_73 + brand_store_6_74 + brand_store_6_75 + brand_store_6_76 + brand_store_6_77 + brand_store_6_78 + brand_store_6_8 + brand_store_6_80 + brand_store_6_81 + brand_store_6_83 + brand_store_6_84 + brand_store_6_86 + brand_store_6_89 + brand_store_6_9 + brand_store_6_90 + brand_store_6_91 + brand_store_6_92 + brand_store_6_93 + brand_store_6_94 + brand_store_6_95 + brand_store_6_97 + brand_store_6_98 + brand_store_7_100 + brand_store_7_101 + brand_store_7_102 + brand_store_7_103 + brand_store_7_104 + brand_store_7_105 + brand_store_7_106 + brand_store_7_107 + brand_store_7_109 + brand_store_7_110 + brand_store_7_111 + brand_store_7_112 + brand_store_7_113 + brand_store_7_114 + brand_store_7_115 + brand_store_7_116 + brand_store_7_117 + brand_store_7_118 + brand_store_7_119 + brand_store_7_12 + brand_store_7_121 + brand_store_7_122 + brand_store_7_123 + brand_store_7_14 + brand_store_7_18 + brand_store_7_2 + brand_store_7_21 + brand_store_7_28 + brand_store_7_32 + brand_store_7_33 + brand_store_7_40 + brand_store_7_44 + brand_store_7_45 + brand_store_7_47 + brand_store_7_48 + brand_store_7_49 + brand_store_7_5 + brand_store_7_50 + brand_store_7_51 + brand_store_7_52 + brand_store_7_53 + brand_store_7_54 + brand_store_7_56 + brand_store_7_59 + brand_store_7_62 + brand_store_7_64 + brand_store_7_67 + brand_store_7_68 + brand_store_7_70 + brand_store_7_71 + brand_store_7_72 + brand_store_7_73 + brand_store_7_74 + brand_store_7_75 + brand_store_7_76 + brand_store_7_77 + brand_store_7_78 + brand_store_7_8 + brand_store_7_80 + brand_store_7_81 + brand_store_7_83 + brand_store_7_84 + brand_store_7_86 + brand_store_7_89 + brand_store_7_9 + brand_store_7_90 + brand_store_7_91 + brand_store_7_92 + brand_store_7_93 + brand_store_7_94 + brand_store_7_95 + brand_store_7_97 + brand_store_7_98 + brand_store_8_100 + brand_store_8_101 + brand_store_8_102 + brand_store_8_103 + brand_store_8_104 + brand_store_8_105 + brand_store_8_106 + brand_store_8_107 + brand_store_8_109 + brand_store_8_110 + brand_store_8_111 + brand_store_8_112 + brand_store_8_113 + brand_store_8_114 + brand_store_8_115 + brand_store_8_116 + brand_store_8_117 + brand_store_8_118 + brand_store_8_119 + brand_store_8_12 + brand_store_8_121 + brand_store_8_122 + brand_store_8_123 + brand_store_8_14 + brand_store_8_18 + brand_store_8_2 + brand_store_8_21 + brand_store_8_28 + brand_store_8_32 + brand_store_8_33 + brand_store_8_40 + brand_store_8_44 + brand_store_8_45 + brand_store_8_47 + brand_store_8_48 + brand_store_8_49 + brand_store_8_5 + brand_store_8_50 + brand_store_8_51 + brand_store_8_52 + brand_store_8_53 + brand_store_8_54 + brand_store_8_56 + brand_store_8_59 + brand_store_8_62 + brand_store_8_64 + brand_store_8_67 + brand_store_8_68 + brand_store_8_70 + brand_store_8_71 + brand_store_8_72 + brand_store_8_73 + brand_store_8_74 + brand_store_8_75 + brand_store_8_76 + brand_store_8_77 + brand_store_8_78 + brand_store_8_8 + brand_store_8_80 + brand_store_8_81 + brand_store_8_83 + brand_store_8_84 + brand_store_8_86 + brand_store_8_89 + brand_store_8_9 + brand_store_8_90 + brand_store_8_91 + brand_store_8_92 + brand_store_8_93 + brand_store_8_94 + brand_store_8_95 + brand_store_8_97 + brand_store_8_98 + brand_store_9_100 + brand_store_9_101 + brand_store_9_102 + brand_store_9_103 + brand_store_9_104 + brand_store_9_105 + brand_store_9_106 + brand_store_9_107 + brand_store_9_109 + brand_store_9_110 + brand_store_9_111 + brand_store_9_112 + brand_store_9_113 + brand_store_9_114 + brand_store_9_115 + brand_store_9_116 + brand_store_9_117 + brand_store_9_118 + brand_store_9_119 + brand_store_9_12 + brand_store_9_121 + brand_store_9_122 + brand_store_9_123 + brand_store_9_14 + brand_store_9_18 + brand_store_9_2 + brand_store_9_21 + brand_store_9_28 + brand_store_9_32 + brand_store_9_33 + brand_store_9_40 + brand_store_9_44 + brand_store_9_45 + brand_store_9_47 + brand_store_9_48 + brand_store_9_49 + brand_store_9_5 + brand_store_9_50 + brand_store_9_51 + brand_store_9_52 + brand_store_9_53 + brand_store_9_54 + brand_store_9_56 + brand_store_9_59 + brand_store_9_62 + brand_store_9_64 + brand_store_9_67 + brand_store_9_68 + brand_store_9_70 + brand_store_9_71 + brand_store_9_72 + brand_store_9_73 + brand_store_9_74 + brand_store_9_75 + brand_store_9_76 + brand_store_9_77 + brand_store_9_78 + brand_store_9_8 + brand_store_9_80 + brand_store_9_81 + brand_store_9_83 + brand_store_9_84 + brand_store_9_86 + brand_store_9_89 + brand_store_9_9 + brand_store_9_90 + brand_store_9_91 + brand_store_9_92 + brand_store_9_93 + brand_store_9_94 + brand_store_9_95 + brand_store_9_97 + brand_store_9_98 + [price_ ~ cost_]'"
      ]
     },
     "execution_count": 11,
     "metadata": {},
     "output_type": "execute_result"
    }
   ],
   "source": [
    "# question 2 part d (c)\n",
    "# iv regression with product fixed effects \n",
    "sales_data[\"brand_store\"] = sales_data[\"brand\"].astype(str) + \"_\" + sales_data[\"store\"].astype(str)\n",
    "otc_brand_store = pd.get_dummies(sales_data, columns = [\"brand_store\"], drop_first=True)\n",
    "fixed_effects = \" + \".join([col for col in otc_brand_store.columns if col.startswith(\"brand_store_\")])\n",
    "\n",
    "formula = f\"logit_share ~ 1 + prom_ + {fixed_effects} + [price_ ~ cost_]\"\n",
    "# iv_wcost_c = IV2SLS.from_formula(formula, otc_brand_store).fit()\n",
    "# print(\"PART D (c): IV (wholesale cost) Regression Results\")\n",
    "# print(iv_wcost_c.summary)\n",
    "# NOTE: I am not running this because it was crashing my kernel every time I tried to run it."
   ]
  },
  {
   "cell_type": "code",
   "execution_count": null,
   "metadata": {},
   "outputs": [
    {
     "ename": "ValueError",
     "evalue": "Error encountered while checking for nulls in `hausman_iv`: No implementation of `find_nulls()` for type `<class 'formulaic.materializers.types.factor_values.FactorValues'>`.",
     "output_type": "error",
     "traceback": [
      "\u001b[0;31m---------------------------------------------------------------------------\u001b[0m",
      "\u001b[0;31mValueError\u001b[0m                                Traceback (most recent call last)",
      "File \u001b[0;32m/usr/local/python/3.12.1/lib/python3.12/site-packages/formulaic/materializers/pandas.py:60\u001b[0m, in \u001b[0;36mPandasMaterializer._check_for_nulls\u001b[0;34m(self, name, values, na_action, drop_rows)\u001b[0m\n\u001b[1;32m     59\u001b[0m \u001b[38;5;28;01mtry\u001b[39;00m:\n\u001b[0;32m---> 60\u001b[0m     null_indices \u001b[38;5;241m=\u001b[39m \u001b[43mfind_nulls\u001b[49m\u001b[43m(\u001b[49m\u001b[43mvalues\u001b[49m\u001b[43m)\u001b[49m\n\u001b[1;32m     62\u001b[0m     \u001b[38;5;28;01mif\u001b[39;00m na_action \u001b[38;5;129;01mis\u001b[39;00m NAAction\u001b[38;5;241m.\u001b[39mRAISE:\n",
      "File \u001b[0;32m/usr/local/python/3.12.1/lib/python3.12/functools.py:909\u001b[0m, in \u001b[0;36msingledispatch.<locals>.wrapper\u001b[0;34m(*args, **kw)\u001b[0m\n\u001b[1;32m    906\u001b[0m     \u001b[38;5;28;01mraise\u001b[39;00m \u001b[38;5;167;01mTypeError\u001b[39;00m(\u001b[38;5;124mf\u001b[39m\u001b[38;5;124m'\u001b[39m\u001b[38;5;132;01m{\u001b[39;00mfuncname\u001b[38;5;132;01m}\u001b[39;00m\u001b[38;5;124m requires at least \u001b[39m\u001b[38;5;124m'\u001b[39m\n\u001b[1;32m    907\u001b[0m                     \u001b[38;5;124m'\u001b[39m\u001b[38;5;124m1 positional argument\u001b[39m\u001b[38;5;124m'\u001b[39m)\n\u001b[0;32m--> 909\u001b[0m \u001b[38;5;28;01mreturn\u001b[39;00m \u001b[43mdispatch\u001b[49m\u001b[43m(\u001b[49m\u001b[43margs\u001b[49m\u001b[43m[\u001b[49m\u001b[38;5;241;43m0\u001b[39;49m\u001b[43m]\u001b[49m\u001b[38;5;241;43m.\u001b[39;49m\u001b[38;5;18;43m__class__\u001b[39;49m\u001b[43m)\u001b[49m\u001b[43m(\u001b[49m\u001b[38;5;241;43m*\u001b[39;49m\u001b[43margs\u001b[49m\u001b[43m,\u001b[49m\u001b[43m \u001b[49m\u001b[38;5;241;43m*\u001b[39;49m\u001b[38;5;241;43m*\u001b[39;49m\u001b[43mkw\u001b[49m\u001b[43m)\u001b[49m\n",
      "File \u001b[0;32m/usr/local/python/3.12.1/lib/python3.12/site-packages/formulaic/utils/null_handling.py:19\u001b[0m, in \u001b[0;36mfind_nulls\u001b[0;34m(values)\u001b[0m\n\u001b[1;32m     13\u001b[0m \u001b[38;5;250m\u001b[39m\u001b[38;5;124;03m\"\"\"\u001b[39;00m\n\u001b[1;32m     14\u001b[0m \u001b[38;5;124;03mFind the indices of rows in `values` that have null/nan values.\u001b[39;00m\n\u001b[1;32m     15\u001b[0m \n\u001b[1;32m     16\u001b[0m \u001b[38;5;124;03mArgs:\u001b[39;00m\n\u001b[1;32m     17\u001b[0m \u001b[38;5;124;03m    values: The values in which to find nulls.\u001b[39;00m\n\u001b[1;32m     18\u001b[0m \u001b[38;5;124;03m\"\"\"\u001b[39;00m\n\u001b[0;32m---> 19\u001b[0m \u001b[38;5;28;01mraise\u001b[39;00m \u001b[38;5;167;01mValueError\u001b[39;00m(\n\u001b[1;32m     20\u001b[0m     \u001b[38;5;124mf\u001b[39m\u001b[38;5;124m\"\u001b[39m\u001b[38;5;124mNo implementation of `find_nulls()` for type `\u001b[39m\u001b[38;5;132;01m{\u001b[39;00m\u001b[38;5;28mrepr\u001b[39m(\u001b[38;5;28mtype\u001b[39m(values))\u001b[38;5;132;01m}\u001b[39;00m\u001b[38;5;124m`.\u001b[39m\u001b[38;5;124m\"\u001b[39m\n\u001b[1;32m     21\u001b[0m )\n",
      "\u001b[0;31mValueError\u001b[0m: No implementation of `find_nulls()` for type `<class 'formulaic.materializers.types.factor_values.FactorValues'>`.",
      "\nThe above exception was the direct cause of the following exception:\n",
      "\u001b[0;31mValueError\u001b[0m                                Traceback (most recent call last)",
      "Cell \u001b[0;32mIn[31], line 11\u001b[0m\n\u001b[1;32m      9\u001b[0m \u001b[38;5;66;03m# part a with hausman instrument \u001b[39;00m\n\u001b[1;32m     10\u001b[0m formula \u001b[38;5;241m=\u001b[39m \u001b[38;5;124mf\u001b[39m\u001b[38;5;124m\"\u001b[39m\u001b[38;5;124mlogit_share ~ 1 + prom_ + [price_ ~ hausman_iv]\u001b[39m\u001b[38;5;124m\"\u001b[39m\n\u001b[0;32m---> 11\u001b[0m iv_hi_a \u001b[38;5;241m=\u001b[39m \u001b[43mIV2SLS\u001b[49m\u001b[38;5;241;43m.\u001b[39;49m\u001b[43mfrom_formula\u001b[49m\u001b[43m(\u001b[49m\u001b[43mformula\u001b[49m\u001b[43m,\u001b[49m\u001b[43m \u001b[49m\u001b[43msales_data\u001b[49m\u001b[43m)\u001b[49m\u001b[38;5;241m.\u001b[39mfit()\n\u001b[1;32m     13\u001b[0m \u001b[38;5;66;03m#print(\"PART E (a): Hausman IV Regression Results\")\u001b[39;00m\n\u001b[1;32m     14\u001b[0m \u001b[38;5;66;03m#print(iv_hi_a.summary())\u001b[39;00m\n",
      "File \u001b[0;32m/usr/local/python/3.12.1/lib/python3.12/site-packages/linearmodels/iv/model.py:942\u001b[0m, in \u001b[0;36mIV2SLS.from_formula\u001b[0;34m(formula, data, weights)\u001b[0m\n\u001b[1;32m    904\u001b[0m \u001b[38;5;250m\u001b[39m\u001b[38;5;124;03m\"\"\"\u001b[39;00m\n\u001b[1;32m    905\u001b[0m \u001b[38;5;124;03mParameters\u001b[39;00m\n\u001b[1;32m    906\u001b[0m \u001b[38;5;124;03m----------\u001b[39;00m\n\u001b[0;32m   (...)\u001b[0m\n\u001b[1;32m    939\u001b[0m \u001b[38;5;124;03m>>> mod = IV2SLS.from_formula(formula, data)\u001b[39;00m\n\u001b[1;32m    940\u001b[0m \u001b[38;5;124;03m\"\"\"\u001b[39;00m\n\u001b[1;32m    941\u001b[0m parser \u001b[38;5;241m=\u001b[39m IVFormulaParser(formula, data)\n\u001b[0;32m--> 942\u001b[0m dep, exog, endog, instr \u001b[38;5;241m=\u001b[39m \u001b[43mparser\u001b[49m\u001b[38;5;241;43m.\u001b[39;49m\u001b[43mdata\u001b[49m\n\u001b[1;32m    943\u001b[0m mod \u001b[38;5;241m=\u001b[39m IV2SLS(dep, exog, endog, instr, weights\u001b[38;5;241m=\u001b[39mweights)\n\u001b[1;32m    944\u001b[0m mod\u001b[38;5;241m.\u001b[39mformula \u001b[38;5;241m=\u001b[39m formula\n",
      "File \u001b[0;32m/usr/local/python/3.12.1/lib/python3.12/site-packages/linearmodels/iv/_utility.py:171\u001b[0m, in \u001b[0;36mIVFormulaParser.data\u001b[0;34m(self)\u001b[0m\n\u001b[1;32m    169\u001b[0m \u001b[38;5;250m\u001b[39m\u001b[38;5;124;03m\"\"\"Returns a tuple containing the dependent, exog, endog and instruments\"\"\"\u001b[39;00m\n\u001b[1;32m    170\u001b[0m \u001b[38;5;28mself\u001b[39m\u001b[38;5;241m.\u001b[39m_eval_env \u001b[38;5;241m+\u001b[39m\u001b[38;5;241m=\u001b[39m \u001b[38;5;241m1\u001b[39m\n\u001b[0;32m--> 171\u001b[0m out \u001b[38;5;241m=\u001b[39m \u001b[38;5;28mself\u001b[39m\u001b[38;5;241m.\u001b[39mdependent, \u001b[38;5;28mself\u001b[39m\u001b[38;5;241m.\u001b[39mexog, \u001b[38;5;28mself\u001b[39m\u001b[38;5;241m.\u001b[39mendog, \u001b[38;5;28;43mself\u001b[39;49m\u001b[38;5;241;43m.\u001b[39;49m\u001b[43minstruments\u001b[49m\n\u001b[1;32m    172\u001b[0m \u001b[38;5;28mself\u001b[39m\u001b[38;5;241m.\u001b[39m_eval_env \u001b[38;5;241m-\u001b[39m\u001b[38;5;241m=\u001b[39m \u001b[38;5;241m1\u001b[39m\n\u001b[1;32m    173\u001b[0m \u001b[38;5;28;01mreturn\u001b[39;00m out\n",
      "File \u001b[0;32m/usr/local/python/3.12.1/lib/python3.12/site-packages/linearmodels/iv/_utility.py:216\u001b[0m, in \u001b[0;36mIVFormulaParser.instruments\u001b[0;34m(self)\u001b[0m\n\u001b[1;32m    214\u001b[0m \u001b[38;5;250m\u001b[39m\u001b[38;5;124;03m\"\"\"Instruments\"\"\"\u001b[39;00m\n\u001b[1;32m    215\u001b[0m instr_fmla \u001b[38;5;241m=\u001b[39m \u001b[38;5;124m\"\u001b[39m\u001b[38;5;124m0 +\u001b[39m\u001b[38;5;124m\"\u001b[39m \u001b[38;5;241m+\u001b[39m \u001b[38;5;28mself\u001b[39m\u001b[38;5;241m.\u001b[39mcomponents[\u001b[38;5;124m\"\u001b[39m\u001b[38;5;124minstruments\u001b[39m\u001b[38;5;124m\"\u001b[39m]\n\u001b[0;32m--> 216\u001b[0m instr \u001b[38;5;241m=\u001b[39m \u001b[43mFormula\u001b[49m\u001b[43m(\u001b[49m\u001b[43minstr_fmla\u001b[49m\u001b[43m)\u001b[49m\u001b[38;5;241;43m.\u001b[39;49m\u001b[43mget_model_matrix\u001b[49m\u001b[43m(\u001b[49m\n\u001b[1;32m    217\u001b[0m \u001b[43m    \u001b[49m\u001b[38;5;28;43mself\u001b[39;49m\u001b[38;5;241;43m.\u001b[39;49m\u001b[43m_data\u001b[49m\u001b[43m,\u001b[49m\n\u001b[1;32m    218\u001b[0m \u001b[43m    \u001b[49m\u001b[43mcontext\u001b[49m\u001b[38;5;241;43m=\u001b[39;49m\u001b[38;5;28;43mself\u001b[39;49m\u001b[38;5;241;43m.\u001b[39;49m\u001b[43m_context\u001b[49m\u001b[43m,\u001b[49m\n\u001b[1;32m    219\u001b[0m \u001b[43m    \u001b[49m\u001b[43mensure_full_rank\u001b[49m\u001b[38;5;241;43m=\u001b[39;49m\u001b[38;5;28;43;01mFalse\u001b[39;49;00m\u001b[43m,\u001b[49m\n\u001b[1;32m    220\u001b[0m \u001b[43m    \u001b[49m\u001b[43mna_action\u001b[49m\u001b[38;5;241;43m=\u001b[39;49m\u001b[43mfNAAction\u001b[49m\u001b[43m(\u001b[49m\u001b[38;5;124;43m\"\u001b[39;49m\u001b[38;5;124;43mraise\u001b[39;49m\u001b[38;5;124;43m\"\u001b[39;49m\u001b[43m)\u001b[49m\u001b[43m,\u001b[49m\n\u001b[1;32m    221\u001b[0m \u001b[43m\u001b[49m\u001b[43m)\u001b[49m\n\u001b[1;32m    222\u001b[0m \u001b[38;5;28;01mreturn\u001b[39;00m \u001b[38;5;28mself\u001b[39m\u001b[38;5;241m.\u001b[39m_empty_check(DataFrame(instr))\n",
      "File \u001b[0;32m/usr/local/python/3.12.1/lib/python3.12/site-packages/formulaic/formula.py:527\u001b[0m, in \u001b[0;36mSimpleFormula.get_model_matrix\u001b[0;34m(self, data, context, drop_rows, **spec_overrides)\u001b[0m\n\u001b[1;32m    510\u001b[0m \u001b[38;5;250m\u001b[39m\u001b[38;5;124;03m\"\"\"\u001b[39;00m\n\u001b[1;32m    511\u001b[0m \u001b[38;5;124;03mBuild the model matrix (or matrices) realisation of this formula for the\u001b[39;00m\n\u001b[1;32m    512\u001b[0m \u001b[38;5;124;03mnominated `data`.\u001b[39;00m\n\u001b[0;32m   (...)\u001b[0m\n\u001b[1;32m    523\u001b[0m \u001b[38;5;124;03m        `ModelSpec` for more details.\u001b[39;00m\n\u001b[1;32m    524\u001b[0m \u001b[38;5;124;03m\"\"\"\u001b[39;00m\n\u001b[1;32m    525\u001b[0m \u001b[38;5;28;01mfrom\u001b[39;00m \u001b[38;5;21;01m.\u001b[39;00m\u001b[38;5;21;01mmodel_spec\u001b[39;00m \u001b[38;5;28;01mimport\u001b[39;00m ModelSpec\n\u001b[0;32m--> 527\u001b[0m \u001b[38;5;28;01mreturn\u001b[39;00m \u001b[43mModelSpec\u001b[49m\u001b[38;5;241;43m.\u001b[39;49m\u001b[43mfrom_spec\u001b[49m\u001b[43m(\u001b[49m\u001b[38;5;28;43mself\u001b[39;49m\u001b[43m,\u001b[49m\u001b[43m \u001b[49m\u001b[38;5;241;43m*\u001b[39;49m\u001b[38;5;241;43m*\u001b[39;49m\u001b[43mspec_overrides\u001b[49m\u001b[43m)\u001b[49m\u001b[38;5;241;43m.\u001b[39;49m\u001b[43mget_model_matrix\u001b[49m\u001b[43m(\u001b[49m\n\u001b[1;32m    528\u001b[0m \u001b[43m    \u001b[49m\u001b[43mdata\u001b[49m\u001b[43m,\u001b[49m\u001b[43m \u001b[49m\u001b[43mcontext\u001b[49m\u001b[38;5;241;43m=\u001b[39;49m\u001b[43mcontext\u001b[49m\u001b[43m,\u001b[49m\u001b[43m \u001b[49m\u001b[43mdrop_rows\u001b[49m\u001b[38;5;241;43m=\u001b[39;49m\u001b[43mdrop_rows\u001b[49m\n\u001b[1;32m    529\u001b[0m \u001b[43m\u001b[49m\u001b[43m)\u001b[49m\n",
      "File \u001b[0;32m/usr/local/python/3.12.1/lib/python3.12/site-packages/formulaic/model_spec.py:530\u001b[0m, in \u001b[0;36mModelSpec.get_model_matrix\u001b[0;34m(self, data, context, drop_rows, **attr_overrides)\u001b[0m\n\u001b[1;32m    526\u001b[0m \u001b[38;5;28;01mif\u001b[39;00m attr_overrides:\n\u001b[1;32m    527\u001b[0m     \u001b[38;5;28;01mreturn\u001b[39;00m \u001b[38;5;28mself\u001b[39m\u001b[38;5;241m.\u001b[39mupdate(\u001b[38;5;241m*\u001b[39m\u001b[38;5;241m*\u001b[39mattr_overrides)\u001b[38;5;241m.\u001b[39mget_model_matrix(data, context\u001b[38;5;241m=\u001b[39mcontext)\n\u001b[1;32m    528\u001b[0m \u001b[38;5;28;01mreturn\u001b[39;00m cast(\n\u001b[1;32m    529\u001b[0m     \u001b[38;5;124m\"\u001b[39m\u001b[38;5;124mModelMatrix\u001b[39m\u001b[38;5;124m\"\u001b[39m,\n\u001b[0;32m--> 530\u001b[0m     \u001b[38;5;28;43mself\u001b[39;49m\u001b[38;5;241;43m.\u001b[39;49m\u001b[43mget_materializer\u001b[49m\u001b[43m(\u001b[49m\u001b[43mdata\u001b[49m\u001b[43m,\u001b[49m\u001b[43m \u001b[49m\u001b[43mcontext\u001b[49m\u001b[38;5;241;43m=\u001b[39;49m\u001b[43mcontext\u001b[49m\u001b[43m)\u001b[49m\u001b[38;5;241;43m.\u001b[39;49m\u001b[43mget_model_matrix\u001b[49m\u001b[43m(\u001b[49m\n\u001b[1;32m    531\u001b[0m \u001b[43m        \u001b[49m\u001b[38;5;28;43mself\u001b[39;49m\u001b[43m,\u001b[49m\u001b[43m \u001b[49m\u001b[43mdrop_rows\u001b[49m\u001b[38;5;241;43m=\u001b[39;49m\u001b[43mdrop_rows\u001b[49m\n\u001b[1;32m    532\u001b[0m \u001b[43m    \u001b[49m\u001b[43m)\u001b[49m,\n\u001b[1;32m    533\u001b[0m )\n",
      "File \u001b[0;32m/usr/local/python/3.12.1/lib/python3.12/site-packages/formulaic/materializers/base.py:183\u001b[0m, in \u001b[0;36mFormulaMaterializer.get_model_matrix\u001b[0;34m(self, spec, drop_rows, **spec_overrides)\u001b[0m\n\u001b[1;32m    181\u001b[0m drop_rows: Set[\u001b[38;5;28mint\u001b[39m] \u001b[38;5;241m=\u001b[39m drop_rows \u001b[38;5;28;01mif\u001b[39;00m drop_rows \u001b[38;5;129;01mis\u001b[39;00m \u001b[38;5;129;01mnot\u001b[39;00m \u001b[38;5;28;01mNone\u001b[39;00m \u001b[38;5;28;01melse\u001b[39;00m \u001b[38;5;28mset\u001b[39m()\n\u001b[1;32m    182\u001b[0m \u001b[38;5;28;01mfor\u001b[39;00m factor \u001b[38;5;129;01min\u001b[39;00m factors:\n\u001b[0;32m--> 183\u001b[0m     \u001b[38;5;28;43mself\u001b[39;49m\u001b[38;5;241;43m.\u001b[39;49m\u001b[43m_evaluate_factor\u001b[49m\u001b[43m(\u001b[49m\u001b[43mfactor\u001b[49m\u001b[43m,\u001b[49m\u001b[43m \u001b[49m\u001b[43mfactor_evaluation_model_spec\u001b[49m\u001b[43m,\u001b[49m\u001b[43m \u001b[49m\u001b[43mdrop_rows\u001b[49m\u001b[43m)\u001b[49m\n\u001b[1;32m    184\u001b[0m drop_rows: Sequence[\u001b[38;5;28mint\u001b[39m] \u001b[38;5;241m=\u001b[39m \u001b[38;5;28msorted\u001b[39m(drop_rows)\n\u001b[1;32m    186\u001b[0m \u001b[38;5;66;03m# Step 2: Update the structured model specs with the information from\u001b[39;00m\n\u001b[1;32m    187\u001b[0m \u001b[38;5;66;03m# the shared transform state pool.\u001b[39;00m\n",
      "File \u001b[0;32m/usr/local/python/3.12.1/lib/python3.12/site-packages/formulaic/materializers/base.py:592\u001b[0m, in \u001b[0;36mFormulaMaterializer._evaluate_factor\u001b[0;34m(self, factor, spec, drop_rows)\u001b[0m\n\u001b[1;32m    582\u001b[0m     \u001b[38;5;28;01mif\u001b[39;00m (\n\u001b[1;32m    583\u001b[0m         factor\u001b[38;5;241m.\u001b[39mexpr \u001b[38;5;129;01min\u001b[39;00m spec\u001b[38;5;241m.\u001b[39mencoder_state\n\u001b[1;32m    584\u001b[0m         \u001b[38;5;129;01mand\u001b[39;00m value\u001b[38;5;241m.\u001b[39m__formulaic_metadata__\u001b[38;5;241m.\u001b[39mkind\n\u001b[1;32m    585\u001b[0m         \u001b[38;5;129;01mis\u001b[39;00m \u001b[38;5;129;01mnot\u001b[39;00m spec\u001b[38;5;241m.\u001b[39mencoder_state[factor\u001b[38;5;241m.\u001b[39mexpr][\u001b[38;5;241m0\u001b[39m]\n\u001b[1;32m    586\u001b[0m     ):\n\u001b[1;32m    587\u001b[0m         \u001b[38;5;28;01mraise\u001b[39;00m FactorEncodingError(\n\u001b[1;32m    588\u001b[0m             \u001b[38;5;124mf\u001b[39m\u001b[38;5;124m\"\u001b[39m\u001b[38;5;124mThe model specification expects factor `\u001b[39m\u001b[38;5;132;01m{\u001b[39;00mfactor\u001b[38;5;132;01m}\u001b[39;00m\u001b[38;5;124m` to have values of kind \u001b[39m\u001b[38;5;124m\"\u001b[39m\n\u001b[1;32m    589\u001b[0m             \u001b[38;5;124mf\u001b[39m\u001b[38;5;124m\"\u001b[39m\u001b[38;5;124m`\u001b[39m\u001b[38;5;132;01m{\u001b[39;00mspec\u001b[38;5;241m.\u001b[39mencoder_state[factor\u001b[38;5;241m.\u001b[39mexpr][\u001b[38;5;241m0\u001b[39m]\u001b[38;5;132;01m}\u001b[39;00m\u001b[38;5;124m`, but they are actually of kind \u001b[39m\u001b[38;5;124m\"\u001b[39m\n\u001b[1;32m    590\u001b[0m             \u001b[38;5;124mf\u001b[39m\u001b[38;5;124m\"\u001b[39m\u001b[38;5;124m`\u001b[39m\u001b[38;5;132;01m{\u001b[39;00mvalue\u001b[38;5;241m.\u001b[39m__formulaic_metadata__\u001b[38;5;241m.\u001b[39mkind\u001b[38;5;241m.\u001b[39mvalue\u001b[38;5;132;01m}\u001b[39;00m\u001b[38;5;124m`.\u001b[39m\u001b[38;5;124m\"\u001b[39m\n\u001b[1;32m    591\u001b[0m         )\n\u001b[0;32m--> 592\u001b[0m     \u001b[38;5;28;43mself\u001b[39;49m\u001b[38;5;241;43m.\u001b[39;49m\u001b[43m_check_for_nulls\u001b[49m\u001b[43m(\u001b[49m\u001b[43mfactor\u001b[49m\u001b[38;5;241;43m.\u001b[39;49m\u001b[43mexpr\u001b[49m\u001b[43m,\u001b[49m\u001b[43m \u001b[49m\u001b[43mvalue\u001b[49m\u001b[43m,\u001b[49m\u001b[43m \u001b[49m\u001b[43mspec\u001b[49m\u001b[38;5;241;43m.\u001b[39;49m\u001b[43mna_action\u001b[49m\u001b[43m,\u001b[49m\u001b[43m \u001b[49m\u001b[43mdrop_rows\u001b[49m\u001b[43m)\u001b[49m\n\u001b[1;32m    593\u001b[0m     \u001b[38;5;28mself\u001b[39m\u001b[38;5;241m.\u001b[39mfactor_cache[factor\u001b[38;5;241m.\u001b[39mexpr] \u001b[38;5;241m=\u001b[39m EvaluatedFactor(\n\u001b[1;32m    594\u001b[0m         factor\u001b[38;5;241m=\u001b[39mfactor, values\u001b[38;5;241m=\u001b[39mvalue, variables\u001b[38;5;241m=\u001b[39mvariables\n\u001b[1;32m    595\u001b[0m     )\n\u001b[1;32m    596\u001b[0m \u001b[38;5;28;01mreturn\u001b[39;00m \u001b[38;5;28mself\u001b[39m\u001b[38;5;241m.\u001b[39mfactor_cache[factor\u001b[38;5;241m.\u001b[39mexpr]\n",
      "File \u001b[0;32m/usr/local/python/3.12.1/lib/python3.12/site-packages/formulaic/materializers/pandas.py:74\u001b[0m, in \u001b[0;36mPandasMaterializer._check_for_nulls\u001b[0;34m(self, name, values, na_action, drop_rows)\u001b[0m\n\u001b[1;32m     70\u001b[0m         \u001b[38;5;28;01mraise\u001b[39;00m \u001b[38;5;167;01mValueError\u001b[39;00m(\n\u001b[1;32m     71\u001b[0m             \u001b[38;5;124mf\u001b[39m\u001b[38;5;124m\"\u001b[39m\u001b[38;5;124mDo not know how to interpret `na_action` = \u001b[39m\u001b[38;5;132;01m{\u001b[39;00m\u001b[38;5;28mrepr\u001b[39m(na_action)\u001b[38;5;132;01m}\u001b[39;00m\u001b[38;5;124m.\u001b[39m\u001b[38;5;124m\"\u001b[39m\n\u001b[1;32m     72\u001b[0m         )  \u001b[38;5;66;03m# pragma: no cover; this is currently impossible to reach\u001b[39;00m\n\u001b[1;32m     73\u001b[0m \u001b[38;5;28;01mexcept\u001b[39;00m \u001b[38;5;167;01mValueError\u001b[39;00m \u001b[38;5;28;01mas\u001b[39;00m e:\n\u001b[0;32m---> 74\u001b[0m     \u001b[38;5;28;01mraise\u001b[39;00m \u001b[38;5;167;01mValueError\u001b[39;00m(\n\u001b[1;32m     75\u001b[0m         \u001b[38;5;124mf\u001b[39m\u001b[38;5;124m\"\u001b[39m\u001b[38;5;124mError encountered while checking for nulls in `\u001b[39m\u001b[38;5;132;01m{\u001b[39;00mname\u001b[38;5;132;01m}\u001b[39;00m\u001b[38;5;124m`: \u001b[39m\u001b[38;5;132;01m{\u001b[39;00me\u001b[38;5;132;01m}\u001b[39;00m\u001b[38;5;124m\"\u001b[39m\n\u001b[1;32m     76\u001b[0m     ) \u001b[38;5;28;01mfrom\u001b[39;00m \u001b[38;5;21;01me\u001b[39;00m\n",
      "\u001b[0;31mValueError\u001b[0m: Error encountered while checking for nulls in `hausman_iv`: No implementation of `find_nulls()` for type `<class 'formulaic.materializers.types.factor_values.FactorValues'>`."
     ]
    }
   ],
   "source": [
    "#PART E (a)\n",
    "# estimate a, b, c with Hausman instrument (average price in other markets)\n",
    "#---------------------------------------------------------------------------#\n",
    "\n",
    "# Define Hausman instrument (average price in other markets)\n",
    "# hausman_iv = sales_data.groupby([\"week\", \"store\"])[\"price_\"].transform(\"mean\")\n",
    "# hausman_iv = sm.add_constant(hausman_iv)\n",
    "\n",
    "# part a with hausman instrument \n",
    "# formula = f\"logit_share ~ 1 + prom_ + [price_ ~ hausman_iv]\"\n",
    "# iv_hi_a = IV2SLS.from_formula(formula, sales_data).fit()\n",
    "\n",
    "#print(\"PART E (a): Hausman IV Regression Results\")\n",
    "#print(iv_hi_a.summary())"
   ]
  },
  {
   "cell_type": "code",
   "execution_count": null,
   "metadata": {},
   "outputs": [
    {
     "name": "stdout",
     "output_type": "stream",
     "text": [
      "\n",
      "### PART E (b): Hausman IV Regression with Product Fixed Effects ###\n",
      "                          IV2SLS Regression Results                           \n",
      "==============================================================================\n",
      "Dep. Variable:            logit_share   R-squared:                   -5711.116\n",
      "Model:                         IV2SLS   Adj. R-squared:              -5712.895\n",
      "Method:                     Two Stage   F-statistic:                    0.8832\n",
      "                        Least Squares   Prob (F-statistic):              0.564\n",
      "Date:                Tue, 11 Feb 2025                                         \n",
      "Time:                        17:00:50                                         \n",
      "No. Observations:               38544                                         \n",
      "Df Residuals:                   38531                                         \n",
      "Df Model:                          12                                         \n",
      "==============================================================================\n",
      "                 coef    std err          t      P>|t|      [0.025      0.975]\n",
      "------------------------------------------------------------------------------\n",
      "const         -2.3696    7.4e+05   -3.2e-06      1.000   -1.45e+06    1.45e+06\n",
      "price_         0.9001   2.86e+05   3.14e-06      1.000   -5.62e+05    5.62e+05\n",
      "prom_       -246.2494   5.28e+07  -4.66e-06      1.000   -1.03e+08    1.03e+08\n",
      "brand_2        9.5550   1.39e+06   6.85e-06      1.000   -2.73e+06    2.73e+06\n",
      "brand_3       14.1446   4.43e+06   3.19e-06      1.000   -8.69e+06    8.69e+06\n",
      "brand_4       12.8035   3.21e+06   3.99e-06      1.000    -6.3e+06     6.3e+06\n",
      "brand_5        9.3972   2.21e+06   4.25e-06      1.000   -4.33e+06    4.33e+06\n",
      "brand_6        9.4080   1.43e+06   6.59e-06      1.000    -2.8e+06     2.8e+06\n",
      "brand_7       28.5404   6.54e+06   4.36e-06      1.000   -1.28e+07    1.28e+07\n",
      "brand_8       31.0029   1.14e+07   2.72e-06      1.000   -2.23e+07    2.23e+07\n",
      "brand_9       48.8747    1.4e+07    3.5e-06      1.000   -2.74e+07    2.74e+07\n",
      "brand_10      26.7578   2.15e+06   1.25e-05      1.000   -4.21e+06    4.21e+06\n",
      "brand_11      18.9146    6.1e+06    3.1e-06      1.000    -1.2e+07     1.2e+07\n",
      "==============================================================================\n",
      "Omnibus:                    15740.310   Durbin-Watson:                   1.323\n",
      "Prob(Omnibus):                  0.000   Jarque-Bera (JB):            51129.229\n",
      "Skew:                           2.187   Prob(JB):                         0.00\n",
      "Kurtosis:                       6.565   Cond. No.                         112.\n",
      "==============================================================================\n"
     ]
    },
    {
     "name": "stderr",
     "output_type": "stream",
     "text": [
      "/usr/local/python/3.12.1/lib/python3.12/site-packages/statsmodels/base/model.py:1894: ValueWarning: covariance of constraints does not have full rank. The number of constraints is 12, but rank is 3\n",
      "  warnings.warn('covariance of constraints does not have full '\n"
     ]
    },
    {
     "ename": "",
     "evalue": "",
     "output_type": "error",
     "traceback": [
      "\u001b[1;31mThe Kernel crashed while executing code in the current cell or a previous cell. \n",
      "\u001b[1;31mPlease review the code in the cell(s) to identify a possible cause of the failure. \n",
      "\u001b[1;31mClick <a href='https://aka.ms/vscodeJupyterKernelCrash'>here</a> for more info. \n",
      "\u001b[1;31mView Jupyter <a href='command:jupyter.viewOutput'>log</a> for further details."
     ]
    }
   ],
   "source": [
    "#PART E (b)\n",
    "# estimate a, b, c with Hausman instrument (average price in other markets)\n",
    "#---------------------------------------------------------------------------#\n",
    "# part b with hausman instrument with product fixed effects \n",
    "# otc_brands = pd.get_dummies(sales_data, columns = [\"brand\"], drop_first=True)\n",
    "# fixed_effects = \" + \".join([col for col in otc_brands.columns if col.startswith(\"brand_\")]) \n",
    "\n",
    "# formula = f\"logit_share ~ 1 + prom_ + [price_ ~ hausman_iv] + {fixed_effects}\"\n",
    "# iv_hi_a = IV2SLS.from_formula(formula, sales_data).fit()\n",
    "\n",
    "# print(\"\\n### PART E (b): Hausman IV Regression with Product Fixed Effects ###\")\n",
    "# print(iv_hi_b.summary())"
   ]
  },
  {
   "cell_type": "code",
   "execution_count": null,
   "metadata": {},
   "outputs": [],
   "source": [
    "#PART E (c)\n",
    "#NOTE: I am not running this because it was crashing my kernel every time I tried to run it.\n",
    "\n",
    "# estimate a, b, c with Hausman instrument (average price in other markets)\n",
    "#---------------------------------------------------------------------------#\n",
    "# part c with hausman instrument with product-store fixed effects \n",
    "#sales_data[\"brand_store\"] = sales_data[\"brand\"].astype(str) + \"_\" + sales_data[\"store\"].astype(str)\n",
    "#otc_brand_store = pd.get_dummies(sales_data, columns = [\"brand_store\"], drop_first=True)\n",
    "#fixed_effects = \" + \".join([col for col in otc_brand_store.columns if col.startswith(\"brand_store_\")])\n",
    "\n",
    "#formula = f\"logit_share ~ 1 + prom_ + [price_ ~ hausman_iv] + {fixed_effects}\"\n",
    "#iv_hi_c = IV2SLS.from_formula(formula, sales_data).fit()\n",
    "\n",
    "#print(\"\\n### PART E (c): Hausman IV Regression with Product-Store Fixed Effects ###\")\n",
    "#print(iv_hi_c.summary())"
   ]
  },
  {
   "cell_type": "code",
   "execution_count": 17,
   "metadata": {},
   "outputs": [
    {
     "name": "stdout",
     "output_type": "stream",
     "text": [
      "Mean Own-Price Elasticities (a)\n",
      "brand\n",
      "1    -0.036319\n",
      "2    -0.052466\n",
      "3    -0.074508\n",
      "4    -0.031472\n",
      "5    -0.054650\n",
      "6    -0.086691\n",
      "7    -0.028398\n",
      "8    -0.038324\n",
      "9    -0.042132\n",
      "10   -0.020482\n",
      "11   -0.047239\n",
      "Name: elasticity_a, dtype: float64\n"
     ]
    }
   ],
   "source": [
    "# Question 2, part G\n",
    "# use the analytic formula for elasticity of the logit model to compute the mean own price elasticity of demand for each product in the market \n",
    "# using the estimates from part a, b, and c.\n",
    "# own price elasticity = alpha * price * (1 - market share)\n",
    "alpha_a = iv_wcost_a.params[\"price_\"]\n",
    "sales_data[\"elasticity_a\"] = alpha_a * sales_data[\"price_\"] * (1 - sales_data[\"market_share\"])\n",
    "mean_elasticity_a = sales_data.groupby(\"brand\")[\"elasticity_a\"].mean()\n",
    "\n",
    "print(\"Mean Own-Price Elasticities (a)\")\n",
    "print(mean_elasticity_a)"
   ]
  },
  {
   "cell_type": "code",
   "execution_count": 18,
   "metadata": {},
   "outputs": [
    {
     "name": "stdout",
     "output_type": "stream",
     "text": [
      "Mean Own-Price Elasticities (b) \n",
      "brand\n",
      "1    -0.031011\n",
      "2    -0.044798\n",
      "3    -0.063619\n",
      "4    -0.026873\n",
      "5    -0.046663\n",
      "6    -0.074021\n",
      "7    -0.024248\n",
      "8    -0.032723\n",
      "9    -0.035975\n",
      "10   -0.017489\n",
      "11   -0.040335\n",
      "Name: elasticity_b, dtype: float64\n"
     ]
    }
   ],
   "source": [
    "# part G (b)\n",
    "alpha_b = iv_wcost_b.params[\"price_\"]\n",
    "sales_data[\"elasticity_b\"] = alpha_b * sales_data[\"price_\"] * (1 - sales_data[\"market_share\"])\n",
    "mean_elasticity_b = sales_data.groupby(\"brand\")[\"elasticity_b\"].mean()\n",
    "\n",
    "print(\"Mean Own-Price Elasticities (b) \")\n",
    "print(mean_elasticity_b)"
   ]
  },
  {
   "cell_type": "code",
   "execution_count": 19,
   "metadata": {},
   "outputs": [
    {
     "name": "stdout",
     "output_type": "stream",
     "text": [
      "Mean Own-Price Elasticities (c) \n",
      "brand\n",
      "1    -0.121309\n",
      "2    -0.175243\n",
      "3    -0.248867\n",
      "4    -0.105122\n",
      "5    -0.182537\n",
      "6    -0.289558\n",
      "7    -0.094854\n",
      "8    -0.128007\n",
      "9    -0.140728\n",
      "10   -0.068414\n",
      "11   -0.157784\n",
      "Name: elasticity_c, dtype: float64\n"
     ]
    }
   ],
   "source": [
    "# part G (c)\n",
    "alpha_c = iv_wcost_c.params[\"price_\"]\n",
    "sales_data[\"elasticity_c\"] = alpha_c * sales_data[\"price_\"] * (1 - sales_data[\"market_share\"])\n",
    "mean_elasticity_c = sales_data.groupby(\"brand\")[\"elasticity_c\"].mean()\n",
    "\n",
    "print(\"Mean Own-Price Elasticities (c) \")\n",
    "print(mean_elasticity_c)"
   ]
  },
  {
   "cell_type": "code",
   "execution_count": 59,
   "metadata": {},
   "outputs": [
    {
     "name": "stdout",
     "output_type": "stream",
     "text": [
      "Sales Data Columns: Index(['store', 'week', 'brand', 'sales_', 'count', 'prices', 'prom_', 'cost_',\n",
      "       'total_sales', 'market_share', 'outside_share', 'logit_share',\n",
      "       'brand_store', 'market_ids'],\n",
      "      dtype='object')\n",
      "Demographic Data Columns: Index(['store', 'educ', 'income'], dtype='object')\n"
     ]
    }
   ],
   "source": [
    "# QUESTION 3\n",
    "# Random Coefficients Logit Demand + BLP \n",
    "# formula for demand model: u_ijt = X_jt * beta + betaB_i * 1{branded product} + alpha_i * p_jt + xsi_jt + epsilon_ijt\n",
    "# i need to use the demographic data too \n",
    "print(\"Sales Data Columns:\", sales_data.columns)\n",
    "print(\"Demographic Data Columns:\", demo_data.columns)\n",
    "\n",
    "# Rename the column in the sales_data DataFrame\n",
    "sales_data.rename(columns={\"price_\": \"prices\"}, inplace=True)\n"
   ]
  },
  {
   "cell_type": "code",
   "execution_count": null,
   "metadata": {},
   "outputs": [],
   "source": [
    "# adding in instruments\n",
    "# List of price instruments for other stores\n",
    "price_instruments = [f\"pricestore{i}\" for i in range(1, 31)]  # pricestore1 to pricestore30\n",
    "# List of instruments (costs + price instruments)\n",
    "instruments = [\"cost_\"] + price_instruments\n",
    "\n",
    "# List of price instruments for other stores\n",
    "price_instruments = [f\"pricestore{i}\" for i in range(1, 31)]  # pricestore1 to pricestore30\n",
    "\n",
    "# List of instruments (costs + price instruments)\n",
    "instruments = [\"cost_\"] + price_instruments"
   ]
  },
  {
   "cell_type": "code",
   "execution_count": 99,
   "metadata": {},
   "outputs": [],
   "source": [
    "# part a \n",
    "# estimate the parameters of the mode (beta, alpha, sigma_b, sigman_i) using the BLP estimator \n",
    "# as instruments, use both cost and the prices of the same product in the same week at other stores, NOT just an average but a variable for each price at another store in the same period. \n",
    "# choose 30 other stores \n",
    "\n",
    "#for BLP, i need to define the market which i want to be a store/week combination\n",
    "# Define the market\n",
    "sales_data[\"market_ids\"] = sales_data[\"store\"].astype(str) + \"_\" + sales_data[\"week\"].astype(str)\n",
    "\n",
    "#Rename the DataFrame in accordance with the BLP requirements\n",
    "sales_data.rename(columns={\"price_\": \"prices\"}, inplace=True)\n",
    "product_data = sales_data.copy()\n",
    "product_data.rename(columns={\"market_share\": \"shares\"}, inplace=True)\n",
    "product_data.rename(columns={\"brand\": \"product\"}, inplace=True)\n",
    "\n",
    "#merge the demographic data with the product data based on store \n",
    "product_data = product_data.merge(demo_data, on=\"store\")\n",
    "\n",
    "# i need to create data frame, agent data including market_id, educ, income, store, week\n",
    "agent_data = product_data[[\"market_ids\", \"educ\", \"income\", \"store\",]].reset_index()\n",
    "\n",
    "#create a column called PI, which is price * income \n",
    "# product_data[\"PI\"] = product_data[\"prices\"] * product_data[\"income\"]"
   ]
  },
  {
   "cell_type": "code",
   "execution_count": 111,
   "metadata": {},
   "outputs": [],
   "source": [
    "mc_integration = pyblp.Integration('monte_carlo', size=1, specification_options= {'seed': 0})"
   ]
  },
  {
   "cell_type": "code",
   "execution_count": 108,
   "metadata": {},
   "outputs": [
    {
     "data": {
      "text/html": [
       "<div>\n",
       "<style scoped>\n",
       "    .dataframe tbody tr th:only-of-type {\n",
       "        vertical-align: middle;\n",
       "    }\n",
       "\n",
       "    .dataframe tbody tr th {\n",
       "        vertical-align: top;\n",
       "    }\n",
       "\n",
       "    .dataframe thead th {\n",
       "        text-align: right;\n",
       "    }\n",
       "</style>\n",
       "<table border=\"1\" class=\"dataframe\">\n",
       "  <thead>\n",
       "    <tr style=\"text-align: right;\">\n",
       "      <th></th>\n",
       "      <th>index</th>\n",
       "      <th>market_ids</th>\n",
       "      <th>educ</th>\n",
       "      <th>income</th>\n",
       "      <th>store</th>\n",
       "      <th>nodes</th>\n",
       "      <th>weights</th>\n",
       "      <th>nodes0</th>\n",
       "      <th>nodes1</th>\n",
       "    </tr>\n",
       "  </thead>\n",
       "  <tbody>\n",
       "    <tr>\n",
       "      <th>0</th>\n",
       "      <td>0</td>\n",
       "      <td>2_1</td>\n",
       "      <td>0.248935</td>\n",
       "      <td>10.55321</td>\n",
       "      <td>2</td>\n",
       "      <td>2</td>\n",
       "      <td>1</td>\n",
       "      <td>0</td>\n",
       "      <td>0</td>\n",
       "    </tr>\n",
       "    <tr>\n",
       "      <th>1</th>\n",
       "      <td>1</td>\n",
       "      <td>2_2</td>\n",
       "      <td>0.248935</td>\n",
       "      <td>10.55321</td>\n",
       "      <td>2</td>\n",
       "      <td>2</td>\n",
       "      <td>1</td>\n",
       "      <td>0</td>\n",
       "      <td>0</td>\n",
       "    </tr>\n",
       "    <tr>\n",
       "      <th>2</th>\n",
       "      <td>2</td>\n",
       "      <td>2_3</td>\n",
       "      <td>0.248935</td>\n",
       "      <td>10.55321</td>\n",
       "      <td>2</td>\n",
       "      <td>2</td>\n",
       "      <td>1</td>\n",
       "      <td>0</td>\n",
       "      <td>0</td>\n",
       "    </tr>\n",
       "    <tr>\n",
       "      <th>3</th>\n",
       "      <td>3</td>\n",
       "      <td>2_4</td>\n",
       "      <td>0.248935</td>\n",
       "      <td>10.55321</td>\n",
       "      <td>2</td>\n",
       "      <td>2</td>\n",
       "      <td>1</td>\n",
       "      <td>0</td>\n",
       "      <td>0</td>\n",
       "    </tr>\n",
       "    <tr>\n",
       "      <th>4</th>\n",
       "      <td>4</td>\n",
       "      <td>2_5</td>\n",
       "      <td>0.248935</td>\n",
       "      <td>10.55321</td>\n",
       "      <td>2</td>\n",
       "      <td>2</td>\n",
       "      <td>1</td>\n",
       "      <td>0</td>\n",
       "      <td>0</td>\n",
       "    </tr>\n",
       "    <tr>\n",
       "      <th>...</th>\n",
       "      <td>...</td>\n",
       "      <td>...</td>\n",
       "      <td>...</td>\n",
       "      <td>...</td>\n",
       "      <td>...</td>\n",
       "      <td>...</td>\n",
       "      <td>...</td>\n",
       "      <td>...</td>\n",
       "      <td>...</td>\n",
       "    </tr>\n",
       "    <tr>\n",
       "      <th>38539</th>\n",
       "      <td>38539</td>\n",
       "      <td>123_44</td>\n",
       "      <td>0.153192</td>\n",
       "      <td>10.33410</td>\n",
       "      <td>123</td>\n",
       "      <td>2</td>\n",
       "      <td>1</td>\n",
       "      <td>0</td>\n",
       "      <td>0</td>\n",
       "    </tr>\n",
       "    <tr>\n",
       "      <th>38540</th>\n",
       "      <td>38540</td>\n",
       "      <td>123_45</td>\n",
       "      <td>0.153192</td>\n",
       "      <td>10.33410</td>\n",
       "      <td>123</td>\n",
       "      <td>2</td>\n",
       "      <td>1</td>\n",
       "      <td>0</td>\n",
       "      <td>0</td>\n",
       "    </tr>\n",
       "    <tr>\n",
       "      <th>38541</th>\n",
       "      <td>38541</td>\n",
       "      <td>123_46</td>\n",
       "      <td>0.153192</td>\n",
       "      <td>10.33410</td>\n",
       "      <td>123</td>\n",
       "      <td>2</td>\n",
       "      <td>1</td>\n",
       "      <td>0</td>\n",
       "      <td>0</td>\n",
       "    </tr>\n",
       "    <tr>\n",
       "      <th>38542</th>\n",
       "      <td>38542</td>\n",
       "      <td>123_47</td>\n",
       "      <td>0.153192</td>\n",
       "      <td>10.33410</td>\n",
       "      <td>123</td>\n",
       "      <td>2</td>\n",
       "      <td>1</td>\n",
       "      <td>0</td>\n",
       "      <td>0</td>\n",
       "    </tr>\n",
       "    <tr>\n",
       "      <th>38543</th>\n",
       "      <td>38543</td>\n",
       "      <td>123_48</td>\n",
       "      <td>0.153192</td>\n",
       "      <td>10.33410</td>\n",
       "      <td>123</td>\n",
       "      <td>2</td>\n",
       "      <td>1</td>\n",
       "      <td>0</td>\n",
       "      <td>0</td>\n",
       "    </tr>\n",
       "  </tbody>\n",
       "</table>\n",
       "<p>38544 rows × 9 columns</p>\n",
       "</div>"
      ],
      "text/plain": [
       "       index market_ids      educ    income  store  nodes  weights  nodes0  \\\n",
       "0          0        2_1  0.248935  10.55321      2      2        1       0   \n",
       "1          1        2_2  0.248935  10.55321      2      2        1       0   \n",
       "2          2        2_3  0.248935  10.55321      2      2        1       0   \n",
       "3          3        2_4  0.248935  10.55321      2      2        1       0   \n",
       "4          4        2_5  0.248935  10.55321      2      2        1       0   \n",
       "...      ...        ...       ...       ...    ...    ...      ...     ...   \n",
       "38539  38539     123_44  0.153192  10.33410    123      2        1       0   \n",
       "38540  38540     123_45  0.153192  10.33410    123      2        1       0   \n",
       "38541  38541     123_46  0.153192  10.33410    123      2        1       0   \n",
       "38542  38542     123_47  0.153192  10.33410    123      2        1       0   \n",
       "38543  38543     123_48  0.153192  10.33410    123      2        1       0   \n",
       "\n",
       "       nodes1  \n",
       "0           0  \n",
       "1           0  \n",
       "2           0  \n",
       "3           0  \n",
       "4           0  \n",
       "...       ...  \n",
       "38539       0  \n",
       "38540       0  \n",
       "38541       0  \n",
       "38542       0  \n",
       "38543       0  \n",
       "\n",
       "[38544 rows x 9 columns]"
      ]
     },
     "execution_count": 108,
     "metadata": {},
     "output_type": "execute_result"
    }
   ],
   "source": [
    "# add these things in to the agent data\n",
    "agent_data['nodes0'] = 0\n",
    "agent_data['nodes1'] = 0\n",
    "agent_data['weights'] = 1\n",
    "agent_data"
   ]
  },
  {
   "cell_type": "code",
   "execution_count": 102,
   "metadata": {},
   "outputs": [
    {
     "data": {
      "text/plain": [
       "income + educ"
      ]
     },
     "execution_count": 102,
     "metadata": {},
     "output_type": "execute_result"
    }
   ],
   "source": [
    "# product formulation and agent formulation\n",
    "X1_formulation = pyblp.Formulation('0 + prices + prom_', absorb='C(product)')\n",
    "X2_formulation = pyblp.Formulation('1 + prices')\n",
    "\n",
    "product_formulations = (X1_formulation, X2_formulation)\n",
    "product_formulations\n",
    "agent_formulation = pyblp.Formulation('0 + income + educ')\n",
    "agent_formulation"
   ]
  },
  {
   "cell_type": "code",
   "execution_count": 112,
   "metadata": {},
   "outputs": [
    {
     "data": {
      "text/plain": [
       "Dimensions:\n",
       "==============================================\n",
       " T      N     I     K1    K2    D    MD    ED \n",
       "----  -----  ----  ----  ----  ---  ----  ----\n",
       "3504  38544  3504   2     2     2    1     1  \n",
       "==============================================\n",
       "\n",
       "Formulations:\n",
       "=============================================\n",
       "       Column Indices:           0       1   \n",
       "-----------------------------  ------  ------\n",
       " X1: Linear Characteristics    prices  prom_ \n",
       "X2: Nonlinear Characteristics    1     prices\n",
       "       d: Demographics         income   educ \n",
       "============================================="
      ]
     },
     "execution_count": 112,
     "metadata": {},
     "output_type": "execute_result"
    }
   ],
   "source": [
    "meds_problem = pyblp.Problem(\n",
    "    product_formulations,\n",
    "    product_data,\n",
    "    agent_formulation,\n",
    "    agent_data,\n",
    "    integration=mc_integration,\n",
    ")\n",
    "meds_problem"
   ]
  },
  {
   "cell_type": "code",
   "execution_count": 114,
   "metadata": {},
   "outputs": [
    {
     "name": "stderr",
     "output_type": "stream",
     "text": [
      "The model may be under-identified. The total number of unfixed parameters is 4, which is more than the total number of moments, 1. Consider checking whether instruments were properly specified when initializing the problem, and whether parameters were properly configured when solving the problem.\n"
     ]
    },
    {
     "name": "stdout",
     "output_type": "stream",
     "text": [
      "Problem Results Summary:\n",
      "==============================================================================================================\n",
      "GMM   Objective    Projected    Reduced Hessian  Reduced Hessian  Clipped  Weighting Matrix  Covariance Matrix\n",
      "Step    Value    Gradient Norm  Min Eigenvalue   Max Eigenvalue   Shares   Condition Number  Condition Number \n",
      "----  ---------  -------------  ---------------  ---------------  -------  ----------------  -----------------\n",
      " 2    +3.1E-26     +2.3E-13        -1.6E-07         +3.2E-08         0         +1.0E+00          +1.2E+18     \n",
      "==============================================================================================================\n",
      "\n",
      "Cumulative Statistics:\n",
      "===========================================================================\n",
      "Computation  Optimizer  Optimization   Objective   Fixed Point  Contraction\n",
      "   Time      Converged   Iterations   Evaluations  Iterations   Evaluations\n",
      "-----------  ---------  ------------  -----------  -----------  -----------\n",
      " 00:01:00       Yes          0             4          14440        51536   \n",
      "===========================================================================\n",
      "\n",
      "Nonlinear Coefficient Estimates (Robust SEs in Parentheses):\n",
      "=============================================================\n",
      "Sigma:      1         prices    |   Pi:     income     educ  \n",
      "------  ----------  ----------  |  ------  --------  --------\n",
      "  1      +1.0E+00               |    1     +0.0E+00  +0.0E+00\n",
      "        (+8.7E-04)              |                            \n",
      "                                |                            \n",
      "prices   +0.0E+00    +1.0E+00   |  prices  +0.0E+00  +0.0E+00\n",
      "                    (+3.9E-03)  |                            \n",
      "=============================================================\n",
      "\n",
      "Beta Estimates (Robust SEs in Parentheses):\n",
      "======================\n",
      "  prices      prom_   \n",
      "----------  ----------\n",
      " -1.4E-01    +4.6E-01 \n",
      "(+2.2E-02)  (+7.3E-02)\n",
      "======================\n"
     ]
    }
   ],
   "source": [
    "initial_sigma = np.eye(2)\n",
    "initial_pi = np.zeros((2, 2))\n",
    "meds_results = meds_problem.solve(initial_sigma, initial_pi)\n",
    "print(meds_results)"
   ]
  }
 ],
 "metadata": {
  "kernelspec": {
   "display_name": "Python 3",
   "language": "python",
   "name": "python3"
  },
  "language_info": {
   "codemirror_mode": {
    "name": "ipython",
    "version": 3
   },
   "file_extension": ".py",
   "mimetype": "text/x-python",
   "name": "python",
   "nbconvert_exporter": "python",
   "pygments_lexer": "ipython3",
   "version": "3.12.1"
  }
 },
 "nbformat": 4,
 "nbformat_minor": 2
}
