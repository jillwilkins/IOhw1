{
 "cells": [
  {
   "cell_type": "code",
   "execution_count": 87,
   "metadata": {},
   "outputs": [
    {
     "name": "stdout",
     "output_type": "stream",
     "text": [
      "   store  week  brand  sales_  count  price_  prom_  cost_\n",
      "0      2     1      1      16  14181    3.29    0.0   2.06\n",
      "1      2     2      1      12  13965    3.27    0.0   2.04\n",
      "2      2     3      1       6  13538    3.37    0.0   2.15\n",
      "3      2     4      1      12  13735    3.30    0.0   2.07\n",
      "4      2     5      1      10  13735    3.34    0.0   2.12\n",
      "   store      educ     income\n",
      "0      2  0.248935  10.553210\n",
      "1      5  0.321226  10.922370\n",
      "2      8  0.095173  10.597010\n",
      "3      9  0.222172  10.787150\n",
      "4     12  0.253413   9.996659\n"
     ]
    }
   ],
   "source": [
    "import pyblp\n",
    "import numpy as np\n",
    "import pandas as pd\n",
    "import statsmodels.api as sm\n",
    "import linearmodels as lm\n",
    "\n",
    "pyblp.options.digits = 2\n",
    "pyblp.options.verbose = False\n",
    "pyblp.__version__\n",
    "\n",
    "# Load the data \n",
    "sales_data = pd.read_csv(\"OTC_Sales.csv\", header=0, sep='\\t')\n",
    "print(sales_data.head())\n",
    "\n",
    "demo_data = pd.read_csv(\"OTC_Demographics.csv\", header=1)\n",
    "print(demo_data.head())"
   ]
  },
  {
   "cell_type": "code",
   "execution_count": 88,
   "metadata": {},
   "outputs": [
    {
     "name": "stdout",
     "output_type": "stream",
     "text": [
      "Market Share of Product_1: 14.88%\n",
      "Market Share of Product_2: 17.76%\n",
      "Market Share of Product_3: 11.65%\n",
      "Market Share of Product_4: 12.01%\n",
      "Market Share of Product_5: 7.71%\n",
      "Market Share of Product_6: 3.60%\n",
      "Market Share of Product_7: 4.33%\n",
      "Market Share of Product_8: 3.47%\n",
      "Market Share of Product_9: 8.16%\n",
      "Market Share of Product_10: 9.30%\n",
      "Market Share of Product_11: 7.13%\n"
     ]
    }
   ],
   "source": [
    "#QUESTION 1\n",
    "#Now, well start the calculations for the Sum Stats Table. \n",
    "#Market Shares \n",
    "#Note- for this table I want the market shares to be meaningful in terms of one another (headache medicine). \n",
    "# total sales per store-week \n",
    "sales_data[\"total_sales\"] = sales_data.groupby([\"store\", \"week\"])[\"sales_\"].transform(\"sum\")\n",
    "\n",
    "# market share: sales of product i / total sales in the store-week\n",
    "sales_data[\"market_share\"] = sales_data[\"sales_\"] / sales_data[\"total_sales\"]\n",
    "\n",
    "# Calculate market share for each product (brand)\n",
    "market_share = sales_data.groupby(\"brand\")[\"market_share\"].mean()\n",
    "\n",
    "# Print the market share for each product\n",
    "for brand, share in market_share.items():\n",
    "    print(f\"Market Share of Product_{brand}: {share:.2%}\")\n"
   ]
  },
  {
   "cell_type": "code",
   "execution_count": 89,
   "metadata": {},
   "outputs": [
    {
     "name": "stdout",
     "output_type": "stream",
     "text": [
      "Average Unit Price of Product_1: 3.42\n",
      "Average Unit Price of Product_2: 4.94\n",
      "Average Unit Price of Product_3: 7.02\n",
      "Average Unit Price of Product_4: 2.96\n",
      "Average Unit Price of Product_5: 5.15\n",
      "Average Unit Price of Product_6: 8.16\n",
      "Average Unit Price of Product_7: 2.67\n",
      "Average Unit Price of Product_8: 3.61\n",
      "Average Unit Price of Product_9: 3.97\n",
      "Average Unit Price of Product_10: 1.93\n",
      "Average Unit Price of Product_11: 4.45\n"
     ]
    }
   ],
   "source": [
    "#Unit Price (price per 1 bottle of a product)\n",
    "unit_price = sales_data.groupby(\"brand\")[\"price_\"].mean()\n",
    "\n",
    "# average unit price for each product \n",
    "for product, price in unit_price.items():\n",
    "    print(f\"Average Unit Price of Product_{product}: {price:.2f}\")\n"
   ]
  },
  {
   "cell_type": "code",
   "execution_count": 90,
   "metadata": {},
   "outputs": [
    {
     "name": "stdout",
     "output_type": "stream",
     "text": [
      "Price per 100 tablets of Product_1: 13.68\n",
      "Price per 100 tablets of Product_2: 9.88\n",
      "Price per 100 tablets of Product_3: 7.02\n",
      "Price per 100 tablets of Product_4: 11.85\n",
      "Price per 100 tablets of Product_5: 10.29\n",
      "Price per 100 tablets of Product_6: 8.16\n",
      "Price per 100 tablets of Product_7: 10.69\n",
      "Price per 100 tablets of Product_8: 7.21\n",
      "Price per 100 tablets of Product_9: 3.97\n",
      "Price per 100 tablets of Product_10: 3.86\n",
      "Price per 100 tablets of Product_11: 4.45\n"
     ]
    }
   ],
   "source": [
    "#price per 100 tablets \n",
    "price_per_100 = {}\n",
    "\n",
    "# Tablets per bottle for each product \n",
    "tablets_per_bottle = {\n",
    "    1: 25,  # Tylenol 25\n",
    "    2: 50,  # Tylenol 50\n",
    "    3: 100,  # Tylenol 100\n",
    "    4: 25,  # Advil 25\n",
    "    5: 50,  # Advil 50\n",
    "    6: 100,  # Advil 100\n",
    "    7: 25,  # Bayer 25\n",
    "    8: 50,  # Bayer 50\n",
    "    9: 100,  # Bayer 100\n",
    "    10: 50,  # Store Brand 50\n",
    "    11: 100  # Store Brand 100\n",
    "}\n",
    "\n",
    "# Calculate price per 100 tablets based on the number of tablets per bottle\n",
    "for product, price in unit_price.items():\n",
    "    if tablets_per_bottle[product] == 25:\n",
    "        price_per_100[product] = price * 4  \n",
    "    elif tablets_per_bottle[product] == 50:\n",
    "        price_per_100[product] = price * 2  \n",
    "    elif tablets_per_bottle[product] == 100:\n",
    "        price_per_100[product] = price  \n",
    "\n",
    "for product, price in price_per_100.items():\n",
    "    print(f\"Price per 100 tablets of Product_{product}: {price:.2f}\")\n"
   ]
  },
  {
   "cell_type": "code",
   "execution_count": 91,
   "metadata": {},
   "outputs": [
    {
     "name": "stdout",
     "output_type": "stream",
     "text": [
      "Average Wholesale Price of Product_1: 2.18\n",
      "Average Wholesale Price of Product_2: 3.67\n",
      "Average Wholesale Price of Product_3: 5.75\n",
      "Average Wholesale Price of Product_4: 2.03\n",
      "Average Wholesale Price of Product_5: 3.62\n",
      "Average Wholesale Price of Product_6: 6.09\n",
      "Average Wholesale Price of Product_7: 1.85\n",
      "Average Wholesale Price of Product_8: 2.42\n",
      "Average Wholesale Price of Product_9: 3.71\n",
      "Average Wholesale Price of Product_10: 0.91\n",
      "Average Wholesale Price of Product_11: 1.92\n"
     ]
    }
   ],
   "source": [
    "#unit wholesale price (this will be the avg cost of each product)\n",
    "unit_wholesale_price = sales_data.groupby(\"brand\")[\"cost_\"].mean()\n",
    "\n",
    "for product, cost in unit_wholesale_price.items():\n",
    "    print(f\"Average Wholesale Price of Product_{product}: {cost:.2f}\")\n"
   ]
  },
  {
   "cell_type": "code",
   "execution_count": 92,
   "metadata": {},
   "outputs": [
    {
     "name": "stdout",
     "output_type": "stream",
     "text": [
      "                            OLS Regression Results                            \n",
      "==============================================================================\n",
      "Dep. Variable:            logit_share   R-squared:                       0.016\n",
      "Model:                            OLS   Adj. R-squared:                  0.016\n",
      "Method:                 Least Squares   F-statistic:                     315.2\n",
      "Date:                Wed, 12 Feb 2025   Prob (F-statistic):          1.72e-136\n",
      "Time:                        02:57:29   Log-Likelihood:                -50711.\n",
      "No. Observations:               38544   AIC:                         1.014e+05\n",
      "Df Residuals:                   38541   BIC:                         1.015e+05\n",
      "Df Model:                           2                                         \n",
      "Covariance Type:            nonrobust                                         \n",
      "==============================================================================\n",
      "                 coef    std err          t      P>|t|      [0.025      0.975]\n",
      "------------------------------------------------------------------------------\n",
      "Intercept     -7.7660      0.012   -627.345      0.000      -7.790      -7.742\n",
      "price_        -0.0514      0.003    -20.194      0.000      -0.056      -0.046\n",
      "prom_          0.2130      0.016     13.074      0.000       0.181       0.245\n",
      "==============================================================================\n",
      "Omnibus:                     2323.526   Durbin-Watson:                   0.558\n",
      "Prob(Omnibus):                  0.000   Jarque-Bera (JB):             2372.728\n",
      "Skew:                          -0.566   Prob(JB):                         0.00\n",
      "Kurtosis:                       2.558   Cond. No.                         17.7\n",
      "==============================================================================\n",
      "\n",
      "Notes:\n",
      "[1] Standard Errors assume that the covariance matrix of the errors is correctly specified.\n"
     ]
    }
   ],
   "source": [
    "# QUESTION 2\n",
    "# part a\n",
    "# To calculate market share Sij, im going to calculate the total market size. \n",
    "# Sij will be the number who buy product i in market j /market size (count)\n",
    "sales_data[\"market_share\"] = sales_data[\"sales_\"] / sales_data[\"count\"]\n",
    "\n",
    "# outside option share S0j = (any buyer - buyers of headache medicine) / market size\n",
    "sales_data[\"outside_share\"] = 1 - sales_data.groupby([\"store\", \"week\"])[\"market_share\"].transform(\"sum\")\n",
    "\n",
    "# log market shares (log(s_ij) - log(s_0j))\n",
    "sales_data[\"logit_share\"] = np.log(sales_data[\"market_share\"]) - np.log(sales_data[\"outside_share\"])\n",
    "\n",
    "#i want to do this ols regression using the statsmodels \n",
    "formula = \"logit_share ~ 1+ price_ + prom_\"\n",
    "model = sm.OLS.from_formula(formula, data=sales_data)\n",
    "print(model.fit().summary())\n"
   ]
  },
  {
   "cell_type": "code",
   "execution_count": 93,
   "metadata": {},
   "outputs": [
    {
     "name": "stdout",
     "output_type": "stream",
     "text": [
      "int64\n",
      "store              int64\n",
      "week               int64\n",
      "brand              int64\n",
      "sales_             int64\n",
      "count              int64\n",
      "price_           float64\n",
      "prom_            float64\n",
      "cost_            float64\n",
      "total_sales        int64\n",
      "market_share     float64\n",
      "outside_share    float64\n",
      "logit_share      float64\n",
      "dtype: object\n"
     ]
    }
   ],
   "source": [
    "# Convert 'product' to numeric (if it's meant to be 1-11)\n",
    "sales_data[\"brand\"] = pd.to_numeric(sales_data[\"brand\"], errors=\"coerce\")\n",
    "# Check if the conversion worked\n",
    "print(sales_data[\"brand\"].dtype)  # Should now be int64 or float64\n",
    "print(sales_data.dtypes)\n"
   ]
  },
  {
   "cell_type": "code",
   "execution_count": 94,
   "metadata": {},
   "outputs": [
    {
     "name": "stdout",
     "output_type": "stream",
     "text": [
      "                            OLS Regression Results                            \n",
      "==============================================================================\n",
      "Dep. Variable:            logit_share   R-squared:                       0.460\n",
      "Model:                            OLS   Adj. R-squared:                  0.460\n",
      "Method:                 Least Squares   F-statistic:                     2733.\n",
      "Date:                Wed, 12 Feb 2025   Prob (F-statistic):               0.00\n",
      "Time:                        02:57:29   Log-Likelihood:                -39156.\n",
      "No. Observations:               38544   AIC:                         7.834e+04\n",
      "Df Residuals:                   38531   BIC:                         7.845e+04\n",
      "Df Model:                          12                                         \n",
      "Covariance Type:            nonrobust                                         \n",
      "==================================================================================\n",
      "                     coef    std err          t      P>|t|      [0.025      0.975]\n",
      "----------------------------------------------------------------------------------\n",
      "Intercept         -6.0709      0.036   -166.886      0.000      -6.142      -6.000\n",
      "C(brand)[T.2]      0.6895      0.022     31.003      0.000       0.646       0.733\n",
      "C(brand)[T.3]      0.9300      0.040     23.356      0.000       0.852       1.008\n",
      "C(brand)[T.4]     -0.4304      0.017    -25.950      0.000      -0.463      -0.398\n",
      "C(brand)[T.5]     -0.1929      0.024     -8.133      0.000      -0.239      -0.146\n",
      "C(brand)[T.6]      0.0032      0.051      0.063      0.949      -0.096       0.102\n",
      "C(brand)[T.7]     -1.6519      0.018    -94.051      0.000      -1.686      -1.618\n",
      "C(brand)[T.8]     -1.5924      0.016    -98.211      0.000      -1.624      -1.561\n",
      "C(brand)[T.9]     -0.5474      0.017    -31.674      0.000      -0.581      -0.514\n",
      "C(brand)[T.10]    -1.2057      0.022    -55.428      0.000      -1.248      -1.163\n",
      "C(brand)[T.11]    -0.7887      0.019    -41.078      0.000      -0.826      -0.751\n",
      "price_            -0.3416      0.010    -33.889      0.000      -0.361      -0.322\n",
      "prom_              0.3292      0.013     26.098      0.000       0.304       0.354\n",
      "==============================================================================\n",
      "Omnibus:                     2766.485   Durbin-Watson:                   1.024\n",
      "Prob(Omnibus):                  0.000   Jarque-Bera (JB):             3858.938\n",
      "Skew:                          -0.617   Prob(JB):                         0.00\n",
      "Kurtosis:                       3.939   Cond. No.                         112.\n",
      "==============================================================================\n",
      "\n",
      "Notes:\n",
      "[1] Standard Errors assume that the covariance matrix of the errors is correctly specified.\n"
     ]
    }
   ],
   "source": [
    "# question 2 part b\n",
    "# ols regression with price and promo as product characteristics and product fixed effects\n",
    "formula = \"logit_share ~ 1 + price_ + prom_ + C(brand)\"\n",
    "model = sm.OLS.from_formula(formula, data=sales_data)\n",
    "print(model.fit().summary())"
   ]
  },
  {
   "cell_type": "code",
   "execution_count": 95,
   "metadata": {},
   "outputs": [
    {
     "name": "stdout",
     "output_type": "stream",
     "text": [
      "                            OLS Regression Results                            \n",
      "==============================================================================\n",
      "Dep. Variable:            logit_share   R-squared:                       0.510\n",
      "Model:                            OLS   Adj. R-squared:                  0.509\n",
      "Method:                 Least Squares   F-statistic:                     476.9\n",
      "Date:                Wed, 12 Feb 2025   Prob (F-statistic):               0.00\n",
      "Time:                        02:57:30   Log-Likelihood:                -37268.\n",
      "No. Observations:               38544   AIC:                         7.471e+04\n",
      "Df Residuals:                   38459   BIC:                         7.543e+04\n",
      "Df Model:                          84                                         \n",
      "Covariance Type:            nonrobust                                         \n",
      "===================================================================================\n",
      "                      coef    std err          t      P>|t|      [0.025      0.975]\n",
      "-----------------------------------------------------------------------------------\n",
      "Intercept          -6.1382      0.045   -135.579      0.000      -6.227      -6.049\n",
      "C(brand)[T.2]       0.6548      0.021     30.693      0.000       0.613       0.697\n",
      "C(brand)[T.3]       0.8481      0.038     22.102      0.000       0.773       0.923\n",
      "C(brand)[T.4]      -0.4204      0.016    -26.565      0.000      -0.451      -0.389\n",
      "C(brand)[T.5]      -0.2323      0.023    -10.201      0.000      -0.277      -0.188\n",
      "C(brand)[T.6]      -0.1045      0.049     -2.144      0.032      -0.200      -0.009\n",
      "C(brand)[T.7]      -1.6357      0.017    -97.493      0.000      -1.669      -1.603\n",
      "C(brand)[T.8]      -1.5974      0.015   -103.340      0.000      -1.628      -1.567\n",
      "C(brand)[T.9]      -0.5610      0.017    -33.998      0.000      -0.593      -0.529\n",
      "C(brand)[T.10]     -1.1725      0.021    -56.215      0.000      -1.213      -1.132\n",
      "C(brand)[T.11]     -0.8125      0.018    -44.218      0.000      -0.848      -0.776\n",
      "C(store)[T.5]       0.1951      0.039      4.975      0.000       0.118       0.272\n",
      "C(store)[T.8]       0.0070      0.039      0.178      0.859      -0.070       0.084\n",
      "C(store)[T.9]      -0.1086      0.039     -2.768      0.006      -0.185      -0.032\n",
      "C(store)[T.12]     -0.0779      0.039     -1.987      0.047      -0.155      -0.001\n",
      "C(store)[T.14]      0.1670      0.039      4.260      0.000       0.090       0.244\n",
      "C(store)[T.18]      0.0613      0.039      1.563      0.118      -0.016       0.138\n",
      "C(store)[T.21]     -0.0342      0.039     -0.871      0.384      -0.111       0.043\n",
      "C(store)[T.28]     -0.0704      0.039     -1.794      0.073      -0.147       0.007\n",
      "C(store)[T.32]     -0.2313      0.039     -5.898      0.000      -0.308      -0.154\n",
      "C(store)[T.33]     -0.2807      0.039     -7.159      0.000      -0.358      -0.204\n",
      "C(store)[T.40]     -0.0728      0.039     -1.856      0.064      -0.150       0.004\n",
      "C(store)[T.44]      0.0017      0.039      0.043      0.966      -0.075       0.079\n",
      "C(store)[T.45]      0.0747      0.039      1.906      0.057      -0.002       0.152\n",
      "C(store)[T.47]     -0.1100      0.039     -2.804      0.005      -0.187      -0.033\n",
      "C(store)[T.48]      0.0516      0.039      1.315      0.188      -0.025       0.128\n",
      "C(store)[T.49]     -0.1541      0.039     -3.929      0.000      -0.231      -0.077\n",
      "C(store)[T.50]     -0.0386      0.039     -0.985      0.325      -0.116       0.038\n",
      "C(store)[T.51]      0.0687      0.039      1.751      0.080      -0.008       0.146\n",
      "C(store)[T.52]      0.0055      0.039      0.141      0.888      -0.071       0.082\n",
      "C(store)[T.53]     -0.2510      0.039     -6.402      0.000      -0.328      -0.174\n",
      "C(store)[T.54]      0.1145      0.039      2.921      0.003       0.038       0.191\n",
      "C(store)[T.56]     -0.0551      0.039     -1.404      0.160      -0.132       0.022\n",
      "C(store)[T.59]      0.0816      0.039      2.080      0.038       0.005       0.158\n",
      "C(store)[T.62]      0.3909      0.039      9.970      0.000       0.314       0.468\n",
      "C(store)[T.64]      0.1130      0.039      2.881      0.004       0.036       0.190\n",
      "C(store)[T.67]      0.0710      0.039      1.810      0.070      -0.006       0.148\n",
      "C(store)[T.68]     -0.3564      0.039     -9.089      0.000      -0.433      -0.280\n",
      "C(store)[T.70]     -0.0221      0.039     -0.564      0.573      -0.099       0.055\n",
      "C(store)[T.71]     -0.0699      0.039     -1.783      0.075      -0.147       0.007\n",
      "C(store)[T.72]     -0.2056      0.039     -5.245      0.000      -0.282      -0.129\n",
      "C(store)[T.73]     -0.1463      0.039     -3.731      0.000      -0.223      -0.069\n",
      "C(store)[T.74]      0.0489      0.039      1.246      0.213      -0.028       0.126\n",
      "C(store)[T.75]     -0.2672      0.039     -6.816      0.000      -0.344      -0.190\n",
      "C(store)[T.76]     -0.2894      0.039     -7.379      0.000      -0.366      -0.213\n",
      "C(store)[T.77]      0.0757      0.039      1.930      0.054      -0.001       0.153\n",
      "C(store)[T.78]     -0.1385      0.039     -3.529      0.000      -0.215      -0.062\n",
      "C(store)[T.80]      0.1252      0.039      3.193      0.001       0.048       0.202\n",
      "C(store)[T.81]     -0.1761      0.039     -4.491      0.000      -0.253      -0.099\n",
      "C(store)[T.83]     -0.0245      0.039     -0.625      0.532      -0.101       0.052\n",
      "C(store)[T.84]      0.1478      0.039      3.768      0.000       0.071       0.225\n",
      "C(store)[T.86]     -0.0458      0.039     -1.167      0.243      -0.123       0.031\n",
      "C(store)[T.89]     -0.5568      0.039    -14.197      0.000      -0.634      -0.480\n",
      "C(store)[T.90]     -0.3941      0.039    -10.048      0.000      -0.471      -0.317\n",
      "C(store)[T.91]     -0.1484      0.039     -3.782      0.000      -0.225      -0.071\n",
      "C(store)[T.92]     -0.1938      0.039     -4.941      0.000      -0.271      -0.117\n",
      "C(store)[T.93]     -0.0134      0.039     -0.343      0.732      -0.090       0.063\n",
      "C(store)[T.94]      0.1393      0.039      3.553      0.000       0.062       0.216\n",
      "C(store)[T.95]     -0.1868      0.039     -4.765      0.000      -0.264      -0.110\n",
      "C(store)[T.97]      0.0508      0.039      1.294      0.196      -0.026       0.128\n",
      "C(store)[T.98]      0.2022      0.039      5.150      0.000       0.125       0.279\n",
      "C(store)[T.100]    -0.0202      0.039     -0.515      0.607      -0.097       0.057\n",
      "C(store)[T.101]     0.2641      0.039      6.729      0.000       0.187       0.341\n",
      "C(store)[T.102]     0.1408      0.039      3.585      0.000       0.064       0.218\n",
      "C(store)[T.103]     0.0346      0.039      0.881      0.379      -0.042       0.112\n",
      "C(store)[T.104]     0.4368      0.039     11.140      0.000       0.360       0.514\n",
      "C(store)[T.105]     0.1883      0.039      4.796      0.000       0.111       0.265\n",
      "C(store)[T.106]     0.1506      0.039      3.840      0.000       0.074       0.227\n",
      "C(store)[T.107]     0.0599      0.039      1.528      0.127      -0.017       0.137\n",
      "C(store)[T.109]     0.2169      0.039      5.533      0.000       0.140       0.294\n",
      "C(store)[T.110]     0.2307      0.039      5.883      0.000       0.154       0.308\n",
      "C(store)[T.111]    -0.7142      0.039    -18.212      0.000      -0.791      -0.637\n",
      "C(store)[T.112]     0.3230      0.039      8.229      0.000       0.246       0.400\n",
      "C(store)[T.113]    -0.1780      0.039     -4.538      0.000      -0.255      -0.101\n",
      "C(store)[T.114]     0.0056      0.039      0.142      0.887      -0.071       0.083\n",
      "C(store)[T.115]     0.3678      0.039      9.372      0.000       0.291       0.445\n",
      "C(store)[T.116]     0.1110      0.039      2.830      0.005       0.034       0.188\n",
      "C(store)[T.117]    -0.0682      0.039     -1.739      0.082      -0.145       0.009\n",
      "C(store)[T.118]    -0.1939      0.039     -4.945      0.000      -0.271      -0.117\n",
      "C(store)[T.119]    -0.1135      0.039     -2.894      0.004      -0.190      -0.037\n",
      "C(store)[T.121]     0.2942      0.039      7.497      0.000       0.217       0.371\n",
      "C(store)[T.122]     0.2516      0.039      6.407      0.000       0.175       0.329\n",
      "C(store)[T.123]    -0.0149      0.039     -0.380      0.704      -0.092       0.062\n",
      "price_             -0.3190      0.010    -32.765      0.000      -0.338      -0.300\n",
      "prom_               0.3350      0.012     27.836      0.000       0.311       0.359\n",
      "==============================================================================\n",
      "Omnibus:                     3131.113   Durbin-Watson:                   1.126\n",
      "Prob(Omnibus):                  0.000   Jarque-Bera (JB):             4616.587\n",
      "Skew:                          -0.653   Prob(JB):                         0.00\n",
      "Kurtosis:                       4.080   Cond. No.                         357.\n",
      "==============================================================================\n",
      "\n",
      "Notes:\n",
      "[1] Standard Errors assume that the covariance matrix of the errors is correctly specified.\n"
     ]
    }
   ],
   "source": [
    "# question 2 part c \n",
    "# ols regression with price and promo as product characteristics and product-store fixed effects\n",
    "formula = \"logit_share ~ 1 + price_ + prom_ + C(brand) + C(store)\"\n",
    "model = sm.OLS.from_formula(formula, data=sales_data)\n",
    "print(model.fit().summary())"
   ]
  },
  {
   "cell_type": "code",
   "execution_count": 96,
   "metadata": {},
   "outputs": [
    {
     "name": "stdout",
     "output_type": "stream",
     "text": [
      "PART D (a): IV (wholesale cost) Regression Results\n",
      "                          IV-2SLS Estimation Summary                          \n",
      "==============================================================================\n",
      "Dep. Variable:            logit_share   R-squared:                      0.0095\n",
      "Estimator:                    IV-2SLS   Adj. R-squared:                 0.0095\n",
      "No. Observations:               38544   F-statistic:                    254.71\n",
      "Date:                Wed, Feb 12 2025   P-value (F-stat)                0.0000\n",
      "Time:                        02:57:30   Distribution:                  chi2(2)\n",
      "Cov. Estimator:                robust                                         \n",
      "                                                                              \n",
      "                             Parameter Estimates                              \n",
      "==============================================================================\n",
      "            Parameter  Std. Err.     T-stat    P-value    Lower CI    Upper CI\n",
      "------------------------------------------------------------------------------\n",
      "Intercept     -7.9476     0.0136    -584.98     0.0000     -7.9742     -7.9210\n",
      "prom_          0.2361     0.0156     15.119     0.0000      0.2055      0.2667\n",
      "price_        -0.0106     0.0028    -3.7714     0.0002     -0.0161     -0.0051\n",
      "==============================================================================\n",
      "\n",
      "Endogenous: price_\n",
      "Instruments: cost_\n",
      "Robust Covariance (Heteroskedastic)\n",
      "Debiased: False\n"
     ]
    }
   ],
   "source": [
    "# question 2 part d (a)\n",
    "# iv regression \n",
    "\n",
    "from linearmodels.iv import IV2SLS\n",
    "\n",
    "formula = f\"logit_share ~ 1 + prom_ + [price_ ~ cost_]\"\n",
    "iv_wcost_a = IV2SLS.from_formula(formula, sales_data).fit()\n",
    "print(\"PART D (a): IV (wholesale cost) Regression Results\")\n",
    "print(iv_wcost_a.summary)"
   ]
  },
  {
   "cell_type": "code",
   "execution_count": 97,
   "metadata": {},
   "outputs": [
    {
     "name": "stdout",
     "output_type": "stream",
     "text": [
      "PART D (b): IV (wholesale cost) Regression Results\n",
      "                          IV-2SLS Estimation Summary                          \n",
      "==============================================================================\n",
      "Dep. Variable:            logit_share   R-squared:                      0.4445\n",
      "Estimator:                    IV-2SLS   Adj. R-squared:                 0.4444\n",
      "No. Observations:               38544   F-statistic:                 4.319e+04\n",
      "Date:                Wed, Feb 12 2025   P-value (F-stat)                0.0000\n",
      "Time:                        02:57:30   Distribution:                 chi2(12)\n",
      "Cov. Estimator:                robust                                         \n",
      "                                                                              \n",
      "                             Parameter Estimates                              \n",
      "==============================================================================\n",
      "            Parameter  Std. Err.     T-stat    P-value    Lower CI    Upper CI\n",
      "------------------------------------------------------------------------------\n",
      "Intercept     -7.2116     0.0652    -110.56     0.0000     -7.3394     -7.0837\n",
      "prom_          0.4304     0.0145     29.766     0.0000      0.4020      0.4587\n",
      "brand_2        0.1791     0.0309     5.7961     0.0000      0.1186      0.2397\n",
      "brand_3       -0.2729     0.0698    -3.9108     0.0001     -0.4097     -0.1362\n",
      "brand_4       -0.2837     0.0147    -19.337     0.0000     -0.3125     -0.2550\n",
      "brand_5       -0.7712     0.0359    -21.509     0.0000     -0.8415     -0.7009\n",
      "brand_6       -1.5791     0.0915    -17.264     0.0000     -1.7583     -1.3998\n",
      "brand_7       -1.4154     0.0181    -78.122     0.0000     -1.4509     -1.3799\n",
      "brand_8       -1.6679     0.0137    -121.70     0.0000     -1.6948     -1.6411\n",
      "brand_9       -0.7496     0.0169    -44.383     0.0000     -0.7827     -0.7165\n",
      "brand_10      -0.7203     0.0321    -22.455     0.0000     -0.7832     -0.6574\n",
      "brand_11      -1.1387     0.0283    -40.290     0.0000     -1.1941     -1.0833\n",
      "price_        -0.0091     0.0189    -0.4791     0.6318     -0.0462      0.0280\n",
      "==============================================================================\n",
      "\n",
      "Endogenous: price_\n",
      "Instruments: cost_\n",
      "Robust Covariance (Heteroskedastic)\n",
      "Debiased: False\n"
     ]
    }
   ],
   "source": [
    "# question 2 part d (b)\n",
    "# iv regression with product fixed effects \n",
    "otc_brands = pd.get_dummies(sales_data, columns = [\"brand\"], drop_first=True)\n",
    "fixed_effects = \" + \".join([col for col in otc_brands.columns if col.startswith(\"brand_\")]) \n",
    "\n",
    "formula = f\"logit_share ~ 1 + prom_ + {fixed_effects} + [price_ ~ cost_]\"\n",
    "iv_wcost_b = IV2SLS.from_formula(formula, otc_brands).fit()\n",
    "print(\"PART D (b): IV (wholesale cost) Regression Results\")\n",
    "print(iv_wcost_b.summary)"
   ]
  },
  {
   "cell_type": "code",
   "execution_count": 98,
   "metadata": {},
   "outputs": [],
   "source": [
    "# question 2 part d (c)\n",
    "# iv regression with product fixed effects \n",
    "sales_data[\"brand_store\"] = sales_data[\"brand\"].astype(str) + \"_\" + sales_data[\"store\"].astype(str)\n",
    "otc_brand_store = pd.get_dummies(sales_data, columns = [\"brand_store\"], drop_first=True)\n",
    "fixed_effects = \" + \".join([col for col in otc_brand_store.columns if col.startswith(\"brand_store_\")])\n",
    "\n",
    "formula = f\"logit_share ~ 1 + prom_ + {fixed_effects} + [price_ ~ cost_]\"\n",
    "# iv_wcost_c = IV2SLS.from_formula(formula, otc_brand_store).fit()\n",
    "# print(\"PART D (c): IV (wholesale cost) Regression Results\")\n",
    "# print(iv_wcost_c.summary)\n",
    "# NOTE: I am not running this because it was crashing my kernel every time I tried to run it."
   ]
  },
  {
   "cell_type": "code",
   "execution_count": 100,
   "metadata": {},
   "outputs": [
    {
     "name": "stdout",
     "output_type": "stream",
     "text": [
      "PART E (a): Hausman IV Regression Results\n",
      "                          IV-2SLS Estimation Summary                          \n",
      "==============================================================================\n",
      "Dep. Variable:            logit_share   R-squared:                     -0.4353\n",
      "Estimator:                    IV-2SLS   Adj. R-squared:                -0.4354\n",
      "No. Observations:               38544   F-statistic:                    228.87\n",
      "Date:                Wed, Feb 12 2025   P-value (F-stat)                0.0000\n",
      "Time:                        02:57:47   Distribution:                  chi2(2)\n",
      "Cov. Estimator:                robust                                         \n",
      "                                                                              \n",
      "                             Parameter Estimates                              \n",
      "==============================================================================\n",
      "            Parameter  Std. Err.     T-stat    P-value    Lower CI    Upper CI\n",
      "------------------------------------------------------------------------------\n",
      "Intercept     -6.2580     0.2071    -30.213     0.0000     -6.6640     -5.8521\n",
      "prom_          0.0216     0.0330     0.6546     0.5127     -0.0431      0.0863\n",
      "price_        -0.3900     0.0465    -8.3933     0.0000     -0.4811     -0.2989\n",
      "==============================================================================\n",
      "\n",
      "Endogenous: price_\n",
      "Instruments: hausman_iv\n",
      "Robust Covariance (Heteroskedastic)\n",
      "Debiased: False\n"
     ]
    }
   ],
   "source": [
    "#PART E (a)\n",
    "# estimate a, b, c with Hausman instrument (average price in other markets)\n",
    "#---------------------------------------------------------------------------#\n",
    "\n",
    "# Define Hausman instrument (average price in other markets)\n",
    "hausman_iv = sales_data.groupby([\"week\", \"store\"])[\"price_\"].transform(\"mean\")\n",
    "\n",
    "# part a with hausman instrument \n",
    "formula = f\"logit_share ~ 1 + prom_ + [price_ ~ hausman_iv]\"\n",
    "iv_hi_a = IV2SLS.from_formula(formula, sales_data).fit()\n",
    "\n",
    "print(\"PART E (a): Hausman IV Regression Results\")\n",
    "print(iv_hi_a.summary)"
   ]
  },
  {
   "cell_type": "code",
   "execution_count": null,
   "metadata": {},
   "outputs": [],
   "source": [
    "#PART E (b)\n",
    "# estimate a, b, c with Hausman instrument (average price in other markets)\n",
    "#---------------------------------------------------------------------------#\n",
    "# part b with hausman instrument with product fixed effects \n",
    "otc_brands = pd.get_dummies(sales_data, columns = [\"brand\"], drop_first=True)\n",
    "fixed_effects = \" + \".join([col for col in otc_brands.columns if col.startswith(\"brand_\")]) \n",
    "\n",
    "formula = f\"logit_share ~ 1 + prom_ + [price_ ~ hausman_iv] + {fixed_effects}\"\n",
    "iv_hi_b = IV2SLS.from_formula(formula, sales_data).fit()\n",
    "\n",
    "print(\"\\n### PART E (b): Hausman IV Regression with Product Fixed Effects ###\")\n",
    "print(iv_hi_b.summary)"
   ]
  },
  {
   "cell_type": "code",
   "execution_count": null,
   "metadata": {},
   "outputs": [],
   "source": [
    "#PART E (c)\n",
    "#NOTE: I am not running this because it was crashing my kernel every time I tried to run it.\n",
    "\n",
    "# estimate a, b, c with Hausman instrument (average price in other markets)\n",
    "#---------------------------------------------------------------------------#\n",
    "# part c with hausman instrument with product-store fixed effects \n",
    "#sales_data[\"brand_store\"] = sales_data[\"brand\"].astype(str) + \"_\" + sales_data[\"store\"].astype(str)\n",
    "#otc_brand_store = pd.get_dummies(sales_data, columns = [\"brand_store\"], drop_first=True)\n",
    "#fixed_effects = \" + \".join([col for col in otc_brand_store.columns if col.startswith(\"brand_store_\")])\n",
    "\n",
    "#formula = f\"logit_share ~ 1 + prom_ + [price_ ~ hausman_iv] + {fixed_effects}\"\n",
    "#iv_hi_c = IV2SLS.from_formula(formula, sales_data).fit()\n",
    "\n",
    "#print(\"\\n### PART E (c): Hausman IV Regression with Product-Store Fixed Effects ###\")\n",
    "#print(iv_hi_c.summary())"
   ]
  },
  {
   "cell_type": "code",
   "execution_count": 29,
   "metadata": {},
   "outputs": [
    {
     "name": "stdout",
     "output_type": "stream",
     "text": [
      "Mean Own-Price Elasticities (a)\n",
      "brand\n",
      "1    -0.036319\n",
      "2    -0.052466\n",
      "3    -0.074508\n",
      "4    -0.031472\n",
      "5    -0.054650\n",
      "6    -0.086691\n",
      "7    -0.028398\n",
      "8    -0.038324\n",
      "9    -0.042132\n",
      "10   -0.020482\n",
      "11   -0.047239\n",
      "Name: elasticity_a, dtype: float64\n"
     ]
    }
   ],
   "source": [
    "# Question 2, part G\n",
    "# use the analytic formula for elasticity of the logit model to compute the mean own price elasticity of demand for each product in the market \n",
    "# using the estimates from part a, b, and c.\n",
    "# own price elasticity = alpha * price * (1 - market share)\n",
    "alpha_a = iv_wcost_a.params[\"price_\"]\n",
    "sales_data[\"elasticity_a\"] = alpha_a * sales_data[\"price_\"] * (1 - sales_data[\"market_share\"])\n",
    "mean_elasticity_a = sales_data.groupby(\"brand\")[\"elasticity_a\"].mean()\n",
    "\n",
    "print(\"Mean Own-Price Elasticities (a)\")\n",
    "print(mean_elasticity_a)"
   ]
  },
  {
   "cell_type": "code",
   "execution_count": 30,
   "metadata": {},
   "outputs": [
    {
     "name": "stdout",
     "output_type": "stream",
     "text": [
      "Mean Own-Price Elasticities (b) \n",
      "brand\n",
      "1    -0.031011\n",
      "2    -0.044798\n",
      "3    -0.063619\n",
      "4    -0.026873\n",
      "5    -0.046663\n",
      "6    -0.074021\n",
      "7    -0.024248\n",
      "8    -0.032723\n",
      "9    -0.035975\n",
      "10   -0.017489\n",
      "11   -0.040335\n",
      "Name: elasticity_b, dtype: float64\n"
     ]
    }
   ],
   "source": [
    "# part G (b)\n",
    "alpha_b = iv_wcost_b.params[\"price_\"]\n",
    "sales_data[\"elasticity_b\"] = alpha_b * sales_data[\"price_\"] * (1 - sales_data[\"market_share\"])\n",
    "mean_elasticity_b = sales_data.groupby(\"brand\")[\"elasticity_b\"].mean()\n",
    "\n",
    "print(\"Mean Own-Price Elasticities (b) \")\n",
    "print(mean_elasticity_b)"
   ]
  },
  {
   "cell_type": "code",
   "execution_count": 31,
   "metadata": {},
   "outputs": [
    {
     "ename": "NameError",
     "evalue": "name 'iv_wcost_c' is not defined",
     "output_type": "error",
     "traceback": [
      "\u001b[0;31m---------------------------------------------------------------------------\u001b[0m",
      "\u001b[0;31mNameError\u001b[0m                                 Traceback (most recent call last)",
      "Cell \u001b[0;32mIn[31], line 2\u001b[0m\n\u001b[1;32m      1\u001b[0m \u001b[38;5;66;03m# part G (c)\u001b[39;00m\n\u001b[0;32m----> 2\u001b[0m alpha_c \u001b[38;5;241m=\u001b[39m \u001b[43miv_wcost_c\u001b[49m\u001b[38;5;241m.\u001b[39mparams[\u001b[38;5;124m\"\u001b[39m\u001b[38;5;124mprice_\u001b[39m\u001b[38;5;124m\"\u001b[39m]\n\u001b[1;32m      3\u001b[0m sales_data[\u001b[38;5;124m\"\u001b[39m\u001b[38;5;124melasticity_c\u001b[39m\u001b[38;5;124m\"\u001b[39m] \u001b[38;5;241m=\u001b[39m alpha_c \u001b[38;5;241m*\u001b[39m sales_data[\u001b[38;5;124m\"\u001b[39m\u001b[38;5;124mprice_\u001b[39m\u001b[38;5;124m\"\u001b[39m] \u001b[38;5;241m*\u001b[39m (\u001b[38;5;241m1\u001b[39m \u001b[38;5;241m-\u001b[39m sales_data[\u001b[38;5;124m\"\u001b[39m\u001b[38;5;124mmarket_share\u001b[39m\u001b[38;5;124m\"\u001b[39m])\n\u001b[1;32m      4\u001b[0m mean_elasticity_c \u001b[38;5;241m=\u001b[39m sales_data\u001b[38;5;241m.\u001b[39mgroupby(\u001b[38;5;124m\"\u001b[39m\u001b[38;5;124mbrand\u001b[39m\u001b[38;5;124m\"\u001b[39m)[\u001b[38;5;124m\"\u001b[39m\u001b[38;5;124melasticity_c\u001b[39m\u001b[38;5;124m\"\u001b[39m]\u001b[38;5;241m.\u001b[39mmean()\n",
      "\u001b[0;31mNameError\u001b[0m: name 'iv_wcost_c' is not defined"
     ]
    }
   ],
   "source": [
    "# part G (c)\n",
    "alpha_c = iv_wcost_c.params[\"price_\"]\n",
    "sales_data[\"elasticity_c\"] = alpha_c * sales_data[\"price_\"] * (1 - sales_data[\"market_share\"])\n",
    "mean_elasticity_c = sales_data.groupby(\"brand\")[\"elasticity_c\"].mean()\n",
    "\n",
    "print(\"Mean Own-Price Elasticities (c) \")\n",
    "print(mean_elasticity_c)"
   ]
  },
  {
   "cell_type": "code",
   "execution_count": 32,
   "metadata": {},
   "outputs": [
    {
     "name": "stdout",
     "output_type": "stream",
     "text": [
      "Sales Data Columns: Index(['store', 'week', 'brand', 'sales_', 'count', 'price_', 'prom_', 'cost_',\n",
      "       'total_sales', 'market_share', 'outside_share', 'logit_share',\n",
      "       'brand_store', 'elasticity_a', 'elasticity_b'],\n",
      "      dtype='object')\n",
      "Demographic Data Columns: Index(['store', 'educ', 'income'], dtype='object')\n"
     ]
    }
   ],
   "source": [
    "# QUESTION 3\n",
    "# Random Coefficients Logit Demand + BLP \n",
    "# formula for demand model: u_ijt = X_jt * beta + betaB_i * 1{branded product} + alpha_i * p_jt + xsi_jt + epsilon_ijt\n",
    "# i need to use the demographic data too \n",
    "print(\"Sales Data Columns:\", sales_data.columns)\n",
    "print(\"Demographic Data Columns:\", demo_data.columns)\n",
    "\n",
    "# Rename the column in the sales_data DataFrame\n",
    "sales_data.rename(columns={\"price_\": \"prices\"}, inplace=True)\n"
   ]
  },
  {
   "cell_type": "code",
   "execution_count": 33,
   "metadata": {},
   "outputs": [],
   "source": [
    "# part a \n",
    "# estimate the parameters of the mode (beta, alpha, sigma_b, sigman_i) using the BLP estimator \n",
    "# as instruments, use both cost and the prices of the same product in the same week at other stores, NOT just an average but a variable for each price at another store in the same period. \n",
    "# choose 30 other stores \n",
    "\n",
    "#for BLP, i need to define the market which i want to be a store/week combination\n",
    "# Define the market\n",
    "sales_data[\"market_ids\"] = sales_data[\"store\"].astype(str) + \"_\" + sales_data[\"week\"].astype(str)\n",
    "\n",
    "#Rename the DataFrame in accordance with the BLP requirements\n",
    "sales_data.rename(columns={\"price_\": \"prices\"}, inplace=True)\n",
    "product_data = sales_data.copy()\n",
    "product_data.rename(columns={\"market_share\": \"shares\"}, inplace=True)\n",
    "product_data.rename(columns={\"brand\": \"product\"}, inplace=True)\n",
    "\n",
    "#merge the demographic data with the product data based on store \n",
    "product_data = product_data.merge(demo_data, on=\"store\")\n",
    "\n",
    "# i need to create data frame, agent data including market_id, educ, income, store, week\n",
    "agent_data = product_data[[\"market_ids\", \"educ\", \"income\", \"store\",]].reset_index()\n",
    "\n",
    "# define demand instruments \n",
    "# i need to call the columns pricestore1 to pricestore30 of OTC_instruments.csv as a dataframe demand_instruments0\n",
    "demand_instruments = pd.read_csv(\"OTC_Instruments.csv\", header=1, sep='\\t')\n"
   ]
  },
  {
   "cell_type": "code",
   "execution_count": 34,
   "metadata": {},
   "outputs": [],
   "source": [
    "mc_integration = pyblp.Integration('monte_carlo', size=1, specification_options= {'seed': 0})"
   ]
  },
  {
   "cell_type": "code",
   "execution_count": 35,
   "metadata": {},
   "outputs": [],
   "source": [
    "# add these things in to the agent data\n",
    "agent_data['nodes0'] = 0\n",
    "agent_data['nodes1'] = 0\n",
    "agent_data['weights'] = 1\n",
    "# agent_data"
   ]
  },
  {
   "cell_type": "code",
   "execution_count": 36,
   "metadata": {},
   "outputs": [
    {
     "data": {
      "text/plain": [
       "income + educ"
      ]
     },
     "execution_count": 36,
     "metadata": {},
     "output_type": "execute_result"
    }
   ],
   "source": [
    "# product formulation and agent formulation\n",
    "X1_formulation = pyblp.Formulation('0 + prices + prom_', absorb='C(product)')\n",
    "X2_formulation = pyblp.Formulation('1 + prices')\n",
    "\n",
    "product_formulations = (X1_formulation, X2_formulation)\n",
    "product_formulations\n",
    "agent_formulation = pyblp.Formulation('0 + income + educ')\n",
    "agent_formulation"
   ]
  },
  {
   "cell_type": "code",
   "execution_count": 37,
   "metadata": {},
   "outputs": [
    {
     "data": {
      "text/plain": [
       "Dimensions:\n",
       "==============================================\n",
       " T      N     I     K1    K2    D    MD    ED \n",
       "----  -----  ----  ----  ----  ---  ----  ----\n",
       "3504  38544  3504   2     2     2    1     1  \n",
       "==============================================\n",
       "\n",
       "Formulations:\n",
       "=============================================\n",
       "       Column Indices:           0       1   \n",
       "-----------------------------  ------  ------\n",
       " X1: Linear Characteristics    prices  prom_ \n",
       "X2: Nonlinear Characteristics    1     prices\n",
       "       d: Demographics         income   educ \n",
       "============================================="
      ]
     },
     "execution_count": 37,
     "metadata": {},
     "output_type": "execute_result"
    }
   ],
   "source": [
    "meds_problem = pyblp.Problem(\n",
    "    product_formulations,\n",
    "    product_data,\n",
    "    agent_formulation,\n",
    "    agent_data,\n",
    "    integration=mc_integration,\n",
    ")\n",
    "meds_problem"
   ]
  },
  {
   "cell_type": "code",
   "execution_count": 38,
   "metadata": {},
   "outputs": [
    {
     "name": "stderr",
     "output_type": "stream",
     "text": [
      "The model may be under-identified. The total number of unfixed parameters is 4, which is more than the total number of moments, 1. Consider checking whether instruments were properly specified when initializing the problem, and whether parameters were properly configured when solving the problem.\n"
     ]
    },
    {
     "name": "stdout",
     "output_type": "stream",
     "text": [
      "Problem Results Summary:\n",
      "==============================================================================================================\n",
      "GMM   Objective    Projected    Reduced Hessian  Reduced Hessian  Clipped  Weighting Matrix  Covariance Matrix\n",
      "Step    Value    Gradient Norm  Min Eigenvalue   Max Eigenvalue   Shares   Condition Number  Condition Number \n",
      "----  ---------  -------------  ---------------  ---------------  -------  ----------------  -----------------\n",
      " 2    +3.1E-26     +2.3E-13        -1.6E-07         +3.2E-08         0         +1.0E+00          +1.2E+18     \n",
      "==============================================================================================================\n",
      "\n",
      "Cumulative Statistics:\n",
      "===========================================================================\n",
      "Computation  Optimizer  Optimization   Objective   Fixed Point  Contraction\n",
      "   Time      Converged   Iterations   Evaluations  Iterations   Evaluations\n",
      "-----------  ---------  ------------  -----------  -----------  -----------\n",
      " 00:01:01       Yes          0             4          14440        51536   \n",
      "===========================================================================\n",
      "\n",
      "Nonlinear Coefficient Estimates (Robust SEs in Parentheses):\n",
      "=============================================================\n",
      "Sigma:      1         prices    |   Pi:     income     educ  \n",
      "------  ----------  ----------  |  ------  --------  --------\n",
      "  1      +1.0E+00               |    1     +0.0E+00  +0.0E+00\n",
      "        (+8.7E-04)              |                            \n",
      "                                |                            \n",
      "prices   +0.0E+00    +1.0E+00   |  prices  +0.0E+00  +0.0E+00\n",
      "                    (+3.9E-03)  |                            \n",
      "=============================================================\n",
      "\n",
      "Beta Estimates (Robust SEs in Parentheses):\n",
      "======================\n",
      "  prices      prom_   \n",
      "----------  ----------\n",
      " -1.4E-01    +4.6E-01 \n",
      "(+2.2E-02)  (+7.3E-02)\n",
      "======================\n"
     ]
    }
   ],
   "source": [
    "initial_sigma = np.eye(2)\n",
    "initial_pi = np.zeros((2, 2))\n",
    "meds_results = meds_problem.solve(initial_sigma, initial_pi)\n",
    "print(meds_results)"
   ]
  },
  {
   "cell_type": "code",
   "execution_count": null,
   "metadata": {},
   "outputs": [
    {
     "name": "stdout",
     "output_type": "stream",
     "text": [
      "Mean Own-Price Elasticity for Store 9, Week 10: 1.1949609230430724\n",
      "Mean Cross-Price Elasticity for Store 9, Week 10: -0.00044594767101883775\n"
     ]
    }
   ],
   "source": [
    "# part b\n",
    "# Compute own price elasticities \n",
    "elasticities = meds_results.compute_elasticities('prices')\n",
    "\n",
    "# Extract elasticities for store 9 in week 10\n",
    "elasticities_store9_week10 = elasticities[(product_data['store'] == 9) & (product_data['week'] == 10)]\n",
    "# print(elasticities_store9_week10)\n",
    "\n",
    "#take the average for elasticities for store 9 in week 10 own price\n",
    "own_price_elasticities = np.diag(elasticities_store9_week10)\n",
    "# Compute the mean own-price elasticity\n",
    "mean_own_price_elasticity = own_price_elasticities.mean()\n",
    "print(\"Mean Own-Price Elasticity for Store 9, Week 10:\", mean_own_price_elasticity)\n",
    "\n",
    "# tale the average for elasticities for store 9 in week 10 cross price\n",
    "cross_price_elasticities = np.diag(elasticities_store9_week10, k=1)\n",
    "# Compute the mean cross-price elasticity\n",
    "mean_cross_price_elasticity = cross_price_elasticities.mean()\n",
    "print(\"Mean Cross-Price Elasticity for Store 9, Week 10:\", mean_cross_price_elasticity)"
   ]
  },
  {
   "cell_type": "code",
   "execution_count": null,
   "metadata": {},
   "outputs": [
    {
     "ename": "MemoryError",
     "evalue": "Unable to allocate 11.1 GiB for an array with shape (38544, 38544) and data type float64",
     "output_type": "error",
     "traceback": [
      "\u001b[0;31m---------------------------------------------------------------------------\u001b[0m",
      "\u001b[0;31mMemoryError\u001b[0m                               Traceback (most recent call last)",
      "Cell \u001b[0;32mIn[50], line 4\u001b[0m\n\u001b[1;32m      1\u001b[0m \u001b[38;5;66;03m# part c\u001b[39;00m\n\u001b[1;32m      2\u001b[0m \u001b[38;5;66;03m# Compute marginal costs\u001b[39;00m\n\u001b[1;32m      3\u001b[0m \u001b[38;5;66;03m# Compute marginal costs assuming each product is owned by a separate firm\u001b[39;00m\n\u001b[0;32m----> 4\u001b[0m marginal_costs \u001b[38;5;241m=\u001b[39m meds_results\u001b[38;5;241m.\u001b[39mcompute_costs(ownership\u001b[38;5;241m=\u001b[39m\u001b[43mnp\u001b[49m\u001b[38;5;241;43m.\u001b[39;49m\u001b[43meye\u001b[49m\u001b[43m(\u001b[49m\u001b[38;5;28;43mlen\u001b[39;49m\u001b[43m(\u001b[49m\u001b[43mproduct_data\u001b[49m\u001b[43m)\u001b[49m\u001b[43m)\u001b[49m)\n\u001b[1;32m      5\u001b[0m \u001b[38;5;66;03m# marginal cost for store 9, week 10\u001b[39;00m\n\u001b[1;32m      6\u001b[0m marginal_costs_store9_week10 \u001b[38;5;241m=\u001b[39m marginal_costs[(product_data[\u001b[38;5;124m'\u001b[39m\u001b[38;5;124mstore\u001b[39m\u001b[38;5;124m'\u001b[39m] \u001b[38;5;241m==\u001b[39m \u001b[38;5;241m9\u001b[39m) \u001b[38;5;241m&\u001b[39m (product_data[\u001b[38;5;124m'\u001b[39m\u001b[38;5;124mweek\u001b[39m\u001b[38;5;124m'\u001b[39m] \u001b[38;5;241m==\u001b[39m \u001b[38;5;241m10\u001b[39m)]\n",
      "File \u001b[0;32m~/.local/lib/python3.12/site-packages/numpy/lib/_twodim_base_impl.py:222\u001b[0m, in \u001b[0;36meye\u001b[0;34m(N, M, k, dtype, order, device, like)\u001b[0m\n\u001b[1;32m    220\u001b[0m \u001b[38;5;28;01mif\u001b[39;00m M \u001b[38;5;129;01mis\u001b[39;00m \u001b[38;5;28;01mNone\u001b[39;00m:\n\u001b[1;32m    221\u001b[0m     M \u001b[38;5;241m=\u001b[39m N\n\u001b[0;32m--> 222\u001b[0m m \u001b[38;5;241m=\u001b[39m \u001b[43mzeros\u001b[49m\u001b[43m(\u001b[49m\u001b[43m(\u001b[49m\u001b[43mN\u001b[49m\u001b[43m,\u001b[49m\u001b[43m \u001b[49m\u001b[43mM\u001b[49m\u001b[43m)\u001b[49m\u001b[43m,\u001b[49m\u001b[43m \u001b[49m\u001b[43mdtype\u001b[49m\u001b[38;5;241;43m=\u001b[39;49m\u001b[43mdtype\u001b[49m\u001b[43m,\u001b[49m\u001b[43m \u001b[49m\u001b[43morder\u001b[49m\u001b[38;5;241;43m=\u001b[39;49m\u001b[43morder\u001b[49m\u001b[43m,\u001b[49m\u001b[43m \u001b[49m\u001b[43mdevice\u001b[49m\u001b[38;5;241;43m=\u001b[39;49m\u001b[43mdevice\u001b[49m\u001b[43m)\u001b[49m\n\u001b[1;32m    223\u001b[0m \u001b[38;5;28;01mif\u001b[39;00m k \u001b[38;5;241m>\u001b[39m\u001b[38;5;241m=\u001b[39m M:\n\u001b[1;32m    224\u001b[0m     \u001b[38;5;28;01mreturn\u001b[39;00m m\n",
      "\u001b[0;31mMemoryError\u001b[0m: Unable to allocate 11.1 GiB for an array with shape (38544, 38544) and data type float64"
     ]
    }
   ],
   "source": [
    "# part c\n",
    "\n",
    "# NOTE: I received an error saying that I cannot run this because it cannot allocate the GiB required for the computation\n",
    "# Compute marginal costs assuming each product is owned by a separate firm\n",
    "# marginal_costs = meds_results.compute_costs(ownership=np.eye(len(product_data)))\n",
    "# marginal cost for store 9, week 10\n",
    "marginal_costs_store9_week10 = marginal_costs[(product_data['store'] == 9) & (product_data['week'] == 10)]\n",
    "print(marginal_costs_store9_week10)\n",
    "\n",
    "# wholesale costs for store 9, week 10\n",
    "wholesale_costs_store9_week10 = product_data.loc[\n",
    "    (product_data['store'] == 9) & (product_data['week'] == 10), 'wholesale_costs'\n",
    "]\n",
    "# Compute percentage difference\n",
    "cost_difference = (marginal_costs_store9_week10 - wholesale_costs_store9_week10) / wholesale_costs_store9_week10 * 100\n",
    "print(\"Percentage difference b/w mc and wholesale costs:\", cost_difference.mean(), \"%\")\n",
    "\n"
   ]
  },
  {
   "cell_type": "code",
   "execution_count": 74,
   "metadata": {},
   "outputs": [
    {
     "name": "stdout",
     "output_type": "stream",
     "text": [
      "      product  prices  new_prices  price_difference\n",
      "1737        4    2.83        2.83               0.0\n",
      "1785        5    5.29        5.29               0.0\n",
      "1833        6    8.39        8.39               0.0\n",
      "1881        7    2.71        2.71               0.0\n",
      "1929        8    3.34        3.34               0.0\n",
      "1977        9    3.97        3.97               0.0\n",
      "2025       10    1.69        1.69               0.0\n",
      "2073       11    4.49        4.49               0.0\n"
     ]
    },
    {
     "name": "stderr",
     "output_type": "stream",
     "text": [
      "The model may be under-identified. The total number of unfixed parameters is 1, which is more than the total number of moments, 0. Consider checking whether instruments were properly specified when initializing the problem, and whether parameters were properly configured when solving the problem.\n",
      "The model may be under-identified. The total number of unfixed parameters is 1, which is more than the total number of moments, 0. Consider checking whether instruments were properly specified when initializing the problem, and whether parameters were properly configured when solving the problem.\n"
     ]
    }
   ],
   "source": [
    "# QUESTION 4\n",
    "# Step 1: Define the subset for store 9, week 10\n",
    "market_data = product_data[(product_data[\"store\"] == 9) & (product_data[\"week\"] == 10)].copy()\n",
    "\n",
    "# Step 2: Define the logit demand model (no random coefficients)\n",
    "X1_formulation = pyblp.Formulation('0 + prices')  # No random coefficients\n",
    "product_formulations = (X1_formulation,)\n",
    "\n",
    "# Step 3: Define the problem\n",
    "logit_problem = pyblp.Problem(\n",
    "    product_formulations,\n",
    "    market_data\n",
    ")\n",
    "# Step 4: Estimate the model pre-merger\n",
    "logit_results = logit_problem.solve()\n",
    "\n",
    "# Step 5: Set merging firms (Tylenol, Advil, Bayer)\n",
    "merged_firms = {\n",
    "    \"1\": \"1\",\n",
    "    \"2\": \"1\",\n",
    "    \"3\": \"1\",\n",
    "    \"4\": \"1\",\n",
    "    \"5\": \"1\",\n",
    "    \"6\": \"1\",\n",
    "    \"7\": \"1\",\n",
    "    \"8\": \"1\",\n",
    "    \"9\": \"1\",\n",
    "    \"10\": \"10\",\n",
    "    \"11\": \"10\"\n",
    "}\n",
    "market_data[\"firm_ids\"] = market_data[\"product\"].replace(merged_firms)\n",
    "\n",
    "# Step 6: Re-solve the model under merger\n",
    "logit_problem_merger = pyblp.Problem(\n",
    "    product_formulations,\n",
    "    market_data\n",
    ")\n",
    "logit_results_merger = logit_problem_merger.solve()\n",
    "\n",
    "# Step 7: Compare prices before and after merger\n",
    "price_changes = market_data[[\"product\", \"prices\"]].copy()\n",
    "# Extract post-merger prices directly from the updated market data\n",
    "price_changes[\"new_prices\"] = logit_problem_merger.products.prices\n",
    "\n",
    "price_changes[\"price_difference\"] = price_changes[\"new_prices\"] - product_data[\"prices\"]\n",
    "\n",
    "print(price_changes)\n"
   ]
  },
  {
   "cell_type": "code",
   "execution_count": 64,
   "metadata": {},
   "outputs": [
    {
     "data": {
      "text/plain": [
       "income + educ"
      ]
     },
     "execution_count": 64,
     "metadata": {},
     "output_type": "execute_result"
    }
   ],
   "source": [
    "# Question 5 \n",
    "# My approach for this is to re-estimate the model with out tylenol and then compare the results with the previous estimates in question 3.\n",
    "# I want product_data just as before, but to remove any rows with Tylenol, product = 1, 2, or 3\n",
    "product_data_no_tylenol = product_data[~product_data[\"product\"].isin([1, 2, 3])].copy()\n",
    "\n",
    "#now to match the pyblp structure i need to rename the dataframe\n",
    "product_data = product_data_no_tylenol.copy()\n",
    "\n",
    "# I want to keep everything else the same as before\n",
    "agent_data = product_data[[\"market_ids\", \"educ\", \"income\", \"store\",]].reset_index()\n",
    "demand_instruments = pd.read_csv(\"OTC_Instruments.csv\", header=1, sep='\\t')\n",
    "mc_integration = pyblp.Integration('monte_carlo', size=1, specification_options= {'seed': 0})\n",
    "\n",
    "# add these things in to the agent data\n",
    "agent_data['nodes0'] = 0\n",
    "agent_data['nodes1'] = 0\n",
    "agent_data['weights'] = 1\n",
    "\n",
    "# product formulation and agent formulation\n",
    "X1_formulation = pyblp.Formulation('0 + prices + prom_', absorb='C(product)')\n",
    "X2_formulation = pyblp.Formulation('1 + prices')\n",
    "\n",
    "product_formulations = (X1_formulation, X2_formulation)\n",
    "product_formulations\n",
    "agent_formulation = pyblp.Formulation('0 + income + educ')\n",
    "agent_formulation\n"
   ]
  },
  {
   "cell_type": "code",
   "execution_count": 65,
   "metadata": {},
   "outputs": [
    {
     "data": {
      "text/plain": [
       "Dimensions:\n",
       "==============================================\n",
       " T      N     I     K1    K2    D    MD    ED \n",
       "----  -----  ----  ----  ----  ---  ----  ----\n",
       "3504  28032  3504   2     2     2    1     1  \n",
       "==============================================\n",
       "\n",
       "Formulations:\n",
       "=============================================\n",
       "       Column Indices:           0       1   \n",
       "-----------------------------  ------  ------\n",
       " X1: Linear Characteristics    prices  prom_ \n",
       "X2: Nonlinear Characteristics    1     prices\n",
       "       d: Demographics         income   educ \n",
       "============================================="
      ]
     },
     "execution_count": 65,
     "metadata": {},
     "output_type": "execute_result"
    }
   ],
   "source": [
    "notylenol_problem = pyblp.Problem(\n",
    "    product_formulations,\n",
    "    product_data,\n",
    "    agent_formulation,\n",
    "    agent_data,\n",
    "    integration=mc_integration,\n",
    ")\n",
    "notylenol_problem"
   ]
  },
  {
   "cell_type": "code",
   "execution_count": 66,
   "metadata": {},
   "outputs": [
    {
     "name": "stderr",
     "output_type": "stream",
     "text": [
      "The model may be under-identified. The total number of unfixed parameters is 4, which is more than the total number of moments, 1. Consider checking whether instruments were properly specified when initializing the problem, and whether parameters were properly configured when solving the problem.\n"
     ]
    },
    {
     "name": "stdout",
     "output_type": "stream",
     "text": [
      "Problem Results Summary:\n",
      "==============================================================================================================\n",
      "GMM   Objective    Projected    Reduced Hessian  Reduced Hessian  Clipped  Weighting Matrix  Covariance Matrix\n",
      "Step    Value    Gradient Norm  Min Eigenvalue   Max Eigenvalue   Shares   Condition Number  Condition Number \n",
      "----  ---------  -------------  ---------------  ---------------  -------  ----------------  -----------------\n",
      " 2    +3.5E-27     +1.2E-13        -4.0E-08         +2.7E-07         0         +1.0E+00            +INF       \n",
      "==============================================================================================================\n",
      "\n",
      "Cumulative Statistics:\n",
      "===========================================================================\n",
      "Computation  Optimizer  Optimization   Objective   Fixed Point  Contraction\n",
      "   Time      Converged   Iterations   Evaluations  Iterations   Evaluations\n",
      "-----------  ---------  ------------  -----------  -----------  -----------\n",
      " 00:00:59       Yes          0             4          14186        50398   \n",
      "===========================================================================\n",
      "\n",
      "Nonlinear Coefficient Estimates (Robust SEs in Parentheses):\n",
      "=============================================================\n",
      "Sigma:      1         prices    |   Pi:     income     educ  \n",
      "------  ----------  ----------  |  ------  --------  --------\n",
      "  1      +1.0E+00               |    1     +0.0E+00  +0.0E+00\n",
      "        (+4.9E-04)              |                            \n",
      "                                |                            \n",
      "prices   +0.0E+00    +1.0E+00   |  prices  +0.0E+00  +0.0E+00\n",
      "                    (+6.8E-03)  |                            \n",
      "=============================================================\n",
      "\n",
      "Beta Estimates (Robust SEs in Parentheses):\n",
      "======================\n",
      "  prices      prom_   \n",
      "----------  ----------\n",
      " -8.7E-02    +4.9E-01 \n",
      "(+1.4E-02)  (+8.0E-02)\n",
      "======================\n"
     ]
    }
   ],
   "source": [
    "initial_sigma = np.eye(2)\n",
    "initial_pi = np.zeros((2, 2))\n",
    "notylenol_problem_results = notylenol_problem.solve(initial_sigma, initial_pi)\n",
    "print(notylenol_problem_results)"
   ]
  },
  {
   "cell_type": "code",
   "execution_count": 69,
   "metadata": {},
   "outputs": [
    {
     "ename": "ValueError",
     "evalue": "Either firm IDs or an ownership matrix must have been specified.",
     "output_type": "error",
     "traceback": [
      "\u001b[0;31m---------------------------------------------------------------------------\u001b[0m",
      "\u001b[0;31mValueError\u001b[0m                                Traceback (most recent call last)",
      "Cell \u001b[0;32mIn[69], line 3\u001b[0m\n\u001b[1;32m      1\u001b[0m \u001b[38;5;66;03m# Somehow what i need though is to see the demand for the individual products, so I need to extract the demand for each product\u001b[39;00m\n\u001b[1;32m      2\u001b[0m \u001b[38;5;66;03m# Extract the demand for each product\u001b[39;00m\n\u001b[0;32m----> 3\u001b[0m demand \u001b[38;5;241m=\u001b[39m \u001b[43mnotylenol_problem_results\u001b[49m\u001b[38;5;241;43m.\u001b[39;49m\u001b[43mcompute_prices\u001b[49m\u001b[43m(\u001b[49m\u001b[43m)\u001b[49m\n\u001b[1;32m      4\u001b[0m demand\n",
      "File \u001b[0;32m~/.python/current/lib/python3.12/site-packages/pyblp/results/economy_results.py:740\u001b[0m, in \u001b[0;36mSimpleEconomyResults.compute_prices\u001b[0;34m(self, firm_ids, ownership, costs, prices, iteration, constant_costs, market_id)\u001b[0m\n\u001b[1;32m    738\u001b[0m prices \u001b[38;5;241m=\u001b[39m \u001b[38;5;28mself\u001b[39m\u001b[38;5;241m.\u001b[39m_coerce_optional_prices(prices, market_ids)\n\u001b[1;32m    739\u001b[0m iteration \u001b[38;5;241m=\u001b[39m \u001b[38;5;28mself\u001b[39m\u001b[38;5;241m.\u001b[39m_economy\u001b[38;5;241m.\u001b[39m_coerce_optional_prices_iteration(iteration)\n\u001b[0;32m--> 740\u001b[0m \u001b[38;5;28;01mreturn\u001b[39;00m \u001b[38;5;28;43mself\u001b[39;49m\u001b[38;5;241;43m.\u001b[39;49m\u001b[43m_combine_arrays\u001b[49m\u001b[43m(\u001b[49m\n\u001b[1;32m    741\u001b[0m \u001b[43m    \u001b[49m\u001b[43mEconomyResultsMarket\u001b[49m\u001b[38;5;241;43m.\u001b[39;49m\u001b[43msafely_compute_prices\u001b[49m\u001b[43m,\u001b[49m\u001b[43m \u001b[49m\u001b[43mmarket_ids\u001b[49m\u001b[43m,\u001b[49m\u001b[43m \u001b[49m\u001b[43mfixed_args\u001b[49m\u001b[38;5;241;43m=\u001b[39;49m\u001b[43m[\u001b[49m\u001b[43miteration\u001b[49m\u001b[43m,\u001b[49m\u001b[43m \u001b[49m\u001b[43mconstant_costs\u001b[49m\u001b[43m]\u001b[49m\u001b[43m,\u001b[49m\n\u001b[1;32m    742\u001b[0m \u001b[43m    \u001b[49m\u001b[43mmarket_args\u001b[49m\u001b[38;5;241;43m=\u001b[39;49m\u001b[43m[\u001b[49m\u001b[43mfirm_ids\u001b[49m\u001b[43m,\u001b[49m\u001b[43m \u001b[49m\u001b[43mownership\u001b[49m\u001b[43m,\u001b[49m\u001b[43m \u001b[49m\u001b[43mcosts\u001b[49m\u001b[43m,\u001b[49m\u001b[43m \u001b[49m\u001b[43mprices\u001b[49m\u001b[43m]\u001b[49m\n\u001b[1;32m    743\u001b[0m \u001b[43m\u001b[49m\u001b[43m)\u001b[49m\n",
      "File \u001b[0;32m~/.python/current/lib/python3.12/site-packages/pyblp/results/economy_results.py:1118\u001b[0m, in \u001b[0;36mEconomyResults._combine_arrays\u001b[0;34m(self, compute_market_results, market_ids, fixed_args, market_args, agent_data, integration)\u001b[0m\n\u001b[1;32m   1116\u001b[0m \u001b[38;5;28;01mif\u001b[39;00m market_ids\u001b[38;5;241m.\u001b[39msize \u001b[38;5;241m>\u001b[39m \u001b[38;5;241m1\u001b[39m:\n\u001b[1;32m   1117\u001b[0m     generator \u001b[38;5;241m=\u001b[39m output_progress(generator, market_ids\u001b[38;5;241m.\u001b[39msize, start_time)\n\u001b[0;32m-> 1118\u001b[0m \u001b[43m\u001b[49m\u001b[38;5;28;43;01mfor\u001b[39;49;00m\u001b[43m \u001b[49m\u001b[43mt\u001b[49m\u001b[43m,\u001b[49m\u001b[43m \u001b[49m\u001b[43m(\u001b[49m\u001b[43marray_t\u001b[49m\u001b[43m,\u001b[49m\u001b[43m \u001b[49m\u001b[43merrors_t\u001b[49m\u001b[43m)\u001b[49m\u001b[43m \u001b[49m\u001b[38;5;129;43;01min\u001b[39;49;00m\u001b[43m \u001b[49m\u001b[43mgenerator\u001b[49m\u001b[43m:\u001b[49m\n\u001b[1;32m   1119\u001b[0m \u001b[43m    \u001b[49m\u001b[43marray_mapping\u001b[49m\u001b[43m[\u001b[49m\u001b[43mt\u001b[49m\u001b[43m]\u001b[49m\u001b[43m \u001b[49m\u001b[38;5;241;43m=\u001b[39;49m\u001b[43m \u001b[49m\u001b[43mnp\u001b[49m\u001b[38;5;241;43m.\u001b[39;49m\u001b[43mc_\u001b[49m\u001b[43m[\u001b[49m\u001b[43marray_t\u001b[49m\u001b[43m]\u001b[49m\n\u001b[1;32m   1120\u001b[0m \u001b[43m    \u001b[49m\u001b[43merrors\u001b[49m\u001b[38;5;241;43m.\u001b[39;49m\u001b[43mextend\u001b[49m\u001b[43m(\u001b[49m\u001b[43merrors_t\u001b[49m\u001b[43m)\u001b[49m\n",
      "File \u001b[0;32m~/.python/current/lib/python3.12/site-packages/pyblp/utilities/basics.py:295\u001b[0m, in \u001b[0;36moutput_progress\u001b[0;34m(iterable, length, start_time)\u001b[0m\n\u001b[1;32m    293\u001b[0m elapsed \u001b[38;5;241m=\u001b[39m time\u001b[38;5;241m.\u001b[39mtime() \u001b[38;5;241m-\u001b[39m start_time\n\u001b[1;32m    294\u001b[0m next_minute \u001b[38;5;241m=\u001b[39m \u001b[38;5;28mint\u001b[39m(elapsed \u001b[38;5;241m/\u001b[39m \u001b[38;5;241m60\u001b[39m) \u001b[38;5;241m+\u001b[39m \u001b[38;5;241m1\u001b[39m\n\u001b[0;32m--> 295\u001b[0m \u001b[43m\u001b[49m\u001b[38;5;28;43;01mfor\u001b[39;49;00m\u001b[43m \u001b[49m\u001b[43mindex\u001b[49m\u001b[43m,\u001b[49m\u001b[43m \u001b[49m\u001b[43miterated\u001b[49m\u001b[43m \u001b[49m\u001b[38;5;129;43;01min\u001b[39;49;00m\u001b[43m \u001b[49m\u001b[38;5;28;43menumerate\u001b[39;49m\u001b[43m(\u001b[49m\u001b[43miterable\u001b[49m\u001b[43m)\u001b[49m\u001b[43m:\u001b[49m\n\u001b[1;32m    296\u001b[0m \u001b[43m    \u001b[49m\u001b[38;5;28;43;01myield\u001b[39;49;00m\u001b[43m \u001b[49m\u001b[43miterated\u001b[49m\n\u001b[1;32m    297\u001b[0m \u001b[43m    \u001b[49m\u001b[43melapsed\u001b[49m\u001b[43m \u001b[49m\u001b[38;5;241;43m=\u001b[39;49m\u001b[43m \u001b[49m\u001b[43mtime\u001b[49m\u001b[38;5;241;43m.\u001b[39;49m\u001b[43mtime\u001b[49m\u001b[43m(\u001b[49m\u001b[43m)\u001b[49m\u001b[43m \u001b[49m\u001b[38;5;241;43m-\u001b[39;49m\u001b[43m \u001b[49m\u001b[43mstart_time\u001b[49m\n",
      "File \u001b[0;32m~/.python/current/lib/python3.12/site-packages/pyblp/utilities/basics.py:164\u001b[0m, in \u001b[0;36m<genexpr>\u001b[0;34m(.0)\u001b[0m\n\u001b[1;32m    159\u001b[0m \u001b[38;5;250m\u001b[39m\u001b[38;5;124;03m\"\"\"Generate (key, method(*factory(key))) tuples for each key. The first element returned by factory is an instance\u001b[39;00m\n\u001b[1;32m    160\u001b[0m \u001b[38;5;124;03mof the class to which method is attached. If a process pool has been initialized, use multiprocessing; otherwise,\u001b[39;00m\n\u001b[1;32m    161\u001b[0m \u001b[38;5;124;03muse serial processing.\u001b[39;00m\n\u001b[1;32m    162\u001b[0m \u001b[38;5;124;03m\"\"\"\u001b[39;00m\n\u001b[1;32m    163\u001b[0m \u001b[38;5;28;01mif\u001b[39;00m pool \u001b[38;5;129;01mis\u001b[39;00m \u001b[38;5;28;01mNone\u001b[39;00m:\n\u001b[0;32m--> 164\u001b[0m     \u001b[38;5;28;01mreturn\u001b[39;00m (\u001b[43mgenerate_items_worker\u001b[49m\u001b[43m(\u001b[49m\u001b[43m(\u001b[49m\u001b[43mk\u001b[49m\u001b[43m,\u001b[49m\u001b[43m \u001b[49m\u001b[43mfactory\u001b[49m\u001b[43m(\u001b[49m\u001b[43mk\u001b[49m\u001b[43m)\u001b[49m\u001b[43m,\u001b[49m\u001b[43m \u001b[49m\u001b[43mmethod\u001b[49m\u001b[43m)\u001b[49m\u001b[43m)\u001b[49m \u001b[38;5;28;01mfor\u001b[39;00m k \u001b[38;5;129;01min\u001b[39;00m keys)\n\u001b[1;32m    165\u001b[0m \u001b[38;5;28;01mreturn\u001b[39;00m pool\u001b[38;5;241m.\u001b[39mimap_unordered(generate_items_worker, ((k, factory(k), method) \u001b[38;5;28;01mfor\u001b[39;00m k \u001b[38;5;129;01min\u001b[39;00m keys))\n",
      "File \u001b[0;32m~/.python/current/lib/python3.12/site-packages/pyblp/utilities/basics.py:173\u001b[0m, in \u001b[0;36mgenerate_items_worker\u001b[0;34m(args)\u001b[0m\n\u001b[1;32m    169\u001b[0m \u001b[38;5;250m\u001b[39m\u001b[38;5;124;03m\"\"\"Call the specified method of a class instance with any additional arguments. Return the associated key along with\u001b[39;00m\n\u001b[1;32m    170\u001b[0m \u001b[38;5;124;03mthe returned object.\u001b[39;00m\n\u001b[1;32m    171\u001b[0m \u001b[38;5;124;03m\"\"\"\u001b[39;00m\n\u001b[1;32m    172\u001b[0m key, (instance, \u001b[38;5;241m*\u001b[39mmethod_args), method \u001b[38;5;241m=\u001b[39m args\n\u001b[0;32m--> 173\u001b[0m \u001b[38;5;28;01mreturn\u001b[39;00m key, \u001b[43mmethod\u001b[49m\u001b[43m(\u001b[49m\u001b[43minstance\u001b[49m\u001b[43m,\u001b[49m\u001b[43m \u001b[49m\u001b[38;5;241;43m*\u001b[39;49m\u001b[43mmethod_args\u001b[49m\u001b[43m)\u001b[49m\n",
      "File \u001b[0;32m~/.python/current/lib/python3.12/site-packages/pyblp/utilities/basics.py:665\u001b[0m, in \u001b[0;36mNumericalErrorHandler.__call__.<locals>.wrapper\u001b[0;34m(*args, **kwargs)\u001b[0m\n\u001b[1;32m    663\u001b[0m \u001b[38;5;28;01mwith\u001b[39;00m np\u001b[38;5;241m.\u001b[39merrstate(divide\u001b[38;5;241m=\u001b[39m\u001b[38;5;124m'\u001b[39m\u001b[38;5;124mcall\u001b[39m\u001b[38;5;124m'\u001b[39m, over\u001b[38;5;241m=\u001b[39m\u001b[38;5;124m'\u001b[39m\u001b[38;5;124mcall\u001b[39m\u001b[38;5;124m'\u001b[39m, under\u001b[38;5;241m=\u001b[39m\u001b[38;5;124m'\u001b[39m\u001b[38;5;124mignore\u001b[39m\u001b[38;5;124m'\u001b[39m, invalid\u001b[38;5;241m=\u001b[39m\u001b[38;5;124m'\u001b[39m\u001b[38;5;124mcall\u001b[39m\u001b[38;5;124m'\u001b[39m):\n\u001b[1;32m    664\u001b[0m     np\u001b[38;5;241m.\u001b[39mseterrcall(detector)\n\u001b[0;32m--> 665\u001b[0m     returned \u001b[38;5;241m=\u001b[39m \u001b[43mdecorated\u001b[49m\u001b[43m(\u001b[49m\u001b[38;5;241;43m*\u001b[39;49m\u001b[43margs\u001b[49m\u001b[43m,\u001b[49m\u001b[43m \u001b[49m\u001b[38;5;241;43m*\u001b[39;49m\u001b[38;5;241;43m*\u001b[39;49m\u001b[43mkwargs\u001b[49m\u001b[43m)\u001b[49m\n\u001b[1;32m    666\u001b[0m \u001b[38;5;28;01mif\u001b[39;00m detector\u001b[38;5;241m.\u001b[39mdetected \u001b[38;5;129;01mis\u001b[39;00m \u001b[38;5;129;01mnot\u001b[39;00m \u001b[38;5;28;01mNone\u001b[39;00m:\n\u001b[1;32m    667\u001b[0m     returned[\u001b[38;5;241m-\u001b[39m\u001b[38;5;241m1\u001b[39m]\u001b[38;5;241m.\u001b[39mappend(detector\u001b[38;5;241m.\u001b[39mdetected)\n",
      "File \u001b[0;32m~/.python/current/lib/python3.12/site-packages/pyblp/markets/economy_results_market.py:293\u001b[0m, in \u001b[0;36mEconomyResultsMarket.safely_compute_prices\u001b[0;34m(self, iteration, constant_costs, firm_ids, ownership, costs, prices)\u001b[0m\n\u001b[1;32m    289\u001b[0m \u001b[38;5;250m\u001b[39m\u001b[38;5;124;03m\"\"\"Estimate equilibrium prices. By default, use unchanged firm IDs, use unchanged prices as starting values,\u001b[39;00m\n\u001b[1;32m    290\u001b[0m \u001b[38;5;124;03mand compute marginal costs, handling any numerical errors.\u001b[39;00m\n\u001b[1;32m    291\u001b[0m \u001b[38;5;124;03m\"\"\"\u001b[39;00m\n\u001b[1;32m    292\u001b[0m errors: List[Error] \u001b[38;5;241m=\u001b[39m []\n\u001b[0;32m--> 293\u001b[0m ownership_matrix \u001b[38;5;241m=\u001b[39m \u001b[38;5;28;43mself\u001b[39;49m\u001b[38;5;241;43m.\u001b[39;49m\u001b[43mget_ownership_matrix\u001b[49m\u001b[43m(\u001b[49m\u001b[43mfirm_ids\u001b[49m\u001b[43m,\u001b[49m\u001b[43m \u001b[49m\u001b[43mownership\u001b[49m\u001b[43m)\u001b[49m\n\u001b[1;32m    294\u001b[0m \u001b[38;5;28;01mif\u001b[39;00m costs \u001b[38;5;129;01mis\u001b[39;00m \u001b[38;5;28;01mNone\u001b[39;00m:\n\u001b[1;32m    295\u001b[0m     costs, costs_errors \u001b[38;5;241m=\u001b[39m \u001b[38;5;28mself\u001b[39m\u001b[38;5;241m.\u001b[39msafely_compute_costs()\n",
      "File \u001b[0;32m~/.python/current/lib/python3.12/site-packages/pyblp/markets/market.py:152\u001b[0m, in \u001b[0;36mMarket.get_ownership_matrix\u001b[0;34m(self, firm_ids, ownership)\u001b[0m\n\u001b[1;32m    150\u001b[0m \u001b[38;5;28;01mif\u001b[39;00m \u001b[38;5;28mself\u001b[39m\u001b[38;5;241m.\u001b[39mownership_matrix \u001b[38;5;129;01mis\u001b[39;00m \u001b[38;5;28;01mNone\u001b[39;00m:\n\u001b[1;32m    151\u001b[0m     \u001b[38;5;28;01mif\u001b[39;00m \u001b[38;5;28mself\u001b[39m\u001b[38;5;241m.\u001b[39mproducts\u001b[38;5;241m.\u001b[39mfirm_ids\u001b[38;5;241m.\u001b[39msize \u001b[38;5;241m==\u001b[39m \u001b[38;5;241m0\u001b[39m:\n\u001b[0;32m--> 152\u001b[0m         \u001b[38;5;28;01mraise\u001b[39;00m \u001b[38;5;167;01mValueError\u001b[39;00m(\u001b[38;5;124m\"\u001b[39m\u001b[38;5;124mEither firm IDs or an ownership matrix must have been specified.\u001b[39m\u001b[38;5;124m\"\u001b[39m)\n\u001b[1;32m    153\u001b[0m     \u001b[38;5;28mself\u001b[39m\u001b[38;5;241m.\u001b[39mownership_matrix \u001b[38;5;241m=\u001b[39m (\u001b[38;5;28mself\u001b[39m\u001b[38;5;241m.\u001b[39mproducts\u001b[38;5;241m.\u001b[39mfirm_ids \u001b[38;5;241m==\u001b[39m \u001b[38;5;28mself\u001b[39m\u001b[38;5;241m.\u001b[39mproducts\u001b[38;5;241m.\u001b[39mfirm_ids\u001b[38;5;241m.\u001b[39mT)\u001b[38;5;241m.\u001b[39mastype(options\u001b[38;5;241m.\u001b[39mdtype)\n\u001b[1;32m    154\u001b[0m \u001b[38;5;28;01mreturn\u001b[39;00m \u001b[38;5;28mself\u001b[39m\u001b[38;5;241m.\u001b[39mownership_matrix\n",
      "\u001b[0;31mValueError\u001b[0m: Either firm IDs or an ownership matrix must have been specified."
     ]
    }
   ],
   "source": [
    "# Somehow what i need though is to see the demand for the individual products, so I need to extract the demand for each product\n",
    "# Extract the demand for each product\n",
    "demand = notylenol_problem_results.compute_prices()\n",
    "demand"
   ]
  }
 ],
 "metadata": {
  "kernelspec": {
   "display_name": "Python 3",
   "language": "python",
   "name": "python3"
  },
  "language_info": {
   "codemirror_mode": {
    "name": "ipython",
    "version": 3
   },
   "file_extension": ".py",
   "mimetype": "text/x-python",
   "name": "python",
   "nbconvert_exporter": "python",
   "pygments_lexer": "ipython3",
   "version": "3.12.1"
  }
 },
 "nbformat": 4,
 "nbformat_minor": 2
}
